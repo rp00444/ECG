{
  "nbformat": 4,
  "nbformat_minor": 5,
  "metadata": {
    "kernelspec": {
      "display_name": "Python 3",
      "language": "python",
      "name": "python3"
    },
    "language_info": {
      "codemirror_mode": {
        "name": "ipython",
        "version": 3
      },
      "file_extension": ".py",
      "mimetype": "text/x-python",
      "name": "python",
      "nbconvert_exporter": "python",
      "pygments_lexer": "ipython3",
      "version": "3.8.5"
    },
    "colab": {
      "name": "upd Simple CNN model.ipynb",
      "provenance": [],
      "collapsed_sections": [],
      "toc_visible": true
    }
  },
  "cells": [
    {
      "cell_type": "markdown",
      "metadata": {
        "id": "Krx2UYszsOKj"
      },
      "source": [
        "### This notebook details the building of a CNN model that classifies ECG data."
      ],
      "id": "Krx2UYszsOKj"
    },
    {
      "cell_type": "code",
      "metadata": {
        "colab": {
          "base_uri": "https://localhost:8080/"
        },
        "id": "D8H50gjJsSg4",
        "outputId": "68b2b289-590e-4cb4-d306-20598142f526"
      },
      "source": [
        "from google.colab import drive\n",
        "drive.mount('/content/drive')"
      ],
      "id": "D8H50gjJsSg4",
      "execution_count": 1,
      "outputs": [
        {
          "output_type": "stream",
          "text": [
            "Mounted at /content/drive\n"
          ],
          "name": "stdout"
        }
      ]
    },
    {
      "cell_type": "markdown",
      "metadata": {
        "id": "AvVt4uZVsOKl"
      },
      "source": [
        "The chosen dataset is the [the MIT-BIH Arrhythmia Dataset](https://www.physionet.org/physiobank/database/mitdb/) for this task."
      ],
      "id": "AvVt4uZVsOKl"
    },
    {
      "cell_type": "markdown",
      "metadata": {
        "id": "GkNco4HhsOKm"
      },
      "source": [
        "### Importing the required libraries"
      ],
      "id": "GkNco4HhsOKm"
    },
    {
      "cell_type": "code",
      "metadata": {
        "colab": {
          "base_uri": "https://localhost:8080/"
        },
        "id": "AYhxTIQ4sovO",
        "outputId": "bab4303f-6b04-4326-f51e-e87b497a2a91"
      },
      "source": [
        "pip install scikit-plot"
      ],
      "id": "AYhxTIQ4sovO",
      "execution_count": 2,
      "outputs": [
        {
          "output_type": "stream",
          "text": [
            "Collecting scikit-plot\n",
            "  Downloading https://files.pythonhosted.org/packages/7c/47/32520e259340c140a4ad27c1b97050dd3254fdc517b1d59974d47037510e/scikit_plot-0.3.7-py3-none-any.whl\n",
            "Requirement already satisfied: scikit-learn>=0.18 in /usr/local/lib/python3.7/dist-packages (from scikit-plot) (0.22.2.post1)\n",
            "Requirement already satisfied: joblib>=0.10 in /usr/local/lib/python3.7/dist-packages (from scikit-plot) (1.0.1)\n",
            "Requirement already satisfied: scipy>=0.9 in /usr/local/lib/python3.7/dist-packages (from scikit-plot) (1.4.1)\n",
            "Requirement already satisfied: matplotlib>=1.4.0 in /usr/local/lib/python3.7/dist-packages (from scikit-plot) (3.2.2)\n",
            "Requirement already satisfied: numpy>=1.11.0 in /usr/local/lib/python3.7/dist-packages (from scikit-learn>=0.18->scikit-plot) (1.19.5)\n",
            "Requirement already satisfied: pyparsing!=2.0.4,!=2.1.2,!=2.1.6,>=2.0.1 in /usr/local/lib/python3.7/dist-packages (from matplotlib>=1.4.0->scikit-plot) (2.4.7)\n",
            "Requirement already satisfied: cycler>=0.10 in /usr/local/lib/python3.7/dist-packages (from matplotlib>=1.4.0->scikit-plot) (0.10.0)\n",
            "Requirement already satisfied: kiwisolver>=1.0.1 in /usr/local/lib/python3.7/dist-packages (from matplotlib>=1.4.0->scikit-plot) (1.3.1)\n",
            "Requirement already satisfied: python-dateutil>=2.1 in /usr/local/lib/python3.7/dist-packages (from matplotlib>=1.4.0->scikit-plot) (2.8.1)\n",
            "Requirement already satisfied: six in /usr/local/lib/python3.7/dist-packages (from cycler>=0.10->matplotlib>=1.4.0->scikit-plot) (1.15.0)\n",
            "Installing collected packages: scikit-plot\n",
            "Successfully installed scikit-plot-0.3.7\n"
          ],
          "name": "stdout"
        }
      ]
    },
    {
      "cell_type": "code",
      "metadata": {
        "id": "zVcnw87KsOKn"
      },
      "source": [
        "import pandas as pd\n",
        "import numpy as np\n",
        "import seaborn as sns\n",
        "import matplotlib.pyplot as plt\n",
        "\n",
        "from sklearn.model_selection import train_test_split\n",
        "from sklearn.metrics import confusion_matrix, roc_auc_score, roc_curve, classification_report,auc\n",
        "from sklearn.metrics import precision_recall_curve,roc_auc_score,roc_curve\n",
        "from scikitplot.metrics import plot_confusion_matrix, plot_roc\n",
        "from sklearn.preprocessing import label_binarize\n",
        "\n",
        "from keras.utils import to_categorical\n",
        "from keras.optimizers import Adam\n",
        "from keras.models import Sequential\n",
        "from keras.layers import Conv1D, MaxPool1D, Flatten, Dense, Dropout\n",
        "\n",
        "import pydot\n",
        "import graphviz\n",
        "import random\n",
        "\n",
        "import warnings\n",
        "warnings.filterwarnings('ignore')"
      ],
      "id": "zVcnw87KsOKn",
      "execution_count": 3,
      "outputs": []
    },
    {
      "cell_type": "markdown",
      "metadata": {
        "id": "gXjVCDh_sOKo"
      },
      "source": [
        "### Loading the training data"
      ],
      "id": "gXjVCDh_sOKo"
    },
    {
      "cell_type": "code",
      "metadata": {
        "id": "ijBPVlbMsOKo"
      },
      "source": [
        "df_train = pd.read_csv('/content/drive/MyDrive/MIT-BIH Arrhythmia Database /mitbih_train.csv',header=None)"
      ],
      "id": "ijBPVlbMsOKo",
      "execution_count": 7,
      "outputs": []
    },
    {
      "cell_type": "code",
      "metadata": {
        "colab": {
          "base_uri": "https://localhost:8080/",
          "height": 253
        },
        "id": "rXFH9NWtsOKp",
        "outputId": "1ddb3e59-17c6-4104-fdca-e019946063f3"
      },
      "source": [
        "df_train.head()"
      ],
      "id": "rXFH9NWtsOKp",
      "execution_count": 8,
      "outputs": [
        {
          "output_type": "execute_result",
          "data": {
            "text/html": [
              "<div>\n",
              "<style scoped>\n",
              "    .dataframe tbody tr th:only-of-type {\n",
              "        vertical-align: middle;\n",
              "    }\n",
              "\n",
              "    .dataframe tbody tr th {\n",
              "        vertical-align: top;\n",
              "    }\n",
              "\n",
              "    .dataframe thead th {\n",
              "        text-align: right;\n",
              "    }\n",
              "</style>\n",
              "<table border=\"1\" class=\"dataframe\">\n",
              "  <thead>\n",
              "    <tr style=\"text-align: right;\">\n",
              "      <th></th>\n",
              "      <th>0</th>\n",
              "      <th>1</th>\n",
              "      <th>2</th>\n",
              "      <th>3</th>\n",
              "      <th>4</th>\n",
              "      <th>5</th>\n",
              "      <th>6</th>\n",
              "      <th>7</th>\n",
              "      <th>8</th>\n",
              "      <th>9</th>\n",
              "      <th>10</th>\n",
              "      <th>11</th>\n",
              "      <th>12</th>\n",
              "      <th>13</th>\n",
              "      <th>14</th>\n",
              "      <th>15</th>\n",
              "      <th>16</th>\n",
              "      <th>17</th>\n",
              "      <th>18</th>\n",
              "      <th>19</th>\n",
              "      <th>20</th>\n",
              "      <th>21</th>\n",
              "      <th>22</th>\n",
              "      <th>23</th>\n",
              "      <th>24</th>\n",
              "      <th>25</th>\n",
              "      <th>26</th>\n",
              "      <th>27</th>\n",
              "      <th>28</th>\n",
              "      <th>29</th>\n",
              "      <th>30</th>\n",
              "      <th>31</th>\n",
              "      <th>32</th>\n",
              "      <th>33</th>\n",
              "      <th>34</th>\n",
              "      <th>35</th>\n",
              "      <th>36</th>\n",
              "      <th>37</th>\n",
              "      <th>38</th>\n",
              "      <th>39</th>\n",
              "      <th>...</th>\n",
              "      <th>148</th>\n",
              "      <th>149</th>\n",
              "      <th>150</th>\n",
              "      <th>151</th>\n",
              "      <th>152</th>\n",
              "      <th>153</th>\n",
              "      <th>154</th>\n",
              "      <th>155</th>\n",
              "      <th>156</th>\n",
              "      <th>157</th>\n",
              "      <th>158</th>\n",
              "      <th>159</th>\n",
              "      <th>160</th>\n",
              "      <th>161</th>\n",
              "      <th>162</th>\n",
              "      <th>163</th>\n",
              "      <th>164</th>\n",
              "      <th>165</th>\n",
              "      <th>166</th>\n",
              "      <th>167</th>\n",
              "      <th>168</th>\n",
              "      <th>169</th>\n",
              "      <th>170</th>\n",
              "      <th>171</th>\n",
              "      <th>172</th>\n",
              "      <th>173</th>\n",
              "      <th>174</th>\n",
              "      <th>175</th>\n",
              "      <th>176</th>\n",
              "      <th>177</th>\n",
              "      <th>178</th>\n",
              "      <th>179</th>\n",
              "      <th>180</th>\n",
              "      <th>181</th>\n",
              "      <th>182</th>\n",
              "      <th>183</th>\n",
              "      <th>184</th>\n",
              "      <th>185</th>\n",
              "      <th>186</th>\n",
              "      <th>187</th>\n",
              "    </tr>\n",
              "  </thead>\n",
              "  <tbody>\n",
              "    <tr>\n",
              "      <th>0</th>\n",
              "      <td>0.977941</td>\n",
              "      <td>0.926471</td>\n",
              "      <td>0.681373</td>\n",
              "      <td>0.245098</td>\n",
              "      <td>0.154412</td>\n",
              "      <td>0.191176</td>\n",
              "      <td>0.151961</td>\n",
              "      <td>0.085784</td>\n",
              "      <td>0.058824</td>\n",
              "      <td>0.049020</td>\n",
              "      <td>0.044118</td>\n",
              "      <td>0.061275</td>\n",
              "      <td>0.066176</td>\n",
              "      <td>0.061275</td>\n",
              "      <td>0.049020</td>\n",
              "      <td>0.073529</td>\n",
              "      <td>0.061275</td>\n",
              "      <td>0.061275</td>\n",
              "      <td>0.066176</td>\n",
              "      <td>0.068627</td>\n",
              "      <td>0.095588</td>\n",
              "      <td>0.075980</td>\n",
              "      <td>0.093137</td>\n",
              "      <td>0.105392</td>\n",
              "      <td>0.115196</td>\n",
              "      <td>0.102941</td>\n",
              "      <td>0.117647</td>\n",
              "      <td>0.125000</td>\n",
              "      <td>0.142157</td>\n",
              "      <td>0.127451</td>\n",
              "      <td>0.151961</td>\n",
              "      <td>0.144608</td>\n",
              "      <td>0.164216</td>\n",
              "      <td>0.144608</td>\n",
              "      <td>0.159314</td>\n",
              "      <td>0.151961</td>\n",
              "      <td>0.154412</td>\n",
              "      <td>0.142157</td>\n",
              "      <td>0.151961</td>\n",
              "      <td>0.151961</td>\n",
              "      <td>...</td>\n",
              "      <td>0.0</td>\n",
              "      <td>0.0</td>\n",
              "      <td>0.0</td>\n",
              "      <td>0.0</td>\n",
              "      <td>0.0</td>\n",
              "      <td>0.0</td>\n",
              "      <td>0.0</td>\n",
              "      <td>0.0</td>\n",
              "      <td>0.0</td>\n",
              "      <td>0.0</td>\n",
              "      <td>0.0</td>\n",
              "      <td>0.0</td>\n",
              "      <td>0.0</td>\n",
              "      <td>0.0</td>\n",
              "      <td>0.0</td>\n",
              "      <td>0.0</td>\n",
              "      <td>0.0</td>\n",
              "      <td>0.0</td>\n",
              "      <td>0.0</td>\n",
              "      <td>0.0</td>\n",
              "      <td>0.0</td>\n",
              "      <td>0.0</td>\n",
              "      <td>0.0</td>\n",
              "      <td>0.0</td>\n",
              "      <td>0.0</td>\n",
              "      <td>0.0</td>\n",
              "      <td>0.0</td>\n",
              "      <td>0.0</td>\n",
              "      <td>0.0</td>\n",
              "      <td>0.0</td>\n",
              "      <td>0.0</td>\n",
              "      <td>0.0</td>\n",
              "      <td>0.0</td>\n",
              "      <td>0.0</td>\n",
              "      <td>0.0</td>\n",
              "      <td>0.0</td>\n",
              "      <td>0.0</td>\n",
              "      <td>0.0</td>\n",
              "      <td>0.0</td>\n",
              "      <td>0.0</td>\n",
              "    </tr>\n",
              "    <tr>\n",
              "      <th>1</th>\n",
              "      <td>0.960114</td>\n",
              "      <td>0.863248</td>\n",
              "      <td>0.461538</td>\n",
              "      <td>0.196581</td>\n",
              "      <td>0.094017</td>\n",
              "      <td>0.125356</td>\n",
              "      <td>0.099715</td>\n",
              "      <td>0.088319</td>\n",
              "      <td>0.074074</td>\n",
              "      <td>0.082621</td>\n",
              "      <td>0.074074</td>\n",
              "      <td>0.062678</td>\n",
              "      <td>0.065527</td>\n",
              "      <td>0.065527</td>\n",
              "      <td>0.062678</td>\n",
              "      <td>0.076923</td>\n",
              "      <td>0.071225</td>\n",
              "      <td>0.082621</td>\n",
              "      <td>0.091168</td>\n",
              "      <td>0.096866</td>\n",
              "      <td>0.082621</td>\n",
              "      <td>0.082621</td>\n",
              "      <td>0.091168</td>\n",
              "      <td>0.105413</td>\n",
              "      <td>0.122507</td>\n",
              "      <td>0.148148</td>\n",
              "      <td>0.182336</td>\n",
              "      <td>0.193732</td>\n",
              "      <td>0.213675</td>\n",
              "      <td>0.207977</td>\n",
              "      <td>0.222222</td>\n",
              "      <td>0.253561</td>\n",
              "      <td>0.270655</td>\n",
              "      <td>0.287749</td>\n",
              "      <td>0.284900</td>\n",
              "      <td>0.293447</td>\n",
              "      <td>0.256410</td>\n",
              "      <td>0.247863</td>\n",
              "      <td>0.188034</td>\n",
              "      <td>0.145299</td>\n",
              "      <td>...</td>\n",
              "      <td>0.0</td>\n",
              "      <td>0.0</td>\n",
              "      <td>0.0</td>\n",
              "      <td>0.0</td>\n",
              "      <td>0.0</td>\n",
              "      <td>0.0</td>\n",
              "      <td>0.0</td>\n",
              "      <td>0.0</td>\n",
              "      <td>0.0</td>\n",
              "      <td>0.0</td>\n",
              "      <td>0.0</td>\n",
              "      <td>0.0</td>\n",
              "      <td>0.0</td>\n",
              "      <td>0.0</td>\n",
              "      <td>0.0</td>\n",
              "      <td>0.0</td>\n",
              "      <td>0.0</td>\n",
              "      <td>0.0</td>\n",
              "      <td>0.0</td>\n",
              "      <td>0.0</td>\n",
              "      <td>0.0</td>\n",
              "      <td>0.0</td>\n",
              "      <td>0.0</td>\n",
              "      <td>0.0</td>\n",
              "      <td>0.0</td>\n",
              "      <td>0.0</td>\n",
              "      <td>0.0</td>\n",
              "      <td>0.0</td>\n",
              "      <td>0.0</td>\n",
              "      <td>0.0</td>\n",
              "      <td>0.0</td>\n",
              "      <td>0.0</td>\n",
              "      <td>0.0</td>\n",
              "      <td>0.0</td>\n",
              "      <td>0.0</td>\n",
              "      <td>0.0</td>\n",
              "      <td>0.0</td>\n",
              "      <td>0.0</td>\n",
              "      <td>0.0</td>\n",
              "      <td>0.0</td>\n",
              "    </tr>\n",
              "    <tr>\n",
              "      <th>2</th>\n",
              "      <td>1.000000</td>\n",
              "      <td>0.659459</td>\n",
              "      <td>0.186486</td>\n",
              "      <td>0.070270</td>\n",
              "      <td>0.070270</td>\n",
              "      <td>0.059459</td>\n",
              "      <td>0.056757</td>\n",
              "      <td>0.043243</td>\n",
              "      <td>0.054054</td>\n",
              "      <td>0.045946</td>\n",
              "      <td>0.056757</td>\n",
              "      <td>0.043243</td>\n",
              "      <td>0.067568</td>\n",
              "      <td>0.062162</td>\n",
              "      <td>0.078378</td>\n",
              "      <td>0.072973</td>\n",
              "      <td>0.086486</td>\n",
              "      <td>0.081081</td>\n",
              "      <td>0.108108</td>\n",
              "      <td>0.110811</td>\n",
              "      <td>0.135135</td>\n",
              "      <td>0.135135</td>\n",
              "      <td>0.170270</td>\n",
              "      <td>0.183784</td>\n",
              "      <td>0.216216</td>\n",
              "      <td>0.237838</td>\n",
              "      <td>0.270270</td>\n",
              "      <td>0.286486</td>\n",
              "      <td>0.316216</td>\n",
              "      <td>0.318919</td>\n",
              "      <td>0.332432</td>\n",
              "      <td>0.297297</td>\n",
              "      <td>0.267568</td>\n",
              "      <td>0.216216</td>\n",
              "      <td>0.189189</td>\n",
              "      <td>0.132432</td>\n",
              "      <td>0.118919</td>\n",
              "      <td>0.064865</td>\n",
              "      <td>0.064865</td>\n",
              "      <td>0.043243</td>\n",
              "      <td>...</td>\n",
              "      <td>0.0</td>\n",
              "      <td>0.0</td>\n",
              "      <td>0.0</td>\n",
              "      <td>0.0</td>\n",
              "      <td>0.0</td>\n",
              "      <td>0.0</td>\n",
              "      <td>0.0</td>\n",
              "      <td>0.0</td>\n",
              "      <td>0.0</td>\n",
              "      <td>0.0</td>\n",
              "      <td>0.0</td>\n",
              "      <td>0.0</td>\n",
              "      <td>0.0</td>\n",
              "      <td>0.0</td>\n",
              "      <td>0.0</td>\n",
              "      <td>0.0</td>\n",
              "      <td>0.0</td>\n",
              "      <td>0.0</td>\n",
              "      <td>0.0</td>\n",
              "      <td>0.0</td>\n",
              "      <td>0.0</td>\n",
              "      <td>0.0</td>\n",
              "      <td>0.0</td>\n",
              "      <td>0.0</td>\n",
              "      <td>0.0</td>\n",
              "      <td>0.0</td>\n",
              "      <td>0.0</td>\n",
              "      <td>0.0</td>\n",
              "      <td>0.0</td>\n",
              "      <td>0.0</td>\n",
              "      <td>0.0</td>\n",
              "      <td>0.0</td>\n",
              "      <td>0.0</td>\n",
              "      <td>0.0</td>\n",
              "      <td>0.0</td>\n",
              "      <td>0.0</td>\n",
              "      <td>0.0</td>\n",
              "      <td>0.0</td>\n",
              "      <td>0.0</td>\n",
              "      <td>0.0</td>\n",
              "    </tr>\n",
              "    <tr>\n",
              "      <th>3</th>\n",
              "      <td>0.925414</td>\n",
              "      <td>0.665746</td>\n",
              "      <td>0.541436</td>\n",
              "      <td>0.276243</td>\n",
              "      <td>0.196133</td>\n",
              "      <td>0.077348</td>\n",
              "      <td>0.071823</td>\n",
              "      <td>0.060773</td>\n",
              "      <td>0.066298</td>\n",
              "      <td>0.058011</td>\n",
              "      <td>0.063536</td>\n",
              "      <td>0.082873</td>\n",
              "      <td>0.085635</td>\n",
              "      <td>0.093923</td>\n",
              "      <td>0.113260</td>\n",
              "      <td>0.124309</td>\n",
              "      <td>0.140884</td>\n",
              "      <td>0.132597</td>\n",
              "      <td>0.140884</td>\n",
              "      <td>0.091160</td>\n",
              "      <td>0.085635</td>\n",
              "      <td>0.074586</td>\n",
              "      <td>0.071823</td>\n",
              "      <td>0.080110</td>\n",
              "      <td>0.096685</td>\n",
              "      <td>0.118785</td>\n",
              "      <td>0.138122</td>\n",
              "      <td>0.140884</td>\n",
              "      <td>0.138122</td>\n",
              "      <td>0.146409</td>\n",
              "      <td>0.110497</td>\n",
              "      <td>0.102210</td>\n",
              "      <td>0.060773</td>\n",
              "      <td>0.027624</td>\n",
              "      <td>0.038674</td>\n",
              "      <td>0.013812</td>\n",
              "      <td>0.011050</td>\n",
              "      <td>0.013812</td>\n",
              "      <td>0.033149</td>\n",
              "      <td>0.005525</td>\n",
              "      <td>...</td>\n",
              "      <td>0.0</td>\n",
              "      <td>0.0</td>\n",
              "      <td>0.0</td>\n",
              "      <td>0.0</td>\n",
              "      <td>0.0</td>\n",
              "      <td>0.0</td>\n",
              "      <td>0.0</td>\n",
              "      <td>0.0</td>\n",
              "      <td>0.0</td>\n",
              "      <td>0.0</td>\n",
              "      <td>0.0</td>\n",
              "      <td>0.0</td>\n",
              "      <td>0.0</td>\n",
              "      <td>0.0</td>\n",
              "      <td>0.0</td>\n",
              "      <td>0.0</td>\n",
              "      <td>0.0</td>\n",
              "      <td>0.0</td>\n",
              "      <td>0.0</td>\n",
              "      <td>0.0</td>\n",
              "      <td>0.0</td>\n",
              "      <td>0.0</td>\n",
              "      <td>0.0</td>\n",
              "      <td>0.0</td>\n",
              "      <td>0.0</td>\n",
              "      <td>0.0</td>\n",
              "      <td>0.0</td>\n",
              "      <td>0.0</td>\n",
              "      <td>0.0</td>\n",
              "      <td>0.0</td>\n",
              "      <td>0.0</td>\n",
              "      <td>0.0</td>\n",
              "      <td>0.0</td>\n",
              "      <td>0.0</td>\n",
              "      <td>0.0</td>\n",
              "      <td>0.0</td>\n",
              "      <td>0.0</td>\n",
              "      <td>0.0</td>\n",
              "      <td>0.0</td>\n",
              "      <td>0.0</td>\n",
              "    </tr>\n",
              "    <tr>\n",
              "      <th>4</th>\n",
              "      <td>0.967136</td>\n",
              "      <td>1.000000</td>\n",
              "      <td>0.830986</td>\n",
              "      <td>0.586854</td>\n",
              "      <td>0.356808</td>\n",
              "      <td>0.248826</td>\n",
              "      <td>0.145540</td>\n",
              "      <td>0.089202</td>\n",
              "      <td>0.117371</td>\n",
              "      <td>0.150235</td>\n",
              "      <td>0.131455</td>\n",
              "      <td>0.122066</td>\n",
              "      <td>0.140845</td>\n",
              "      <td>0.159624</td>\n",
              "      <td>0.150235</td>\n",
              "      <td>0.145540</td>\n",
              "      <td>0.136150</td>\n",
              "      <td>0.169014</td>\n",
              "      <td>0.178404</td>\n",
              "      <td>0.173709</td>\n",
              "      <td>0.183099</td>\n",
              "      <td>0.201878</td>\n",
              "      <td>0.187793</td>\n",
              "      <td>0.164319</td>\n",
              "      <td>0.187793</td>\n",
              "      <td>0.215962</td>\n",
              "      <td>0.215962</td>\n",
              "      <td>0.201878</td>\n",
              "      <td>0.211268</td>\n",
              "      <td>0.230047</td>\n",
              "      <td>0.215962</td>\n",
              "      <td>0.230047</td>\n",
              "      <td>0.239437</td>\n",
              "      <td>0.267606</td>\n",
              "      <td>0.253521</td>\n",
              "      <td>0.230047</td>\n",
              "      <td>0.220657</td>\n",
              "      <td>0.225352</td>\n",
              "      <td>0.211268</td>\n",
              "      <td>0.173709</td>\n",
              "      <td>...</td>\n",
              "      <td>0.0</td>\n",
              "      <td>0.0</td>\n",
              "      <td>0.0</td>\n",
              "      <td>0.0</td>\n",
              "      <td>0.0</td>\n",
              "      <td>0.0</td>\n",
              "      <td>0.0</td>\n",
              "      <td>0.0</td>\n",
              "      <td>0.0</td>\n",
              "      <td>0.0</td>\n",
              "      <td>0.0</td>\n",
              "      <td>0.0</td>\n",
              "      <td>0.0</td>\n",
              "      <td>0.0</td>\n",
              "      <td>0.0</td>\n",
              "      <td>0.0</td>\n",
              "      <td>0.0</td>\n",
              "      <td>0.0</td>\n",
              "      <td>0.0</td>\n",
              "      <td>0.0</td>\n",
              "      <td>0.0</td>\n",
              "      <td>0.0</td>\n",
              "      <td>0.0</td>\n",
              "      <td>0.0</td>\n",
              "      <td>0.0</td>\n",
              "      <td>0.0</td>\n",
              "      <td>0.0</td>\n",
              "      <td>0.0</td>\n",
              "      <td>0.0</td>\n",
              "      <td>0.0</td>\n",
              "      <td>0.0</td>\n",
              "      <td>0.0</td>\n",
              "      <td>0.0</td>\n",
              "      <td>0.0</td>\n",
              "      <td>0.0</td>\n",
              "      <td>0.0</td>\n",
              "      <td>0.0</td>\n",
              "      <td>0.0</td>\n",
              "      <td>0.0</td>\n",
              "      <td>0.0</td>\n",
              "    </tr>\n",
              "  </tbody>\n",
              "</table>\n",
              "<p>5 rows × 188 columns</p>\n",
              "</div>"
            ],
            "text/plain": [
              "        0         1         2         3         4    ...  183  184  185  186  187\n",
              "0  0.977941  0.926471  0.681373  0.245098  0.154412  ...  0.0  0.0  0.0  0.0  0.0\n",
              "1  0.960114  0.863248  0.461538  0.196581  0.094017  ...  0.0  0.0  0.0  0.0  0.0\n",
              "2  1.000000  0.659459  0.186486  0.070270  0.070270  ...  0.0  0.0  0.0  0.0  0.0\n",
              "3  0.925414  0.665746  0.541436  0.276243  0.196133  ...  0.0  0.0  0.0  0.0  0.0\n",
              "4  0.967136  1.000000  0.830986  0.586854  0.356808  ...  0.0  0.0  0.0  0.0  0.0\n",
              "\n",
              "[5 rows x 188 columns]"
            ]
          },
          "metadata": {
            "tags": []
          },
          "execution_count": 8
        }
      ]
    },
    {
      "cell_type": "code",
      "metadata": {
        "colab": {
          "base_uri": "https://localhost:8080/"
        },
        "id": "uxFCxtO-sOKp",
        "outputId": "0dac1ada-df27-4c3f-bdb7-c0ee0d60060f"
      },
      "source": [
        "df_train.shape"
      ],
      "id": "uxFCxtO-sOKp",
      "execution_count": 9,
      "outputs": [
        {
          "output_type": "execute_result",
          "data": {
            "text/plain": [
              "(87554, 188)"
            ]
          },
          "metadata": {
            "tags": []
          },
          "execution_count": 9
        }
      ]
    },
    {
      "cell_type": "code",
      "metadata": {
        "colab": {
          "base_uri": "https://localhost:8080/"
        },
        "id": "AvHkIASusOKq",
        "outputId": "677f55c8-a4d7-4f72-fec7-6d77783603d9"
      },
      "source": [
        "df_train[187].unique()"
      ],
      "id": "AvHkIASusOKq",
      "execution_count": 10,
      "outputs": [
        {
          "output_type": "execute_result",
          "data": {
            "text/plain": [
              "array([0., 1., 2., 3., 4.])"
            ]
          },
          "metadata": {
            "tags": []
          },
          "execution_count": 10
        }
      ]
    },
    {
      "cell_type": "markdown",
      "metadata": {
        "id": "GYFplHihsOKq"
      },
      "source": [
        "The training data has 87554 rows & 188 columns. The target column is 187 with 5 classes – one class is the normal heart signal and other three are different signals corresponding to different heart diseases and last category is unknown beats:\n",
        "\n",
        "0 — Non-ectopic beats (normal beat)      \n",
        "1 — Supraventricular ectopic beats        \n",
        "2 — Ventricular ectopic beats      \n",
        "3 — Fusion beats          \n",
        "4 — Unknown beats     \n",
        "\n",
        "['N': 0, 'S': 1, 'V': 2, 'F': 3, 'Q': 4]"
      ],
      "id": "GYFplHihsOKq"
    },
    {
      "cell_type": "code",
      "metadata": {
        "id": "Z163jM2PsOKr"
      },
      "source": [
        "class_names = ['N','S','V','F','Q']"
      ],
      "id": "Z163jM2PsOKr",
      "execution_count": 11,
      "outputs": []
    },
    {
      "cell_type": "markdown",
      "metadata": {
        "id": "uwWG3WCFsOKs"
      },
      "source": [
        "### Loading the testing data"
      ],
      "id": "uwWG3WCFsOKs"
    },
    {
      "cell_type": "code",
      "metadata": {
        "id": "DBpKN7OvsOKs"
      },
      "source": [
        "df_test = pd.read_csv('/content/drive/MyDrive/MIT-BIH Arrhythmia Database /mitbih_test.csv', header=None)"
      ],
      "id": "DBpKN7OvsOKs",
      "execution_count": 13,
      "outputs": []
    },
    {
      "cell_type": "code",
      "metadata": {
        "colab": {
          "base_uri": "https://localhost:8080/"
        },
        "id": "7HOwLpeMsOKt",
        "outputId": "f45e91c3-6dfd-4165-e5ce-59efeba1db3b"
      },
      "source": [
        "df_test.shape"
      ],
      "id": "7HOwLpeMsOKt",
      "execution_count": 14,
      "outputs": [
        {
          "output_type": "execute_result",
          "data": {
            "text/plain": [
              "(21892, 188)"
            ]
          },
          "metadata": {
            "tags": []
          },
          "execution_count": 14
        }
      ]
    },
    {
      "cell_type": "code",
      "metadata": {
        "colab": {
          "base_uri": "https://localhost:8080/"
        },
        "id": "58iJn2HtsOKt",
        "outputId": "1625a341-8c1b-4733-8057-ade3697db6fc"
      },
      "source": [
        "df_test[187].unique()"
      ],
      "id": "58iJn2HtsOKt",
      "execution_count": 15,
      "outputs": [
        {
          "output_type": "execute_result",
          "data": {
            "text/plain": [
              "array([0., 1., 2., 3., 4.])"
            ]
          },
          "metadata": {
            "tags": []
          },
          "execution_count": 15
        }
      ]
    },
    {
      "cell_type": "markdown",
      "metadata": {
        "id": "KvJOwJZPsOKu"
      },
      "source": [
        "The test data has 21892 rows & 188 columns. The last column (187) is the target variable with 5 classes."
      ],
      "id": "KvJOwJZPsOKu"
    },
    {
      "cell_type": "code",
      "metadata": {
        "id": "Osl3cPlxsOKv"
      },
      "source": [
        "# Changing the target variable name for better readability\n",
        "df_train = df_train.rename(columns = {187 : 'label'})\n",
        "df_test = df_test.rename(columns = {187 : 'label'})"
      ],
      "id": "Osl3cPlxsOKv",
      "execution_count": 94,
      "outputs": []
    },
    {
      "cell_type": "code",
      "metadata": {
        "id": "F85mrQ1psOKw"
      },
      "source": [
        "# Also changing the data type for the label from float to integer\n",
        "df_train['label'] = df_train['label'].astype('uint8')\n",
        "df_test['label'] = df_test['label'].astype('uint8')"
      ],
      "id": "F85mrQ1psOKw",
      "execution_count": 95,
      "outputs": []
    },
    {
      "cell_type": "code",
      "metadata": {
        "colab": {
          "base_uri": "https://localhost:8080/",
          "height": 253
        },
        "id": "RFS3eft9sOKw",
        "outputId": "bd9b11be-b005-4fdf-eef1-e6e8bb35dcc3"
      },
      "source": [
        "df_train.head()"
      ],
      "id": "RFS3eft9sOKw",
      "execution_count": 96,
      "outputs": [
        {
          "output_type": "execute_result",
          "data": {
            "text/html": [
              "<div>\n",
              "<style scoped>\n",
              "    .dataframe tbody tr th:only-of-type {\n",
              "        vertical-align: middle;\n",
              "    }\n",
              "\n",
              "    .dataframe tbody tr th {\n",
              "        vertical-align: top;\n",
              "    }\n",
              "\n",
              "    .dataframe thead th {\n",
              "        text-align: right;\n",
              "    }\n",
              "</style>\n",
              "<table border=\"1\" class=\"dataframe\">\n",
              "  <thead>\n",
              "    <tr style=\"text-align: right;\">\n",
              "      <th></th>\n",
              "      <th>0</th>\n",
              "      <th>1</th>\n",
              "      <th>2</th>\n",
              "      <th>3</th>\n",
              "      <th>4</th>\n",
              "      <th>5</th>\n",
              "      <th>6</th>\n",
              "      <th>7</th>\n",
              "      <th>8</th>\n",
              "      <th>9</th>\n",
              "      <th>10</th>\n",
              "      <th>11</th>\n",
              "      <th>12</th>\n",
              "      <th>13</th>\n",
              "      <th>14</th>\n",
              "      <th>15</th>\n",
              "      <th>16</th>\n",
              "      <th>17</th>\n",
              "      <th>18</th>\n",
              "      <th>19</th>\n",
              "      <th>20</th>\n",
              "      <th>21</th>\n",
              "      <th>22</th>\n",
              "      <th>23</th>\n",
              "      <th>24</th>\n",
              "      <th>25</th>\n",
              "      <th>26</th>\n",
              "      <th>27</th>\n",
              "      <th>28</th>\n",
              "      <th>29</th>\n",
              "      <th>30</th>\n",
              "      <th>31</th>\n",
              "      <th>32</th>\n",
              "      <th>33</th>\n",
              "      <th>34</th>\n",
              "      <th>35</th>\n",
              "      <th>36</th>\n",
              "      <th>37</th>\n",
              "      <th>38</th>\n",
              "      <th>39</th>\n",
              "      <th>...</th>\n",
              "      <th>148</th>\n",
              "      <th>149</th>\n",
              "      <th>150</th>\n",
              "      <th>151</th>\n",
              "      <th>152</th>\n",
              "      <th>153</th>\n",
              "      <th>154</th>\n",
              "      <th>155</th>\n",
              "      <th>156</th>\n",
              "      <th>157</th>\n",
              "      <th>158</th>\n",
              "      <th>159</th>\n",
              "      <th>160</th>\n",
              "      <th>161</th>\n",
              "      <th>162</th>\n",
              "      <th>163</th>\n",
              "      <th>164</th>\n",
              "      <th>165</th>\n",
              "      <th>166</th>\n",
              "      <th>167</th>\n",
              "      <th>168</th>\n",
              "      <th>169</th>\n",
              "      <th>170</th>\n",
              "      <th>171</th>\n",
              "      <th>172</th>\n",
              "      <th>173</th>\n",
              "      <th>174</th>\n",
              "      <th>175</th>\n",
              "      <th>176</th>\n",
              "      <th>177</th>\n",
              "      <th>178</th>\n",
              "      <th>179</th>\n",
              "      <th>180</th>\n",
              "      <th>181</th>\n",
              "      <th>182</th>\n",
              "      <th>183</th>\n",
              "      <th>184</th>\n",
              "      <th>185</th>\n",
              "      <th>186</th>\n",
              "      <th>label</th>\n",
              "    </tr>\n",
              "  </thead>\n",
              "  <tbody>\n",
              "    <tr>\n",
              "      <th>0</th>\n",
              "      <td>0.977941</td>\n",
              "      <td>0.926471</td>\n",
              "      <td>0.681373</td>\n",
              "      <td>0.245098</td>\n",
              "      <td>0.154412</td>\n",
              "      <td>0.191176</td>\n",
              "      <td>0.151961</td>\n",
              "      <td>0.085784</td>\n",
              "      <td>0.058824</td>\n",
              "      <td>0.049020</td>\n",
              "      <td>0.044118</td>\n",
              "      <td>0.061275</td>\n",
              "      <td>0.066176</td>\n",
              "      <td>0.061275</td>\n",
              "      <td>0.049020</td>\n",
              "      <td>0.073529</td>\n",
              "      <td>0.061275</td>\n",
              "      <td>0.061275</td>\n",
              "      <td>0.066176</td>\n",
              "      <td>0.068627</td>\n",
              "      <td>0.095588</td>\n",
              "      <td>0.075980</td>\n",
              "      <td>0.093137</td>\n",
              "      <td>0.105392</td>\n",
              "      <td>0.115196</td>\n",
              "      <td>0.102941</td>\n",
              "      <td>0.117647</td>\n",
              "      <td>0.125000</td>\n",
              "      <td>0.142157</td>\n",
              "      <td>0.127451</td>\n",
              "      <td>0.151961</td>\n",
              "      <td>0.144608</td>\n",
              "      <td>0.164216</td>\n",
              "      <td>0.144608</td>\n",
              "      <td>0.159314</td>\n",
              "      <td>0.151961</td>\n",
              "      <td>0.154412</td>\n",
              "      <td>0.142157</td>\n",
              "      <td>0.151961</td>\n",
              "      <td>0.151961</td>\n",
              "      <td>...</td>\n",
              "      <td>0.0</td>\n",
              "      <td>0.0</td>\n",
              "      <td>0.0</td>\n",
              "      <td>0.0</td>\n",
              "      <td>0.0</td>\n",
              "      <td>0.0</td>\n",
              "      <td>0.0</td>\n",
              "      <td>0.0</td>\n",
              "      <td>0.0</td>\n",
              "      <td>0.0</td>\n",
              "      <td>0.0</td>\n",
              "      <td>0.0</td>\n",
              "      <td>0.0</td>\n",
              "      <td>0.0</td>\n",
              "      <td>0.0</td>\n",
              "      <td>0.0</td>\n",
              "      <td>0.0</td>\n",
              "      <td>0.0</td>\n",
              "      <td>0.0</td>\n",
              "      <td>0.0</td>\n",
              "      <td>0.0</td>\n",
              "      <td>0.0</td>\n",
              "      <td>0.0</td>\n",
              "      <td>0.0</td>\n",
              "      <td>0.0</td>\n",
              "      <td>0.0</td>\n",
              "      <td>0.0</td>\n",
              "      <td>0.0</td>\n",
              "      <td>0.0</td>\n",
              "      <td>0.0</td>\n",
              "      <td>0.0</td>\n",
              "      <td>0.0</td>\n",
              "      <td>0.0</td>\n",
              "      <td>0.0</td>\n",
              "      <td>0.0</td>\n",
              "      <td>0.0</td>\n",
              "      <td>0.0</td>\n",
              "      <td>0.0</td>\n",
              "      <td>0.0</td>\n",
              "      <td>0</td>\n",
              "    </tr>\n",
              "    <tr>\n",
              "      <th>1</th>\n",
              "      <td>0.960114</td>\n",
              "      <td>0.863248</td>\n",
              "      <td>0.461538</td>\n",
              "      <td>0.196581</td>\n",
              "      <td>0.094017</td>\n",
              "      <td>0.125356</td>\n",
              "      <td>0.099715</td>\n",
              "      <td>0.088319</td>\n",
              "      <td>0.074074</td>\n",
              "      <td>0.082621</td>\n",
              "      <td>0.074074</td>\n",
              "      <td>0.062678</td>\n",
              "      <td>0.065527</td>\n",
              "      <td>0.065527</td>\n",
              "      <td>0.062678</td>\n",
              "      <td>0.076923</td>\n",
              "      <td>0.071225</td>\n",
              "      <td>0.082621</td>\n",
              "      <td>0.091168</td>\n",
              "      <td>0.096866</td>\n",
              "      <td>0.082621</td>\n",
              "      <td>0.082621</td>\n",
              "      <td>0.091168</td>\n",
              "      <td>0.105413</td>\n",
              "      <td>0.122507</td>\n",
              "      <td>0.148148</td>\n",
              "      <td>0.182336</td>\n",
              "      <td>0.193732</td>\n",
              "      <td>0.213675</td>\n",
              "      <td>0.207977</td>\n",
              "      <td>0.222222</td>\n",
              "      <td>0.253561</td>\n",
              "      <td>0.270655</td>\n",
              "      <td>0.287749</td>\n",
              "      <td>0.284900</td>\n",
              "      <td>0.293447</td>\n",
              "      <td>0.256410</td>\n",
              "      <td>0.247863</td>\n",
              "      <td>0.188034</td>\n",
              "      <td>0.145299</td>\n",
              "      <td>...</td>\n",
              "      <td>0.0</td>\n",
              "      <td>0.0</td>\n",
              "      <td>0.0</td>\n",
              "      <td>0.0</td>\n",
              "      <td>0.0</td>\n",
              "      <td>0.0</td>\n",
              "      <td>0.0</td>\n",
              "      <td>0.0</td>\n",
              "      <td>0.0</td>\n",
              "      <td>0.0</td>\n",
              "      <td>0.0</td>\n",
              "      <td>0.0</td>\n",
              "      <td>0.0</td>\n",
              "      <td>0.0</td>\n",
              "      <td>0.0</td>\n",
              "      <td>0.0</td>\n",
              "      <td>0.0</td>\n",
              "      <td>0.0</td>\n",
              "      <td>0.0</td>\n",
              "      <td>0.0</td>\n",
              "      <td>0.0</td>\n",
              "      <td>0.0</td>\n",
              "      <td>0.0</td>\n",
              "      <td>0.0</td>\n",
              "      <td>0.0</td>\n",
              "      <td>0.0</td>\n",
              "      <td>0.0</td>\n",
              "      <td>0.0</td>\n",
              "      <td>0.0</td>\n",
              "      <td>0.0</td>\n",
              "      <td>0.0</td>\n",
              "      <td>0.0</td>\n",
              "      <td>0.0</td>\n",
              "      <td>0.0</td>\n",
              "      <td>0.0</td>\n",
              "      <td>0.0</td>\n",
              "      <td>0.0</td>\n",
              "      <td>0.0</td>\n",
              "      <td>0.0</td>\n",
              "      <td>0</td>\n",
              "    </tr>\n",
              "    <tr>\n",
              "      <th>2</th>\n",
              "      <td>1.000000</td>\n",
              "      <td>0.659459</td>\n",
              "      <td>0.186486</td>\n",
              "      <td>0.070270</td>\n",
              "      <td>0.070270</td>\n",
              "      <td>0.059459</td>\n",
              "      <td>0.056757</td>\n",
              "      <td>0.043243</td>\n",
              "      <td>0.054054</td>\n",
              "      <td>0.045946</td>\n",
              "      <td>0.056757</td>\n",
              "      <td>0.043243</td>\n",
              "      <td>0.067568</td>\n",
              "      <td>0.062162</td>\n",
              "      <td>0.078378</td>\n",
              "      <td>0.072973</td>\n",
              "      <td>0.086486</td>\n",
              "      <td>0.081081</td>\n",
              "      <td>0.108108</td>\n",
              "      <td>0.110811</td>\n",
              "      <td>0.135135</td>\n",
              "      <td>0.135135</td>\n",
              "      <td>0.170270</td>\n",
              "      <td>0.183784</td>\n",
              "      <td>0.216216</td>\n",
              "      <td>0.237838</td>\n",
              "      <td>0.270270</td>\n",
              "      <td>0.286486</td>\n",
              "      <td>0.316216</td>\n",
              "      <td>0.318919</td>\n",
              "      <td>0.332432</td>\n",
              "      <td>0.297297</td>\n",
              "      <td>0.267568</td>\n",
              "      <td>0.216216</td>\n",
              "      <td>0.189189</td>\n",
              "      <td>0.132432</td>\n",
              "      <td>0.118919</td>\n",
              "      <td>0.064865</td>\n",
              "      <td>0.064865</td>\n",
              "      <td>0.043243</td>\n",
              "      <td>...</td>\n",
              "      <td>0.0</td>\n",
              "      <td>0.0</td>\n",
              "      <td>0.0</td>\n",
              "      <td>0.0</td>\n",
              "      <td>0.0</td>\n",
              "      <td>0.0</td>\n",
              "      <td>0.0</td>\n",
              "      <td>0.0</td>\n",
              "      <td>0.0</td>\n",
              "      <td>0.0</td>\n",
              "      <td>0.0</td>\n",
              "      <td>0.0</td>\n",
              "      <td>0.0</td>\n",
              "      <td>0.0</td>\n",
              "      <td>0.0</td>\n",
              "      <td>0.0</td>\n",
              "      <td>0.0</td>\n",
              "      <td>0.0</td>\n",
              "      <td>0.0</td>\n",
              "      <td>0.0</td>\n",
              "      <td>0.0</td>\n",
              "      <td>0.0</td>\n",
              "      <td>0.0</td>\n",
              "      <td>0.0</td>\n",
              "      <td>0.0</td>\n",
              "      <td>0.0</td>\n",
              "      <td>0.0</td>\n",
              "      <td>0.0</td>\n",
              "      <td>0.0</td>\n",
              "      <td>0.0</td>\n",
              "      <td>0.0</td>\n",
              "      <td>0.0</td>\n",
              "      <td>0.0</td>\n",
              "      <td>0.0</td>\n",
              "      <td>0.0</td>\n",
              "      <td>0.0</td>\n",
              "      <td>0.0</td>\n",
              "      <td>0.0</td>\n",
              "      <td>0.0</td>\n",
              "      <td>0</td>\n",
              "    </tr>\n",
              "    <tr>\n",
              "      <th>3</th>\n",
              "      <td>0.925414</td>\n",
              "      <td>0.665746</td>\n",
              "      <td>0.541436</td>\n",
              "      <td>0.276243</td>\n",
              "      <td>0.196133</td>\n",
              "      <td>0.077348</td>\n",
              "      <td>0.071823</td>\n",
              "      <td>0.060773</td>\n",
              "      <td>0.066298</td>\n",
              "      <td>0.058011</td>\n",
              "      <td>0.063536</td>\n",
              "      <td>0.082873</td>\n",
              "      <td>0.085635</td>\n",
              "      <td>0.093923</td>\n",
              "      <td>0.113260</td>\n",
              "      <td>0.124309</td>\n",
              "      <td>0.140884</td>\n",
              "      <td>0.132597</td>\n",
              "      <td>0.140884</td>\n",
              "      <td>0.091160</td>\n",
              "      <td>0.085635</td>\n",
              "      <td>0.074586</td>\n",
              "      <td>0.071823</td>\n",
              "      <td>0.080110</td>\n",
              "      <td>0.096685</td>\n",
              "      <td>0.118785</td>\n",
              "      <td>0.138122</td>\n",
              "      <td>0.140884</td>\n",
              "      <td>0.138122</td>\n",
              "      <td>0.146409</td>\n",
              "      <td>0.110497</td>\n",
              "      <td>0.102210</td>\n",
              "      <td>0.060773</td>\n",
              "      <td>0.027624</td>\n",
              "      <td>0.038674</td>\n",
              "      <td>0.013812</td>\n",
              "      <td>0.011050</td>\n",
              "      <td>0.013812</td>\n",
              "      <td>0.033149</td>\n",
              "      <td>0.005525</td>\n",
              "      <td>...</td>\n",
              "      <td>0.0</td>\n",
              "      <td>0.0</td>\n",
              "      <td>0.0</td>\n",
              "      <td>0.0</td>\n",
              "      <td>0.0</td>\n",
              "      <td>0.0</td>\n",
              "      <td>0.0</td>\n",
              "      <td>0.0</td>\n",
              "      <td>0.0</td>\n",
              "      <td>0.0</td>\n",
              "      <td>0.0</td>\n",
              "      <td>0.0</td>\n",
              "      <td>0.0</td>\n",
              "      <td>0.0</td>\n",
              "      <td>0.0</td>\n",
              "      <td>0.0</td>\n",
              "      <td>0.0</td>\n",
              "      <td>0.0</td>\n",
              "      <td>0.0</td>\n",
              "      <td>0.0</td>\n",
              "      <td>0.0</td>\n",
              "      <td>0.0</td>\n",
              "      <td>0.0</td>\n",
              "      <td>0.0</td>\n",
              "      <td>0.0</td>\n",
              "      <td>0.0</td>\n",
              "      <td>0.0</td>\n",
              "      <td>0.0</td>\n",
              "      <td>0.0</td>\n",
              "      <td>0.0</td>\n",
              "      <td>0.0</td>\n",
              "      <td>0.0</td>\n",
              "      <td>0.0</td>\n",
              "      <td>0.0</td>\n",
              "      <td>0.0</td>\n",
              "      <td>0.0</td>\n",
              "      <td>0.0</td>\n",
              "      <td>0.0</td>\n",
              "      <td>0.0</td>\n",
              "      <td>0</td>\n",
              "    </tr>\n",
              "    <tr>\n",
              "      <th>4</th>\n",
              "      <td>0.967136</td>\n",
              "      <td>1.000000</td>\n",
              "      <td>0.830986</td>\n",
              "      <td>0.586854</td>\n",
              "      <td>0.356808</td>\n",
              "      <td>0.248826</td>\n",
              "      <td>0.145540</td>\n",
              "      <td>0.089202</td>\n",
              "      <td>0.117371</td>\n",
              "      <td>0.150235</td>\n",
              "      <td>0.131455</td>\n",
              "      <td>0.122066</td>\n",
              "      <td>0.140845</td>\n",
              "      <td>0.159624</td>\n",
              "      <td>0.150235</td>\n",
              "      <td>0.145540</td>\n",
              "      <td>0.136150</td>\n",
              "      <td>0.169014</td>\n",
              "      <td>0.178404</td>\n",
              "      <td>0.173709</td>\n",
              "      <td>0.183099</td>\n",
              "      <td>0.201878</td>\n",
              "      <td>0.187793</td>\n",
              "      <td>0.164319</td>\n",
              "      <td>0.187793</td>\n",
              "      <td>0.215962</td>\n",
              "      <td>0.215962</td>\n",
              "      <td>0.201878</td>\n",
              "      <td>0.211268</td>\n",
              "      <td>0.230047</td>\n",
              "      <td>0.215962</td>\n",
              "      <td>0.230047</td>\n",
              "      <td>0.239437</td>\n",
              "      <td>0.267606</td>\n",
              "      <td>0.253521</td>\n",
              "      <td>0.230047</td>\n",
              "      <td>0.220657</td>\n",
              "      <td>0.225352</td>\n",
              "      <td>0.211268</td>\n",
              "      <td>0.173709</td>\n",
              "      <td>...</td>\n",
              "      <td>0.0</td>\n",
              "      <td>0.0</td>\n",
              "      <td>0.0</td>\n",
              "      <td>0.0</td>\n",
              "      <td>0.0</td>\n",
              "      <td>0.0</td>\n",
              "      <td>0.0</td>\n",
              "      <td>0.0</td>\n",
              "      <td>0.0</td>\n",
              "      <td>0.0</td>\n",
              "      <td>0.0</td>\n",
              "      <td>0.0</td>\n",
              "      <td>0.0</td>\n",
              "      <td>0.0</td>\n",
              "      <td>0.0</td>\n",
              "      <td>0.0</td>\n",
              "      <td>0.0</td>\n",
              "      <td>0.0</td>\n",
              "      <td>0.0</td>\n",
              "      <td>0.0</td>\n",
              "      <td>0.0</td>\n",
              "      <td>0.0</td>\n",
              "      <td>0.0</td>\n",
              "      <td>0.0</td>\n",
              "      <td>0.0</td>\n",
              "      <td>0.0</td>\n",
              "      <td>0.0</td>\n",
              "      <td>0.0</td>\n",
              "      <td>0.0</td>\n",
              "      <td>0.0</td>\n",
              "      <td>0.0</td>\n",
              "      <td>0.0</td>\n",
              "      <td>0.0</td>\n",
              "      <td>0.0</td>\n",
              "      <td>0.0</td>\n",
              "      <td>0.0</td>\n",
              "      <td>0.0</td>\n",
              "      <td>0.0</td>\n",
              "      <td>0.0</td>\n",
              "      <td>0</td>\n",
              "    </tr>\n",
              "  </tbody>\n",
              "</table>\n",
              "<p>5 rows × 188 columns</p>\n",
              "</div>"
            ],
            "text/plain": [
              "          0         1         2         3         4  ...  183  184  185  186  label\n",
              "0  0.977941  0.926471  0.681373  0.245098  0.154412  ...  0.0  0.0  0.0  0.0      0\n",
              "1  0.960114  0.863248  0.461538  0.196581  0.094017  ...  0.0  0.0  0.0  0.0      0\n",
              "2  1.000000  0.659459  0.186486  0.070270  0.070270  ...  0.0  0.0  0.0  0.0      0\n",
              "3  0.925414  0.665746  0.541436  0.276243  0.196133  ...  0.0  0.0  0.0  0.0      0\n",
              "4  0.967136  1.000000  0.830986  0.586854  0.356808  ...  0.0  0.0  0.0  0.0      0\n",
              "\n",
              "[5 rows x 188 columns]"
            ]
          },
          "metadata": {
            "tags": []
          },
          "execution_count": 96
        }
      ]
    },
    {
      "cell_type": "code",
      "metadata": {
        "colab": {
          "base_uri": "https://localhost:8080/",
          "height": 253
        },
        "id": "Cs9DXlaRsOKx",
        "outputId": "14cf0828-9e87-4d20-d416-b7dbb43daf0f"
      },
      "source": [
        "df_test.head()"
      ],
      "id": "Cs9DXlaRsOKx",
      "execution_count": 97,
      "outputs": [
        {
          "output_type": "execute_result",
          "data": {
            "text/html": [
              "<div>\n",
              "<style scoped>\n",
              "    .dataframe tbody tr th:only-of-type {\n",
              "        vertical-align: middle;\n",
              "    }\n",
              "\n",
              "    .dataframe tbody tr th {\n",
              "        vertical-align: top;\n",
              "    }\n",
              "\n",
              "    .dataframe thead th {\n",
              "        text-align: right;\n",
              "    }\n",
              "</style>\n",
              "<table border=\"1\" class=\"dataframe\">\n",
              "  <thead>\n",
              "    <tr style=\"text-align: right;\">\n",
              "      <th></th>\n",
              "      <th>0</th>\n",
              "      <th>1</th>\n",
              "      <th>2</th>\n",
              "      <th>3</th>\n",
              "      <th>4</th>\n",
              "      <th>5</th>\n",
              "      <th>6</th>\n",
              "      <th>7</th>\n",
              "      <th>8</th>\n",
              "      <th>9</th>\n",
              "      <th>10</th>\n",
              "      <th>11</th>\n",
              "      <th>12</th>\n",
              "      <th>13</th>\n",
              "      <th>14</th>\n",
              "      <th>15</th>\n",
              "      <th>16</th>\n",
              "      <th>17</th>\n",
              "      <th>18</th>\n",
              "      <th>19</th>\n",
              "      <th>20</th>\n",
              "      <th>21</th>\n",
              "      <th>22</th>\n",
              "      <th>23</th>\n",
              "      <th>24</th>\n",
              "      <th>25</th>\n",
              "      <th>26</th>\n",
              "      <th>27</th>\n",
              "      <th>28</th>\n",
              "      <th>29</th>\n",
              "      <th>30</th>\n",
              "      <th>31</th>\n",
              "      <th>32</th>\n",
              "      <th>33</th>\n",
              "      <th>34</th>\n",
              "      <th>35</th>\n",
              "      <th>36</th>\n",
              "      <th>37</th>\n",
              "      <th>38</th>\n",
              "      <th>39</th>\n",
              "      <th>...</th>\n",
              "      <th>148</th>\n",
              "      <th>149</th>\n",
              "      <th>150</th>\n",
              "      <th>151</th>\n",
              "      <th>152</th>\n",
              "      <th>153</th>\n",
              "      <th>154</th>\n",
              "      <th>155</th>\n",
              "      <th>156</th>\n",
              "      <th>157</th>\n",
              "      <th>158</th>\n",
              "      <th>159</th>\n",
              "      <th>160</th>\n",
              "      <th>161</th>\n",
              "      <th>162</th>\n",
              "      <th>163</th>\n",
              "      <th>164</th>\n",
              "      <th>165</th>\n",
              "      <th>166</th>\n",
              "      <th>167</th>\n",
              "      <th>168</th>\n",
              "      <th>169</th>\n",
              "      <th>170</th>\n",
              "      <th>171</th>\n",
              "      <th>172</th>\n",
              "      <th>173</th>\n",
              "      <th>174</th>\n",
              "      <th>175</th>\n",
              "      <th>176</th>\n",
              "      <th>177</th>\n",
              "      <th>178</th>\n",
              "      <th>179</th>\n",
              "      <th>180</th>\n",
              "      <th>181</th>\n",
              "      <th>182</th>\n",
              "      <th>183</th>\n",
              "      <th>184</th>\n",
              "      <th>185</th>\n",
              "      <th>186</th>\n",
              "      <th>label</th>\n",
              "    </tr>\n",
              "  </thead>\n",
              "  <tbody>\n",
              "    <tr>\n",
              "      <th>0</th>\n",
              "      <td>1.000000</td>\n",
              "      <td>0.758264</td>\n",
              "      <td>0.111570</td>\n",
              "      <td>0.000000</td>\n",
              "      <td>0.080579</td>\n",
              "      <td>0.078512</td>\n",
              "      <td>0.066116</td>\n",
              "      <td>0.049587</td>\n",
              "      <td>0.047521</td>\n",
              "      <td>0.035124</td>\n",
              "      <td>0.030992</td>\n",
              "      <td>0.028926</td>\n",
              "      <td>0.035124</td>\n",
              "      <td>0.026860</td>\n",
              "      <td>0.039256</td>\n",
              "      <td>0.035124</td>\n",
              "      <td>0.043388</td>\n",
              "      <td>0.047521</td>\n",
              "      <td>0.053719</td>\n",
              "      <td>0.053719</td>\n",
              "      <td>0.070248</td>\n",
              "      <td>0.072314</td>\n",
              "      <td>0.084711</td>\n",
              "      <td>0.097107</td>\n",
              "      <td>0.121901</td>\n",
              "      <td>0.132231</td>\n",
              "      <td>0.169421</td>\n",
              "      <td>0.196281</td>\n",
              "      <td>0.214876</td>\n",
              "      <td>0.235537</td>\n",
              "      <td>0.254132</td>\n",
              "      <td>0.264463</td>\n",
              "      <td>0.285124</td>\n",
              "      <td>0.272727</td>\n",
              "      <td>0.266529</td>\n",
              "      <td>0.239669</td>\n",
              "      <td>0.214876</td>\n",
              "      <td>0.173554</td>\n",
              "      <td>0.157025</td>\n",
              "      <td>0.123967</td>\n",
              "      <td>...</td>\n",
              "      <td>0.0</td>\n",
              "      <td>0.0</td>\n",
              "      <td>0.0</td>\n",
              "      <td>0.0</td>\n",
              "      <td>0.0</td>\n",
              "      <td>0.0</td>\n",
              "      <td>0.0</td>\n",
              "      <td>0.0</td>\n",
              "      <td>0.0</td>\n",
              "      <td>0.0</td>\n",
              "      <td>0.0</td>\n",
              "      <td>0.0</td>\n",
              "      <td>0.0</td>\n",
              "      <td>0.0</td>\n",
              "      <td>0.0</td>\n",
              "      <td>0.0</td>\n",
              "      <td>0.0</td>\n",
              "      <td>0.0</td>\n",
              "      <td>0.0</td>\n",
              "      <td>0.0</td>\n",
              "      <td>0.0</td>\n",
              "      <td>0.0</td>\n",
              "      <td>0.0</td>\n",
              "      <td>0.0</td>\n",
              "      <td>0.0</td>\n",
              "      <td>0.0</td>\n",
              "      <td>0.0</td>\n",
              "      <td>0.0</td>\n",
              "      <td>0.0</td>\n",
              "      <td>0.0</td>\n",
              "      <td>0.0</td>\n",
              "      <td>0.0</td>\n",
              "      <td>0.0</td>\n",
              "      <td>0.0</td>\n",
              "      <td>0.0</td>\n",
              "      <td>0.0</td>\n",
              "      <td>0.0</td>\n",
              "      <td>0.0</td>\n",
              "      <td>0.0</td>\n",
              "      <td>0</td>\n",
              "    </tr>\n",
              "    <tr>\n",
              "      <th>1</th>\n",
              "      <td>0.908425</td>\n",
              "      <td>0.783883</td>\n",
              "      <td>0.531136</td>\n",
              "      <td>0.362637</td>\n",
              "      <td>0.366300</td>\n",
              "      <td>0.344322</td>\n",
              "      <td>0.333333</td>\n",
              "      <td>0.307692</td>\n",
              "      <td>0.296703</td>\n",
              "      <td>0.300366</td>\n",
              "      <td>0.304029</td>\n",
              "      <td>0.336996</td>\n",
              "      <td>0.377289</td>\n",
              "      <td>0.391941</td>\n",
              "      <td>0.439560</td>\n",
              "      <td>0.446886</td>\n",
              "      <td>0.457875</td>\n",
              "      <td>0.479853</td>\n",
              "      <td>0.512821</td>\n",
              "      <td>0.534799</td>\n",
              "      <td>0.586081</td>\n",
              "      <td>0.586081</td>\n",
              "      <td>0.604396</td>\n",
              "      <td>0.633700</td>\n",
              "      <td>0.615385</td>\n",
              "      <td>0.582418</td>\n",
              "      <td>0.564103</td>\n",
              "      <td>0.520147</td>\n",
              "      <td>0.490842</td>\n",
              "      <td>0.490842</td>\n",
              "      <td>0.468864</td>\n",
              "      <td>0.454212</td>\n",
              "      <td>0.450549</td>\n",
              "      <td>0.465201</td>\n",
              "      <td>0.450549</td>\n",
              "      <td>0.432234</td>\n",
              "      <td>0.424908</td>\n",
              "      <td>0.410256</td>\n",
              "      <td>0.391941</td>\n",
              "      <td>0.369963</td>\n",
              "      <td>...</td>\n",
              "      <td>0.0</td>\n",
              "      <td>0.0</td>\n",
              "      <td>0.0</td>\n",
              "      <td>0.0</td>\n",
              "      <td>0.0</td>\n",
              "      <td>0.0</td>\n",
              "      <td>0.0</td>\n",
              "      <td>0.0</td>\n",
              "      <td>0.0</td>\n",
              "      <td>0.0</td>\n",
              "      <td>0.0</td>\n",
              "      <td>0.0</td>\n",
              "      <td>0.0</td>\n",
              "      <td>0.0</td>\n",
              "      <td>0.0</td>\n",
              "      <td>0.0</td>\n",
              "      <td>0.0</td>\n",
              "      <td>0.0</td>\n",
              "      <td>0.0</td>\n",
              "      <td>0.0</td>\n",
              "      <td>0.0</td>\n",
              "      <td>0.0</td>\n",
              "      <td>0.0</td>\n",
              "      <td>0.0</td>\n",
              "      <td>0.0</td>\n",
              "      <td>0.0</td>\n",
              "      <td>0.0</td>\n",
              "      <td>0.0</td>\n",
              "      <td>0.0</td>\n",
              "      <td>0.0</td>\n",
              "      <td>0.0</td>\n",
              "      <td>0.0</td>\n",
              "      <td>0.0</td>\n",
              "      <td>0.0</td>\n",
              "      <td>0.0</td>\n",
              "      <td>0.0</td>\n",
              "      <td>0.0</td>\n",
              "      <td>0.0</td>\n",
              "      <td>0.0</td>\n",
              "      <td>0</td>\n",
              "    </tr>\n",
              "    <tr>\n",
              "      <th>2</th>\n",
              "      <td>0.730088</td>\n",
              "      <td>0.212389</td>\n",
              "      <td>0.000000</td>\n",
              "      <td>0.119469</td>\n",
              "      <td>0.101770</td>\n",
              "      <td>0.101770</td>\n",
              "      <td>0.110619</td>\n",
              "      <td>0.123894</td>\n",
              "      <td>0.115044</td>\n",
              "      <td>0.132743</td>\n",
              "      <td>0.106195</td>\n",
              "      <td>0.141593</td>\n",
              "      <td>0.128319</td>\n",
              "      <td>0.150442</td>\n",
              "      <td>0.132743</td>\n",
              "      <td>0.150442</td>\n",
              "      <td>0.132743</td>\n",
              "      <td>0.150442</td>\n",
              "      <td>0.123894</td>\n",
              "      <td>0.163717</td>\n",
              "      <td>0.137168</td>\n",
              "      <td>0.141593</td>\n",
              "      <td>0.132743</td>\n",
              "      <td>0.150442</td>\n",
              "      <td>0.128319</td>\n",
              "      <td>0.146018</td>\n",
              "      <td>0.119469</td>\n",
              "      <td>0.123894</td>\n",
              "      <td>0.101770</td>\n",
              "      <td>0.092920</td>\n",
              "      <td>0.070796</td>\n",
              "      <td>0.079646</td>\n",
              "      <td>0.066372</td>\n",
              "      <td>0.070796</td>\n",
              "      <td>0.079646</td>\n",
              "      <td>0.092920</td>\n",
              "      <td>0.088496</td>\n",
              "      <td>0.084071</td>\n",
              "      <td>0.079646</td>\n",
              "      <td>0.088496</td>\n",
              "      <td>...</td>\n",
              "      <td>0.0</td>\n",
              "      <td>0.0</td>\n",
              "      <td>0.0</td>\n",
              "      <td>0.0</td>\n",
              "      <td>0.0</td>\n",
              "      <td>0.0</td>\n",
              "      <td>0.0</td>\n",
              "      <td>0.0</td>\n",
              "      <td>0.0</td>\n",
              "      <td>0.0</td>\n",
              "      <td>0.0</td>\n",
              "      <td>0.0</td>\n",
              "      <td>0.0</td>\n",
              "      <td>0.0</td>\n",
              "      <td>0.0</td>\n",
              "      <td>0.0</td>\n",
              "      <td>0.0</td>\n",
              "      <td>0.0</td>\n",
              "      <td>0.0</td>\n",
              "      <td>0.0</td>\n",
              "      <td>0.0</td>\n",
              "      <td>0.0</td>\n",
              "      <td>0.0</td>\n",
              "      <td>0.0</td>\n",
              "      <td>0.0</td>\n",
              "      <td>0.0</td>\n",
              "      <td>0.0</td>\n",
              "      <td>0.0</td>\n",
              "      <td>0.0</td>\n",
              "      <td>0.0</td>\n",
              "      <td>0.0</td>\n",
              "      <td>0.0</td>\n",
              "      <td>0.0</td>\n",
              "      <td>0.0</td>\n",
              "      <td>0.0</td>\n",
              "      <td>0.0</td>\n",
              "      <td>0.0</td>\n",
              "      <td>0.0</td>\n",
              "      <td>0.0</td>\n",
              "      <td>0</td>\n",
              "    </tr>\n",
              "    <tr>\n",
              "      <th>3</th>\n",
              "      <td>1.000000</td>\n",
              "      <td>0.910417</td>\n",
              "      <td>0.681250</td>\n",
              "      <td>0.472917</td>\n",
              "      <td>0.229167</td>\n",
              "      <td>0.068750</td>\n",
              "      <td>0.000000</td>\n",
              "      <td>0.004167</td>\n",
              "      <td>0.014583</td>\n",
              "      <td>0.054167</td>\n",
              "      <td>0.102083</td>\n",
              "      <td>0.122917</td>\n",
              "      <td>0.150000</td>\n",
              "      <td>0.168750</td>\n",
              "      <td>0.172917</td>\n",
              "      <td>0.170833</td>\n",
              "      <td>0.168750</td>\n",
              "      <td>0.164583</td>\n",
              "      <td>0.156250</td>\n",
              "      <td>0.152083</td>\n",
              "      <td>0.147917</td>\n",
              "      <td>0.147917</td>\n",
              "      <td>0.145833</td>\n",
              "      <td>0.145833</td>\n",
              "      <td>0.141667</td>\n",
              "      <td>0.141667</td>\n",
              "      <td>0.147917</td>\n",
              "      <td>0.158333</td>\n",
              "      <td>0.168750</td>\n",
              "      <td>0.179167</td>\n",
              "      <td>0.191667</td>\n",
              "      <td>0.206250</td>\n",
              "      <td>0.220833</td>\n",
              "      <td>0.239583</td>\n",
              "      <td>0.258333</td>\n",
              "      <td>0.275000</td>\n",
              "      <td>0.287500</td>\n",
              "      <td>0.308333</td>\n",
              "      <td>0.320833</td>\n",
              "      <td>0.331250</td>\n",
              "      <td>...</td>\n",
              "      <td>0.0</td>\n",
              "      <td>0.0</td>\n",
              "      <td>0.0</td>\n",
              "      <td>0.0</td>\n",
              "      <td>0.0</td>\n",
              "      <td>0.0</td>\n",
              "      <td>0.0</td>\n",
              "      <td>0.0</td>\n",
              "      <td>0.0</td>\n",
              "      <td>0.0</td>\n",
              "      <td>0.0</td>\n",
              "      <td>0.0</td>\n",
              "      <td>0.0</td>\n",
              "      <td>0.0</td>\n",
              "      <td>0.0</td>\n",
              "      <td>0.0</td>\n",
              "      <td>0.0</td>\n",
              "      <td>0.0</td>\n",
              "      <td>0.0</td>\n",
              "      <td>0.0</td>\n",
              "      <td>0.0</td>\n",
              "      <td>0.0</td>\n",
              "      <td>0.0</td>\n",
              "      <td>0.0</td>\n",
              "      <td>0.0</td>\n",
              "      <td>0.0</td>\n",
              "      <td>0.0</td>\n",
              "      <td>0.0</td>\n",
              "      <td>0.0</td>\n",
              "      <td>0.0</td>\n",
              "      <td>0.0</td>\n",
              "      <td>0.0</td>\n",
              "      <td>0.0</td>\n",
              "      <td>0.0</td>\n",
              "      <td>0.0</td>\n",
              "      <td>0.0</td>\n",
              "      <td>0.0</td>\n",
              "      <td>0.0</td>\n",
              "      <td>0.0</td>\n",
              "      <td>0</td>\n",
              "    </tr>\n",
              "    <tr>\n",
              "      <th>4</th>\n",
              "      <td>0.570470</td>\n",
              "      <td>0.399329</td>\n",
              "      <td>0.238255</td>\n",
              "      <td>0.147651</td>\n",
              "      <td>0.000000</td>\n",
              "      <td>0.003356</td>\n",
              "      <td>0.040268</td>\n",
              "      <td>0.080537</td>\n",
              "      <td>0.070470</td>\n",
              "      <td>0.090604</td>\n",
              "      <td>0.080537</td>\n",
              "      <td>0.104027</td>\n",
              "      <td>0.093960</td>\n",
              "      <td>0.117450</td>\n",
              "      <td>0.097315</td>\n",
              "      <td>0.134228</td>\n",
              "      <td>0.124161</td>\n",
              "      <td>0.161074</td>\n",
              "      <td>0.171141</td>\n",
              "      <td>0.194631</td>\n",
              "      <td>0.204698</td>\n",
              "      <td>0.261745</td>\n",
              "      <td>0.275168</td>\n",
              "      <td>0.332215</td>\n",
              "      <td>0.345638</td>\n",
              "      <td>0.395973</td>\n",
              "      <td>0.406040</td>\n",
              "      <td>0.456376</td>\n",
              "      <td>0.446309</td>\n",
              "      <td>0.446309</td>\n",
              "      <td>0.399329</td>\n",
              "      <td>0.369128</td>\n",
              "      <td>0.308725</td>\n",
              "      <td>0.295302</td>\n",
              "      <td>0.265101</td>\n",
              "      <td>0.271812</td>\n",
              "      <td>0.258389</td>\n",
              "      <td>0.268456</td>\n",
              "      <td>0.261745</td>\n",
              "      <td>0.281879</td>\n",
              "      <td>...</td>\n",
              "      <td>0.0</td>\n",
              "      <td>0.0</td>\n",
              "      <td>0.0</td>\n",
              "      <td>0.0</td>\n",
              "      <td>0.0</td>\n",
              "      <td>0.0</td>\n",
              "      <td>0.0</td>\n",
              "      <td>0.0</td>\n",
              "      <td>0.0</td>\n",
              "      <td>0.0</td>\n",
              "      <td>0.0</td>\n",
              "      <td>0.0</td>\n",
              "      <td>0.0</td>\n",
              "      <td>0.0</td>\n",
              "      <td>0.0</td>\n",
              "      <td>0.0</td>\n",
              "      <td>0.0</td>\n",
              "      <td>0.0</td>\n",
              "      <td>0.0</td>\n",
              "      <td>0.0</td>\n",
              "      <td>0.0</td>\n",
              "      <td>0.0</td>\n",
              "      <td>0.0</td>\n",
              "      <td>0.0</td>\n",
              "      <td>0.0</td>\n",
              "      <td>0.0</td>\n",
              "      <td>0.0</td>\n",
              "      <td>0.0</td>\n",
              "      <td>0.0</td>\n",
              "      <td>0.0</td>\n",
              "      <td>0.0</td>\n",
              "      <td>0.0</td>\n",
              "      <td>0.0</td>\n",
              "      <td>0.0</td>\n",
              "      <td>0.0</td>\n",
              "      <td>0.0</td>\n",
              "      <td>0.0</td>\n",
              "      <td>0.0</td>\n",
              "      <td>0.0</td>\n",
              "      <td>0</td>\n",
              "    </tr>\n",
              "  </tbody>\n",
              "</table>\n",
              "<p>5 rows × 188 columns</p>\n",
              "</div>"
            ],
            "text/plain": [
              "          0         1         2         3         4  ...  183  184  185  186  label\n",
              "0  1.000000  0.758264  0.111570  0.000000  0.080579  ...  0.0  0.0  0.0  0.0      0\n",
              "1  0.908425  0.783883  0.531136  0.362637  0.366300  ...  0.0  0.0  0.0  0.0      0\n",
              "2  0.730088  0.212389  0.000000  0.119469  0.101770  ...  0.0  0.0  0.0  0.0      0\n",
              "3  1.000000  0.910417  0.681250  0.472917  0.229167  ...  0.0  0.0  0.0  0.0      0\n",
              "4  0.570470  0.399329  0.238255  0.147651  0.000000  ...  0.0  0.0  0.0  0.0      0\n",
              "\n",
              "[5 rows x 188 columns]"
            ]
          },
          "metadata": {
            "tags": []
          },
          "execution_count": 97
        }
      ]
    },
    {
      "cell_type": "markdown",
      "metadata": {
        "id": "KNCS5NFLsOKx"
      },
      "source": [
        "#### Looking at how the target variable is distributed in the training data: count and percentage"
      ],
      "id": "KNCS5NFLsOKx"
    },
    {
      "cell_type": "code",
      "metadata": {
        "scrolled": true,
        "colab": {
          "base_uri": "https://localhost:8080/"
        },
        "id": "9qs0cEtxsOKx",
        "outputId": "af69b0cb-041c-41b5-9cbe-7064791ec928"
      },
      "source": [
        "#classes count\n",
        "df_class=df_train['label'].value_counts()\n",
        "print('Count of classes :\\n',df_class)\n",
        "#Percentages of class counts\n",
        "per_class=df_train['label'].value_counts()/len(df_train)*100\n",
        "print('percentage of count of classes :\\n',per_class)"
      ],
      "id": "9qs0cEtxsOKx",
      "execution_count": 98,
      "outputs": [
        {
          "output_type": "stream",
          "text": [
            "Count of classes :\n",
            " 0    72471\n",
            "4     6431\n",
            "2     5788\n",
            "1     2223\n",
            "3      641\n",
            "Name: label, dtype: int64\n",
            "percentage of count of classes :\n",
            " 0    82.772917\n",
            "4     7.345181\n",
            "2     6.610777\n",
            "1     2.539005\n",
            "3     0.732120\n",
            "Name: label, dtype: float64\n"
          ],
          "name": "stdout"
        }
      ]
    },
    {
      "cell_type": "code",
      "metadata": {
        "colab": {
          "base_uri": "https://localhost:8080/",
          "height": 421
        },
        "id": "OwtXpYKisOKy",
        "outputId": "698a0250-eb29-4d10-c964-aa967e3dfd25"
      },
      "source": [
        "#Countplot \n",
        "plt.figure(figsize=(10,6))\n",
        "sns.countplot(df_train['label'],palette='husl')\n",
        "plt.title('Distribution of target classes before sampling')\n",
        "plt.xlabel('label')\n",
        "plt.ylabel('Index')"
      ],
      "id": "OwtXpYKisOKy",
      "execution_count": 99,
      "outputs": [
        {
          "output_type": "execute_result",
          "data": {
            "text/plain": [
              "Text(0, 0.5, 'Index')"
            ]
          },
          "metadata": {
            "tags": []
          },
          "execution_count": 99
        },
        {
          "output_type": "display_data",
          "data": {
            "image/png": "[encoded data removed]",
            "text/plain": [
              "<Figure size 720x432 with 1 Axes>"
            ]
          },
          "metadata": {
            "tags": [],
            "needs_background": "light"
          }
        }
      ]
    },
    {
      "cell_type": "code",
      "metadata": {
        "scrolled": true,
        "id": "Wc9JIqNzsOKy"
      },
      "source": [
        "# Separating predictors and the target features; training data on 186 columns\n",
        "\n",
        "# Train data\n",
        "X_train = df_train.drop('label', axis=1)\n",
        "y_train = df_train['label']\n",
        "\n",
        "# Test data\n",
        "X_test = df_test.drop('label', axis=1)\n",
        "y_test = df_test['label']"
      ],
      "id": "Wc9JIqNzsOKy",
      "execution_count": 100,
      "outputs": []
    },
    {
      "cell_type": "code",
      "metadata": {
        "colab": {
          "base_uri": "https://localhost:8080/"
        },
        "id": "TDssM_-A2CXR",
        "outputId": "e9c8c1bd-e095-4d3c-fa96-f46b89202de4"
      },
      "source": [
        "y_train"
      ],
      "id": "TDssM_-A2CXR",
      "execution_count": 101,
      "outputs": [
        {
          "output_type": "execute_result",
          "data": {
            "text/plain": [
              "0        0\n",
              "1        0\n",
              "2        0\n",
              "3        0\n",
              "4        0\n",
              "        ..\n",
              "87549    4\n",
              "87550    4\n",
              "87551    4\n",
              "87552    4\n",
              "87553    4\n",
              "Name: label, Length: 87554, dtype: uint8"
            ]
          },
          "metadata": {
            "tags": []
          },
          "execution_count": 101
        }
      ]
    },
    {
      "cell_type": "markdown",
      "metadata": {
        "id": "nXp7XqzSsOKz"
      },
      "source": [
        "It seems the classes in target variables are highly imbalanced. For balancing the classes I am using [SMOTE](https://arxiv.org/abs/1106.1813)."
      ],
      "id": "nXp7XqzSsOKz"
    },
    {
      "cell_type": "markdown",
      "metadata": {
        "id": "9OXeO1iPsOKz"
      },
      "source": [
        "### **Handling imbalanced data**\n",
        "Since the data is imbalanced, it needs to be balanced in order to achieve more accurate results from the ML model. To balance the data, I am using SMOTE (Synthetic Minority OverSampling Technique). SMOTE is an oversampling technique where the synthetic samples are generated for the minority class. This algorithm helps to overcome the overfitting problem posed by random oversampling. It focuses on the feature space to generate new instances with the help of interpolation between the positive instances that lie together.\n",
        "\n",
        "**This balancing should be done to the training data only if the classes are imbalanced.**\n",
        "\n",
        "More details on [SMOTE](https://medium.com/analytics-vidhya/balance-your-data-using-smote-98e4d79fcddb)"
      ],
      "id": "9OXeO1iPsOKz"
    },
    {
      "cell_type": "code",
      "metadata": {
        "colab": {
          "base_uri": "https://localhost:8080/"
        },
        "id": "xnB3Qyc5sOK0",
        "outputId": "ecd24f90-d64b-472c-e561-695301ba59b0"
      },
      "source": [
        "from imblearn.over_sampling import SMOTE\n",
        "from collections import Counter\n",
        "\n",
        "counter= Counter(y_train)\n",
        "print(f'Before Sampling', counter)\n",
        "# Oversampling the train data using SMOTE\n",
        "smt=SMOTE()\n",
        "X_train_sm,y_train_sm = smt.fit_resample(X_train,y_train)\n",
        "counter= Counter(y_train_sm)\n",
        "print('After Sampling', counter)"
      ],
      "id": "xnB3Qyc5sOK0",
      "execution_count": 102,
      "outputs": [
        {
          "output_type": "stream",
          "text": [
            "Before Sampling Counter({0: 72471, 4: 6431, 2: 5788, 1: 2223, 3: 641})\n",
            "After Sampling Counter({0: 72471, 1: 72471, 2: 72471, 3: 72471, 4: 72471})\n"
          ],
          "name": "stdout"
        }
      ]
    },
    {
      "cell_type": "code",
      "metadata": {
        "colab": {
          "base_uri": "https://localhost:8080/"
        },
        "id": "-XJNesiw2o4f",
        "outputId": "5e969cc8-5235-4d1f-8f42-aeb726fd885f"
      },
      "source": [
        "X_train_sm"
      ],
      "id": "-XJNesiw2o4f",
      "execution_count": 104,
      "outputs": [
        {
          "output_type": "execute_result",
          "data": {
            "text/plain": [
              "array([[0.97794116, 0.92647058, 0.68137252, ..., 0.        , 0.        ,\n",
              "        0.        ],\n",
              "       [0.96011394, 0.86324787, 0.46153846, ..., 0.        , 0.        ,\n",
              "        0.        ],\n",
              "       [1.        , 0.65945947, 0.18648648, ..., 0.        , 0.        ,\n",
              "        0.        ],\n",
              "       ...,\n",
              "       [1.        , 0.67009502, 0.40939037, ..., 0.        , 0.        ,\n",
              "        0.        ],\n",
              "       [0.73583015, 0.63728194, 0.5102477 , ..., 0.        , 0.        ,\n",
              "        0.        ],\n",
              "       [1.        , 0.50123888, 0.47524814, ..., 0.        , 0.        ,\n",
              "        0.        ]])"
            ]
          },
          "metadata": {
            "tags": []
          },
          "execution_count": 104
        }
      ]
    },
    {
      "cell_type": "markdown",
      "metadata": {
        "id": "9xkq30uRsOK1"
      },
      "source": [
        "#### Distribution of target classes after using SMOTE sampling"
      ],
      "id": "9xkq30uRsOK1"
    },
    {
      "cell_type": "code",
      "metadata": {
        "colab": {
          "base_uri": "https://localhost:8080/",
          "height": 421
        },
        "id": "gbcNZrDisOK1",
        "outputId": "49c5dfa4-cc1c-4314-ceeb-913946915218"
      },
      "source": [
        "#Countplot \n",
        "plt.figure(figsize=(10,6))\n",
        "sns.countplot(y_train_sm, palette='husl')\n",
        "plt.title('Distribution of target classes after SMOTE sampling')\n",
        "plt.xlabel('label')\n",
        "plt.ylabel('Index')"
      ],
      "id": "gbcNZrDisOK1",
      "execution_count": 39,
      "outputs": [
        {
          "output_type": "execute_result",
          "data": {
            "text/plain": [
              "Text(0, 0.5, 'Index')"
            ]
          },
          "metadata": {
            "tags": []
          },
          "execution_count": 39
        },
        {
          "output_type": "display_data",
          "data": {
            "image/png": "[encoded data removed]",
            "text/plain": [
              "<Figure size 720x432 with 1 Axes>"
            ]
          },
          "metadata": {
            "tags": [],
            "needs_background": "light"
          }
        }
      ]
    },
    {
      "cell_type": "markdown",
      "metadata": {
        "id": "SzeI_2QasOK2"
      },
      "source": [
        "**A visual peek into different classes of heartbeats** "
      ],
      "id": "SzeI_2QasOK2"
    },
    {
      "cell_type": "code",
      "metadata": {
        "id": "t8oIJB9-sOK3"
      },
      "source": [
        "# Defining a function to plot class distribution\n",
        "def class_distribution(df, class_label, index):\n",
        "    # Creating a dataframe for class_label\n",
        "    df = df[df.label== class_label]\n",
        "    # Resetting the index\n",
        "    df = df.reset_index(drop=True)\n",
        "    # Dropping the label column from df\n",
        "    df_new = df.drop('label',axis=1)\n",
        "    # Considering\n",
        "    df_array = df_new.loc[index,:]\n",
        "    return df_array"
      ],
      "id": "t8oIJB9-sOK3",
      "execution_count": 105,
      "outputs": []
    },
    {
      "cell_type": "code",
      "metadata": {
        "colab": {
          "base_uri": "https://localhost:8080/",
          "height": 421
        },
        "id": "MtUmCwF-sOK3",
        "outputId": "186be20d-df85-43d0-8fd0-ed67a028dd89"
      },
      "source": [
        "# 0 — Non-ectopic beats (normal beat)\n",
        "plt.figure(figsize = (10,6))\n",
        "neb_df = class_distribution(df_train, 0 , 6) # Signal corressponding to the index 5 is considered for all plots\n",
        "plt.plot(neb_df.index, neb_df.values)\n",
        "plt.title('Non-ectopic beats (normal beat)')\n",
        "plt.xlabel('Index')\n",
        "plt.ylabel('Non-ectopic beats (normal beat)')"
      ],
      "id": "MtUmCwF-sOK3",
      "execution_count": 106,
      "outputs": [
        {
          "output_type": "execute_result",
          "data": {
            "text/plain": [
              "Text(0, 0.5, 'Non-ectopic beats (normal beat)')"
            ]
          },
          "metadata": {
            "tags": []
          },
          "execution_count": 106
        },
        {
          "output_type": "display_data",
          "data": {
            "image/png": "[encoded data removed]",
            "text/plain": [
              "<Figure size 720x432 with 1 Axes>"
            ]
          },
          "metadata": {
            "tags": [],
            "needs_background": "light"
          }
        }
      ]
    },
    {
      "cell_type": "code",
      "metadata": {
        "colab": {
          "base_uri": "https://localhost:8080/",
          "height": 421
        },
        "id": "rVcpkk3SsOK4",
        "outputId": "e7b423a6-4914-4398-b28b-c0988f55e66c"
      },
      "source": [
        "# 1 — Supraventricular ectopic beats\n",
        "plt.figure(figsize = (10,6))\n",
        "seb_df = class_distribution(df_train, 1 , 10) # Signal corressponding to the index 5 is considered for all plots\n",
        "plt.plot(seb_df.index, seb_df.values)\n",
        "plt.title('Supraventricular ectopic beats')\n",
        "plt.xlabel('Index')\n",
        "plt.ylabel('Supraventricular ectopic beats')"
      ],
      "id": "rVcpkk3SsOK4",
      "execution_count": 107,
      "outputs": [
        {
          "output_type": "execute_result",
          "data": {
            "text/plain": [
              "Text(0, 0.5, 'Supraventricular ectopic beats')"
            ]
          },
          "metadata": {
            "tags": []
          },
          "execution_count": 107
        },
        {
          "output_type": "display_data",
          "data": {
            "image/png": "[encoded data removed]",
            "text/plain": [
              "<Figure size 720x432 with 1 Axes>"
            ]
          },
          "metadata": {
            "tags": [],
            "needs_background": "light"
          }
        }
      ]
    },
    {
      "cell_type": "code",
      "metadata": {
        "colab": {
          "base_uri": "https://localhost:8080/",
          "height": 421
        },
        "id": "vg4vArDJsOK5",
        "outputId": "d67bcaed-067c-48ba-9fe6-c7438e07239c"
      },
      "source": [
        "# 2 — Ventricular ectopic beats\n",
        "plt.figure(figsize = (10,6))\n",
        "veb_df = class_distribution(df_train, 2 , 5000) # Signal corressponding to the index 5 is considered for all plots\n",
        "plt.plot(veb_df.index, veb_df.values)\n",
        "plt.title('Ventricular ectopic beats')\n",
        "plt.xlabel('Index')\n",
        "plt.ylabel('Ventricular ectopic beats')"
      ],
      "id": "vg4vArDJsOK5",
      "execution_count": 108,
      "outputs": [
        {
          "output_type": "execute_result",
          "data": {
            "text/plain": [
              "Text(0, 0.5, 'Ventricular ectopic beats')"
            ]
          },
          "metadata": {
            "tags": []
          },
          "execution_count": 108
        },
        {
          "output_type": "display_data",
          "data": {
            "image/png": "[encoded data removed]",
            "text/plain": [
              "<Figure size 720x432 with 1 Axes>"
            ]
          },
          "metadata": {
            "tags": [],
            "needs_background": "light"
          }
        }
      ]
    },
    {
      "cell_type": "code",
      "metadata": {
        "colab": {
          "base_uri": "https://localhost:8080/",
          "height": 421
        },
        "id": "baSUauSCsOK6",
        "outputId": "78501a40-d08d-4bce-c7a0-c57290b16a2c"
      },
      "source": [
        "# 3 — Fusion beats\n",
        "plt.figure(figsize = (12,6))\n",
        "fb_df = class_distribution(df_train, 3 , 500) # Signal corressponding to the index 5 is considered for all plots\n",
        "plt.plot(fb_df.index, fb_df.values)\n",
        "plt.title('Fusion beats')\n",
        "plt.xlabel('Index')\n",
        "plt.ylabel('Fusion beats')"
      ],
      "id": "baSUauSCsOK6",
      "execution_count": 109,
      "outputs": [
        {
          "output_type": "execute_result",
          "data": {
            "text/plain": [
              "Text(0, 0.5, 'Fusion beats')"
            ]
          },
          "metadata": {
            "tags": []
          },
          "execution_count": 109
        },
        {
          "output_type": "display_data",
          "data": {
            "image/png": "[encoded data removed]",
            "text/plain": [
              "<Figure size 864x432 with 1 Axes>"
            ]
          },
          "metadata": {
            "tags": [],
            "needs_background": "light"
          }
        }
      ]
    },
    {
      "cell_type": "code",
      "metadata": {
        "colab": {
          "base_uri": "https://localhost:8080/",
          "height": 421
        },
        "id": "RJ0mbRJssOK6",
        "outputId": "1a4526c0-5a82-447f-d46a-590b987b1142"
      },
      "source": [
        "# 4 — Unknown beats\n",
        "plt.figure(figsize = (12,6))\n",
        "ub_df = class_distribution(df_train, 3 , 5) # Signal corressponding to the index 5 is considered for all plots\n",
        "plt.plot(ub_df.index, ub_df.values)\n",
        "plt.title('Unknown beats')\n",
        "plt.xlabel('Index')\n",
        "plt.ylabel('Unknown beats')"
      ],
      "id": "RJ0mbRJssOK6",
      "execution_count": 110,
      "outputs": [
        {
          "output_type": "execute_result",
          "data": {
            "text/plain": [
              "Text(0, 0.5, 'Unknown beats')"
            ]
          },
          "metadata": {
            "tags": []
          },
          "execution_count": 110
        },
        {
          "output_type": "display_data",
          "data": {
            "image/png": "[encoded data removed]",
            "text/plain": [
              "<Figure size 864x432 with 1 Axes>"
            ]
          },
          "metadata": {
            "tags": [],
            "needs_background": "light"
          }
        }
      ]
    },
    {
      "cell_type": "markdown",
      "metadata": {
        "id": "Do0w6qqXsOK7"
      },
      "source": [
        "#### Preprocessing"
      ],
      "id": "Do0w6qqXsOK7"
    },
    {
      "cell_type": "markdown",
      "metadata": {
        "id": "X-Gm4ZfWsOK7"
      },
      "source": [
        "**Adding noise**   \n",
        "Noise is added to the data to mimic the external random processes that can interfere in the data recording process. Additive white Gaussian noise (AWGN) model is  used for this task."
      ],
      "id": "X-Gm4ZfWsOK7"
    },
    {
      "cell_type": "code",
      "metadata": {
        "id": "ON7BGbddsOK7"
      },
      "source": [
        "# Adding some noise to increase efficiency of the trained model\n",
        "def gaussian_noise(signal):\n",
        "    noise = np.random.normal(0,0.05,187)\n",
        "    return signal + noise\n",
        "# Input to the model\n",
        "X_train = X_train.values\n",
        "# Adding noise\n",
        "for i in range(X_train.shape[0]):\n",
        "    X_train[i, :] = gaussian_noise(X_train[i, :])\n",
        "    \n",
        "# Convert X_train into dataframe\n",
        "X_train = pd.DataFrame(X_train)"
      ],
      "id": "ON7BGbddsOK7",
      "execution_count": 111,
      "outputs": []
    },
    {
      "cell_type": "code",
      "metadata": {
        "colab": {
          "base_uri": "https://localhost:8080/",
          "height": 439
        },
        "id": "KFEn7xa83TiU",
        "outputId": "604b278b-b4c7-42ee-9724-87683cadc9d1"
      },
      "source": [
        "X_train"
      ],
      "id": "KFEn7xa83TiU",
      "execution_count": 112,
      "outputs": [
        {
          "output_type": "execute_result",
          "data": {
            "text/html": [
              "<div>\n",
              "<style scoped>\n",
              "    .dataframe tbody tr th:only-of-type {\n",
              "        vertical-align: middle;\n",
              "    }\n",
              "\n",
              "    .dataframe tbody tr th {\n",
              "        vertical-align: top;\n",
              "    }\n",
              "\n",
              "    .dataframe thead th {\n",
              "        text-align: right;\n",
              "    }\n",
              "</style>\n",
              "<table border=\"1\" class=\"dataframe\">\n",
              "  <thead>\n",
              "    <tr style=\"text-align: right;\">\n",
              "      <th></th>\n",
              "      <th>0</th>\n",
              "      <th>1</th>\n",
              "      <th>2</th>\n",
              "      <th>3</th>\n",
              "      <th>4</th>\n",
              "      <th>5</th>\n",
              "      <th>6</th>\n",
              "      <th>7</th>\n",
              "      <th>8</th>\n",
              "      <th>9</th>\n",
              "      <th>10</th>\n",
              "      <th>11</th>\n",
              "      <th>12</th>\n",
              "      <th>13</th>\n",
              "      <th>14</th>\n",
              "      <th>15</th>\n",
              "      <th>16</th>\n",
              "      <th>17</th>\n",
              "      <th>18</th>\n",
              "      <th>19</th>\n",
              "      <th>20</th>\n",
              "      <th>21</th>\n",
              "      <th>22</th>\n",
              "      <th>23</th>\n",
              "      <th>24</th>\n",
              "      <th>25</th>\n",
              "      <th>26</th>\n",
              "      <th>27</th>\n",
              "      <th>28</th>\n",
              "      <th>29</th>\n",
              "      <th>30</th>\n",
              "      <th>31</th>\n",
              "      <th>32</th>\n",
              "      <th>33</th>\n",
              "      <th>34</th>\n",
              "      <th>35</th>\n",
              "      <th>36</th>\n",
              "      <th>37</th>\n",
              "      <th>38</th>\n",
              "      <th>39</th>\n",
              "      <th>...</th>\n",
              "      <th>147</th>\n",
              "      <th>148</th>\n",
              "      <th>149</th>\n",
              "      <th>150</th>\n",
              "      <th>151</th>\n",
              "      <th>152</th>\n",
              "      <th>153</th>\n",
              "      <th>154</th>\n",
              "      <th>155</th>\n",
              "      <th>156</th>\n",
              "      <th>157</th>\n",
              "      <th>158</th>\n",
              "      <th>159</th>\n",
              "      <th>160</th>\n",
              "      <th>161</th>\n",
              "      <th>162</th>\n",
              "      <th>163</th>\n",
              "      <th>164</th>\n",
              "      <th>165</th>\n",
              "      <th>166</th>\n",
              "      <th>167</th>\n",
              "      <th>168</th>\n",
              "      <th>169</th>\n",
              "      <th>170</th>\n",
              "      <th>171</th>\n",
              "      <th>172</th>\n",
              "      <th>173</th>\n",
              "      <th>174</th>\n",
              "      <th>175</th>\n",
              "      <th>176</th>\n",
              "      <th>177</th>\n",
              "      <th>178</th>\n",
              "      <th>179</th>\n",
              "      <th>180</th>\n",
              "      <th>181</th>\n",
              "      <th>182</th>\n",
              "      <th>183</th>\n",
              "      <th>184</th>\n",
              "      <th>185</th>\n",
              "      <th>186</th>\n",
              "    </tr>\n",
              "  </thead>\n",
              "  <tbody>\n",
              "    <tr>\n",
              "      <th>0</th>\n",
              "      <td>1.018535</td>\n",
              "      <td>0.989152</td>\n",
              "      <td>0.732103</td>\n",
              "      <td>0.282118</td>\n",
              "      <td>0.145802</td>\n",
              "      <td>0.213707</td>\n",
              "      <td>0.139891</td>\n",
              "      <td>0.167891</td>\n",
              "      <td>0.028851</td>\n",
              "      <td>0.060480</td>\n",
              "      <td>-0.008107</td>\n",
              "      <td>0.165400</td>\n",
              "      <td>0.017163</td>\n",
              "      <td>0.097696</td>\n",
              "      <td>0.031034</td>\n",
              "      <td>0.056021</td>\n",
              "      <td>0.029487</td>\n",
              "      <td>0.067993</td>\n",
              "      <td>0.133351</td>\n",
              "      <td>0.106162</td>\n",
              "      <td>0.086654</td>\n",
              "      <td>0.075846</td>\n",
              "      <td>0.131738</td>\n",
              "      <td>0.035510</td>\n",
              "      <td>0.149625</td>\n",
              "      <td>-0.000508</td>\n",
              "      <td>0.131484</td>\n",
              "      <td>0.211479</td>\n",
              "      <td>0.121021</td>\n",
              "      <td>0.183866</td>\n",
              "      <td>0.248857</td>\n",
              "      <td>0.165045</td>\n",
              "      <td>0.146368</td>\n",
              "      <td>0.136446</td>\n",
              "      <td>0.120130</td>\n",
              "      <td>0.121086</td>\n",
              "      <td>0.127020</td>\n",
              "      <td>0.105930</td>\n",
              "      <td>0.167568</td>\n",
              "      <td>0.163963</td>\n",
              "      <td>...</td>\n",
              "      <td>-0.007943</td>\n",
              "      <td>-0.032336</td>\n",
              "      <td>0.067254</td>\n",
              "      <td>0.038794</td>\n",
              "      <td>-0.058658</td>\n",
              "      <td>-0.061521</td>\n",
              "      <td>0.019162</td>\n",
              "      <td>-0.031865</td>\n",
              "      <td>-0.086815</td>\n",
              "      <td>-0.027936</td>\n",
              "      <td>-0.070341</td>\n",
              "      <td>-0.063569</td>\n",
              "      <td>-0.021607</td>\n",
              "      <td>-0.028610</td>\n",
              "      <td>-0.081448</td>\n",
              "      <td>-0.069372</td>\n",
              "      <td>0.098748</td>\n",
              "      <td>0.016044</td>\n",
              "      <td>0.028255</td>\n",
              "      <td>-0.022153</td>\n",
              "      <td>-0.082087</td>\n",
              "      <td>-0.053197</td>\n",
              "      <td>0.043821</td>\n",
              "      <td>-0.025380</td>\n",
              "      <td>0.030364</td>\n",
              "      <td>0.106456</td>\n",
              "      <td>-0.020501</td>\n",
              "      <td>-0.018671</td>\n",
              "      <td>-0.050234</td>\n",
              "      <td>0.001178</td>\n",
              "      <td>0.038865</td>\n",
              "      <td>0.002061</td>\n",
              "      <td>0.000965</td>\n",
              "      <td>0.083514</td>\n",
              "      <td>0.029811</td>\n",
              "      <td>0.005322</td>\n",
              "      <td>0.007632</td>\n",
              "      <td>0.023701</td>\n",
              "      <td>0.040951</td>\n",
              "      <td>0.007479</td>\n",
              "    </tr>\n",
              "    <tr>\n",
              "      <th>1</th>\n",
              "      <td>0.886144</td>\n",
              "      <td>0.913647</td>\n",
              "      <td>0.514886</td>\n",
              "      <td>0.236213</td>\n",
              "      <td>0.192528</td>\n",
              "      <td>0.153960</td>\n",
              "      <td>0.039436</td>\n",
              "      <td>-0.004376</td>\n",
              "      <td>0.127784</td>\n",
              "      <td>0.069374</td>\n",
              "      <td>0.095043</td>\n",
              "      <td>0.033127</td>\n",
              "      <td>0.071647</td>\n",
              "      <td>-0.014393</td>\n",
              "      <td>0.041655</td>\n",
              "      <td>0.013363</td>\n",
              "      <td>0.049490</td>\n",
              "      <td>0.081411</td>\n",
              "      <td>0.125382</td>\n",
              "      <td>0.035404</td>\n",
              "      <td>0.058678</td>\n",
              "      <td>0.100889</td>\n",
              "      <td>0.017430</td>\n",
              "      <td>0.020224</td>\n",
              "      <td>0.129155</td>\n",
              "      <td>0.100643</td>\n",
              "      <td>0.185312</td>\n",
              "      <td>0.254705</td>\n",
              "      <td>0.206122</td>\n",
              "      <td>0.174615</td>\n",
              "      <td>0.194737</td>\n",
              "      <td>0.242886</td>\n",
              "      <td>0.354907</td>\n",
              "      <td>0.374151</td>\n",
              "      <td>0.312426</td>\n",
              "      <td>0.233284</td>\n",
              "      <td>0.284253</td>\n",
              "      <td>0.159329</td>\n",
              "      <td>0.163885</td>\n",
              "      <td>0.148049</td>\n",
              "      <td>...</td>\n",
              "      <td>0.085398</td>\n",
              "      <td>-0.039503</td>\n",
              "      <td>0.010032</td>\n",
              "      <td>0.090885</td>\n",
              "      <td>0.003916</td>\n",
              "      <td>0.032130</td>\n",
              "      <td>0.032406</td>\n",
              "      <td>-0.011431</td>\n",
              "      <td>0.101363</td>\n",
              "      <td>0.096320</td>\n",
              "      <td>0.025634</td>\n",
              "      <td>-0.029814</td>\n",
              "      <td>0.022071</td>\n",
              "      <td>-0.065858</td>\n",
              "      <td>-0.058762</td>\n",
              "      <td>0.019497</td>\n",
              "      <td>-0.041591</td>\n",
              "      <td>-0.041184</td>\n",
              "      <td>-0.006216</td>\n",
              "      <td>0.046988</td>\n",
              "      <td>0.020448</td>\n",
              "      <td>-0.003689</td>\n",
              "      <td>-0.069215</td>\n",
              "      <td>0.033999</td>\n",
              "      <td>0.010350</td>\n",
              "      <td>-0.040126</td>\n",
              "      <td>-0.000234</td>\n",
              "      <td>-0.046151</td>\n",
              "      <td>0.043414</td>\n",
              "      <td>-0.021294</td>\n",
              "      <td>-0.009159</td>\n",
              "      <td>0.001886</td>\n",
              "      <td>0.062430</td>\n",
              "      <td>-0.023363</td>\n",
              "      <td>-0.051576</td>\n",
              "      <td>-0.052385</td>\n",
              "      <td>0.034679</td>\n",
              "      <td>-0.025678</td>\n",
              "      <td>0.017321</td>\n",
              "      <td>-0.061402</td>\n",
              "    </tr>\n",
              "    <tr>\n",
              "      <th>2</th>\n",
              "      <td>1.034318</td>\n",
              "      <td>0.755934</td>\n",
              "      <td>0.224956</td>\n",
              "      <td>0.079831</td>\n",
              "      <td>0.026468</td>\n",
              "      <td>0.136345</td>\n",
              "      <td>0.037285</td>\n",
              "      <td>-0.053449</td>\n",
              "      <td>0.055829</td>\n",
              "      <td>-0.003226</td>\n",
              "      <td>0.002514</td>\n",
              "      <td>0.011132</td>\n",
              "      <td>0.062815</td>\n",
              "      <td>0.045368</td>\n",
              "      <td>0.101472</td>\n",
              "      <td>-0.021264</td>\n",
              "      <td>0.051990</td>\n",
              "      <td>0.167344</td>\n",
              "      <td>-0.012210</td>\n",
              "      <td>0.092659</td>\n",
              "      <td>0.102416</td>\n",
              "      <td>0.117510</td>\n",
              "      <td>0.205595</td>\n",
              "      <td>0.230066</td>\n",
              "      <td>0.126627</td>\n",
              "      <td>0.208427</td>\n",
              "      <td>0.231644</td>\n",
              "      <td>0.313823</td>\n",
              "      <td>0.276714</td>\n",
              "      <td>0.306721</td>\n",
              "      <td>0.361729</td>\n",
              "      <td>0.246203</td>\n",
              "      <td>0.253583</td>\n",
              "      <td>0.143213</td>\n",
              "      <td>0.206799</td>\n",
              "      <td>0.149584</td>\n",
              "      <td>0.084900</td>\n",
              "      <td>0.160263</td>\n",
              "      <td>0.101666</td>\n",
              "      <td>0.035572</td>\n",
              "      <td>...</td>\n",
              "      <td>0.004786</td>\n",
              "      <td>-0.061065</td>\n",
              "      <td>-0.057714</td>\n",
              "      <td>0.036749</td>\n",
              "      <td>-0.056772</td>\n",
              "      <td>0.033156</td>\n",
              "      <td>-0.010771</td>\n",
              "      <td>0.001154</td>\n",
              "      <td>0.030781</td>\n",
              "      <td>0.011139</td>\n",
              "      <td>0.006461</td>\n",
              "      <td>0.007735</td>\n",
              "      <td>0.027670</td>\n",
              "      <td>-0.104671</td>\n",
              "      <td>0.047302</td>\n",
              "      <td>-0.037106</td>\n",
              "      <td>-0.071213</td>\n",
              "      <td>0.028996</td>\n",
              "      <td>-0.014419</td>\n",
              "      <td>0.001147</td>\n",
              "      <td>0.055645</td>\n",
              "      <td>0.052832</td>\n",
              "      <td>0.017392</td>\n",
              "      <td>0.029788</td>\n",
              "      <td>0.015061</td>\n",
              "      <td>0.061018</td>\n",
              "      <td>0.063516</td>\n",
              "      <td>-0.024408</td>\n",
              "      <td>-0.046060</td>\n",
              "      <td>0.083497</td>\n",
              "      <td>-0.032731</td>\n",
              "      <td>-0.102068</td>\n",
              "      <td>-0.025056</td>\n",
              "      <td>0.097063</td>\n",
              "      <td>0.027319</td>\n",
              "      <td>0.013072</td>\n",
              "      <td>0.045284</td>\n",
              "      <td>0.003932</td>\n",
              "      <td>0.105297</td>\n",
              "      <td>0.015065</td>\n",
              "    </tr>\n",
              "    <tr>\n",
              "      <th>3</th>\n",
              "      <td>0.907500</td>\n",
              "      <td>0.720850</td>\n",
              "      <td>0.566544</td>\n",
              "      <td>0.230855</td>\n",
              "      <td>0.152246</td>\n",
              "      <td>0.129370</td>\n",
              "      <td>0.046040</td>\n",
              "      <td>0.068234</td>\n",
              "      <td>0.016014</td>\n",
              "      <td>0.041457</td>\n",
              "      <td>0.030038</td>\n",
              "      <td>0.092624</td>\n",
              "      <td>0.143320</td>\n",
              "      <td>0.110239</td>\n",
              "      <td>0.166750</td>\n",
              "      <td>0.089562</td>\n",
              "      <td>0.160586</td>\n",
              "      <td>0.053685</td>\n",
              "      <td>0.155218</td>\n",
              "      <td>0.096962</td>\n",
              "      <td>0.032450</td>\n",
              "      <td>0.091219</td>\n",
              "      <td>0.094038</td>\n",
              "      <td>0.073096</td>\n",
              "      <td>0.198905</td>\n",
              "      <td>0.095375</td>\n",
              "      <td>0.172212</td>\n",
              "      <td>0.228707</td>\n",
              "      <td>0.159592</td>\n",
              "      <td>0.195196</td>\n",
              "      <td>0.125515</td>\n",
              "      <td>0.149787</td>\n",
              "      <td>0.080033</td>\n",
              "      <td>-0.039030</td>\n",
              "      <td>-0.019926</td>\n",
              "      <td>0.003870</td>\n",
              "      <td>0.016349</td>\n",
              "      <td>-0.090572</td>\n",
              "      <td>0.086809</td>\n",
              "      <td>0.127458</td>\n",
              "      <td>...</td>\n",
              "      <td>0.052995</td>\n",
              "      <td>-0.020637</td>\n",
              "      <td>0.017186</td>\n",
              "      <td>0.001094</td>\n",
              "      <td>-0.049146</td>\n",
              "      <td>0.033033</td>\n",
              "      <td>-0.053313</td>\n",
              "      <td>-0.059214</td>\n",
              "      <td>0.033871</td>\n",
              "      <td>-0.002202</td>\n",
              "      <td>0.046381</td>\n",
              "      <td>0.007765</td>\n",
              "      <td>-0.007009</td>\n",
              "      <td>-0.060034</td>\n",
              "      <td>-0.002353</td>\n",
              "      <td>-0.066319</td>\n",
              "      <td>-0.024206</td>\n",
              "      <td>0.082860</td>\n",
              "      <td>-0.003338</td>\n",
              "      <td>0.030321</td>\n",
              "      <td>-0.026916</td>\n",
              "      <td>-0.074931</td>\n",
              "      <td>0.061414</td>\n",
              "      <td>-0.006070</td>\n",
              "      <td>-0.103408</td>\n",
              "      <td>-0.062011</td>\n",
              "      <td>-0.003503</td>\n",
              "      <td>-0.060229</td>\n",
              "      <td>0.082563</td>\n",
              "      <td>-0.017520</td>\n",
              "      <td>0.035847</td>\n",
              "      <td>0.081408</td>\n",
              "      <td>-0.001699</td>\n",
              "      <td>-0.042862</td>\n",
              "      <td>-0.011064</td>\n",
              "      <td>0.052327</td>\n",
              "      <td>0.080745</td>\n",
              "      <td>0.036032</td>\n",
              "      <td>-0.070888</td>\n",
              "      <td>0.025797</td>\n",
              "    </tr>\n",
              "    <tr>\n",
              "      <th>4</th>\n",
              "      <td>1.007244</td>\n",
              "      <td>0.946588</td>\n",
              "      <td>0.886835</td>\n",
              "      <td>0.531732</td>\n",
              "      <td>0.322036</td>\n",
              "      <td>0.277014</td>\n",
              "      <td>0.157642</td>\n",
              "      <td>0.131321</td>\n",
              "      <td>0.146373</td>\n",
              "      <td>0.165601</td>\n",
              "      <td>0.131101</td>\n",
              "      <td>0.111107</td>\n",
              "      <td>0.188163</td>\n",
              "      <td>0.245207</td>\n",
              "      <td>0.127211</td>\n",
              "      <td>0.148389</td>\n",
              "      <td>0.045935</td>\n",
              "      <td>0.234421</td>\n",
              "      <td>0.107995</td>\n",
              "      <td>0.202701</td>\n",
              "      <td>0.237322</td>\n",
              "      <td>0.227104</td>\n",
              "      <td>0.223524</td>\n",
              "      <td>0.111631</td>\n",
              "      <td>0.156518</td>\n",
              "      <td>0.253136</td>\n",
              "      <td>0.149954</td>\n",
              "      <td>0.193139</td>\n",
              "      <td>0.115106</td>\n",
              "      <td>0.145028</td>\n",
              "      <td>0.253540</td>\n",
              "      <td>0.238004</td>\n",
              "      <td>0.282168</td>\n",
              "      <td>0.252301</td>\n",
              "      <td>0.202450</td>\n",
              "      <td>0.168514</td>\n",
              "      <td>0.170505</td>\n",
              "      <td>0.284326</td>\n",
              "      <td>0.272380</td>\n",
              "      <td>0.135965</td>\n",
              "      <td>...</td>\n",
              "      <td>0.018532</td>\n",
              "      <td>-0.036527</td>\n",
              "      <td>0.084986</td>\n",
              "      <td>0.046740</td>\n",
              "      <td>0.014035</td>\n",
              "      <td>0.048758</td>\n",
              "      <td>0.110897</td>\n",
              "      <td>-0.000797</td>\n",
              "      <td>-0.012507</td>\n",
              "      <td>-0.027681</td>\n",
              "      <td>-0.013809</td>\n",
              "      <td>-0.040609</td>\n",
              "      <td>0.008466</td>\n",
              "      <td>0.022724</td>\n",
              "      <td>-0.101270</td>\n",
              "      <td>-0.052005</td>\n",
              "      <td>-0.023111</td>\n",
              "      <td>0.023938</td>\n",
              "      <td>0.034757</td>\n",
              "      <td>-0.006141</td>\n",
              "      <td>-0.026348</td>\n",
              "      <td>-0.070411</td>\n",
              "      <td>-0.021225</td>\n",
              "      <td>-0.036657</td>\n",
              "      <td>0.032910</td>\n",
              "      <td>-0.040430</td>\n",
              "      <td>-0.031975</td>\n",
              "      <td>-0.019219</td>\n",
              "      <td>0.037577</td>\n",
              "      <td>-0.035777</td>\n",
              "      <td>-0.067711</td>\n",
              "      <td>-0.130467</td>\n",
              "      <td>-0.055642</td>\n",
              "      <td>-0.071292</td>\n",
              "      <td>-0.051025</td>\n",
              "      <td>-0.015037</td>\n",
              "      <td>0.053514</td>\n",
              "      <td>-0.028134</td>\n",
              "      <td>-0.077478</td>\n",
              "      <td>-0.070498</td>\n",
              "    </tr>\n",
              "    <tr>\n",
              "      <th>...</th>\n",
              "      <td>...</td>\n",
              "      <td>...</td>\n",
              "      <td>...</td>\n",
              "      <td>...</td>\n",
              "      <td>...</td>\n",
              "      <td>...</td>\n",
              "      <td>...</td>\n",
              "      <td>...</td>\n",
              "      <td>...</td>\n",
              "      <td>...</td>\n",
              "      <td>...</td>\n",
              "      <td>...</td>\n",
              "      <td>...</td>\n",
              "      <td>...</td>\n",
              "      <td>...</td>\n",
              "      <td>...</td>\n",
              "      <td>...</td>\n",
              "      <td>...</td>\n",
              "      <td>...</td>\n",
              "      <td>...</td>\n",
              "      <td>...</td>\n",
              "      <td>...</td>\n",
              "      <td>...</td>\n",
              "      <td>...</td>\n",
              "      <td>...</td>\n",
              "      <td>...</td>\n",
              "      <td>...</td>\n",
              "      <td>...</td>\n",
              "      <td>...</td>\n",
              "      <td>...</td>\n",
              "      <td>...</td>\n",
              "      <td>...</td>\n",
              "      <td>...</td>\n",
              "      <td>...</td>\n",
              "      <td>...</td>\n",
              "      <td>...</td>\n",
              "      <td>...</td>\n",
              "      <td>...</td>\n",
              "      <td>...</td>\n",
              "      <td>...</td>\n",
              "      <td>...</td>\n",
              "      <td>...</td>\n",
              "      <td>...</td>\n",
              "      <td>...</td>\n",
              "      <td>...</td>\n",
              "      <td>...</td>\n",
              "      <td>...</td>\n",
              "      <td>...</td>\n",
              "      <td>...</td>\n",
              "      <td>...</td>\n",
              "      <td>...</td>\n",
              "      <td>...</td>\n",
              "      <td>...</td>\n",
              "      <td>...</td>\n",
              "      <td>...</td>\n",
              "      <td>...</td>\n",
              "      <td>...</td>\n",
              "      <td>...</td>\n",
              "      <td>...</td>\n",
              "      <td>...</td>\n",
              "      <td>...</td>\n",
              "      <td>...</td>\n",
              "      <td>...</td>\n",
              "      <td>...</td>\n",
              "      <td>...</td>\n",
              "      <td>...</td>\n",
              "      <td>...</td>\n",
              "      <td>...</td>\n",
              "      <td>...</td>\n",
              "      <td>...</td>\n",
              "      <td>...</td>\n",
              "      <td>...</td>\n",
              "      <td>...</td>\n",
              "      <td>...</td>\n",
              "      <td>...</td>\n",
              "      <td>...</td>\n",
              "      <td>...</td>\n",
              "      <td>...</td>\n",
              "      <td>...</td>\n",
              "      <td>...</td>\n",
              "      <td>...</td>\n",
              "    </tr>\n",
              "    <tr>\n",
              "      <th>87549</th>\n",
              "      <td>0.810159</td>\n",
              "      <td>0.584906</td>\n",
              "      <td>0.685083</td>\n",
              "      <td>0.482947</td>\n",
              "      <td>0.450139</td>\n",
              "      <td>0.506766</td>\n",
              "      <td>0.525418</td>\n",
              "      <td>0.443947</td>\n",
              "      <td>0.285797</td>\n",
              "      <td>0.094115</td>\n",
              "      <td>0.047017</td>\n",
              "      <td>0.123620</td>\n",
              "      <td>0.088640</td>\n",
              "      <td>0.182959</td>\n",
              "      <td>0.087015</td>\n",
              "      <td>0.148235</td>\n",
              "      <td>0.112583</td>\n",
              "      <td>0.075427</td>\n",
              "      <td>0.133813</td>\n",
              "      <td>0.138814</td>\n",
              "      <td>0.141427</td>\n",
              "      <td>0.196610</td>\n",
              "      <td>0.182361</td>\n",
              "      <td>0.148418</td>\n",
              "      <td>0.217942</td>\n",
              "      <td>0.201189</td>\n",
              "      <td>0.154976</td>\n",
              "      <td>0.198033</td>\n",
              "      <td>0.193735</td>\n",
              "      <td>0.269205</td>\n",
              "      <td>0.234332</td>\n",
              "      <td>0.051739</td>\n",
              "      <td>0.239572</td>\n",
              "      <td>0.240626</td>\n",
              "      <td>0.269782</td>\n",
              "      <td>0.302794</td>\n",
              "      <td>0.233239</td>\n",
              "      <td>0.296906</td>\n",
              "      <td>0.247169</td>\n",
              "      <td>0.372413</td>\n",
              "      <td>...</td>\n",
              "      <td>0.017720</td>\n",
              "      <td>0.033485</td>\n",
              "      <td>0.046854</td>\n",
              "      <td>0.069577</td>\n",
              "      <td>-0.008253</td>\n",
              "      <td>0.062928</td>\n",
              "      <td>-0.034825</td>\n",
              "      <td>-0.026081</td>\n",
              "      <td>0.008182</td>\n",
              "      <td>-0.038057</td>\n",
              "      <td>0.038593</td>\n",
              "      <td>-0.008904</td>\n",
              "      <td>0.024408</td>\n",
              "      <td>-0.026876</td>\n",
              "      <td>0.049916</td>\n",
              "      <td>0.024308</td>\n",
              "      <td>0.020294</td>\n",
              "      <td>-0.002987</td>\n",
              "      <td>-0.009266</td>\n",
              "      <td>0.062423</td>\n",
              "      <td>0.039516</td>\n",
              "      <td>-0.006247</td>\n",
              "      <td>0.057059</td>\n",
              "      <td>-0.037028</td>\n",
              "      <td>-0.010058</td>\n",
              "      <td>0.096188</td>\n",
              "      <td>-0.018899</td>\n",
              "      <td>-0.030533</td>\n",
              "      <td>0.040418</td>\n",
              "      <td>-0.073640</td>\n",
              "      <td>-0.042809</td>\n",
              "      <td>0.040747</td>\n",
              "      <td>0.044672</td>\n",
              "      <td>-0.056639</td>\n",
              "      <td>-0.014709</td>\n",
              "      <td>0.007660</td>\n",
              "      <td>-0.036896</td>\n",
              "      <td>0.045361</td>\n",
              "      <td>0.008226</td>\n",
              "      <td>0.007170</td>\n",
              "    </tr>\n",
              "    <tr>\n",
              "      <th>87550</th>\n",
              "      <td>0.680207</td>\n",
              "      <td>0.616786</td>\n",
              "      <td>0.483750</td>\n",
              "      <td>0.343062</td>\n",
              "      <td>0.251506</td>\n",
              "      <td>0.194233</td>\n",
              "      <td>0.025370</td>\n",
              "      <td>0.038069</td>\n",
              "      <td>-0.057626</td>\n",
              "      <td>0.006927</td>\n",
              "      <td>0.081450</td>\n",
              "      <td>0.174513</td>\n",
              "      <td>0.247937</td>\n",
              "      <td>0.243280</td>\n",
              "      <td>0.309064</td>\n",
              "      <td>0.434596</td>\n",
              "      <td>0.524609</td>\n",
              "      <td>0.510200</td>\n",
              "      <td>0.457886</td>\n",
              "      <td>0.573424</td>\n",
              "      <td>0.604931</td>\n",
              "      <td>0.591094</td>\n",
              "      <td>0.616749</td>\n",
              "      <td>0.657211</td>\n",
              "      <td>0.598669</td>\n",
              "      <td>0.641014</td>\n",
              "      <td>0.701514</td>\n",
              "      <td>0.717456</td>\n",
              "      <td>0.675597</td>\n",
              "      <td>0.694540</td>\n",
              "      <td>0.829636</td>\n",
              "      <td>0.605859</td>\n",
              "      <td>0.678518</td>\n",
              "      <td>0.765674</td>\n",
              "      <td>0.814543</td>\n",
              "      <td>0.835232</td>\n",
              "      <td>0.816935</td>\n",
              "      <td>0.821323</td>\n",
              "      <td>0.825078</td>\n",
              "      <td>0.852536</td>\n",
              "      <td>...</td>\n",
              "      <td>-0.032778</td>\n",
              "      <td>0.090346</td>\n",
              "      <td>-0.069629</td>\n",
              "      <td>0.003609</td>\n",
              "      <td>0.038714</td>\n",
              "      <td>-0.029391</td>\n",
              "      <td>-0.021701</td>\n",
              "      <td>0.075020</td>\n",
              "      <td>0.041197</td>\n",
              "      <td>0.116908</td>\n",
              "      <td>-0.005439</td>\n",
              "      <td>0.021502</td>\n",
              "      <td>-0.029763</td>\n",
              "      <td>0.068028</td>\n",
              "      <td>-0.097508</td>\n",
              "      <td>-0.055306</td>\n",
              "      <td>-0.050288</td>\n",
              "      <td>-0.031267</td>\n",
              "      <td>0.039496</td>\n",
              "      <td>-0.029463</td>\n",
              "      <td>-0.016996</td>\n",
              "      <td>-0.012147</td>\n",
              "      <td>-0.074408</td>\n",
              "      <td>0.040814</td>\n",
              "      <td>-0.025584</td>\n",
              "      <td>0.062709</td>\n",
              "      <td>0.023768</td>\n",
              "      <td>-0.006149</td>\n",
              "      <td>0.002844</td>\n",
              "      <td>-0.023376</td>\n",
              "      <td>-0.019308</td>\n",
              "      <td>-0.051037</td>\n",
              "      <td>0.004018</td>\n",
              "      <td>-0.001259</td>\n",
              "      <td>0.015867</td>\n",
              "      <td>-0.040045</td>\n",
              "      <td>-0.006077</td>\n",
              "      <td>-0.126178</td>\n",
              "      <td>0.046645</td>\n",
              "      <td>-0.090324</td>\n",
              "    </tr>\n",
              "    <tr>\n",
              "      <th>87551</th>\n",
              "      <td>0.915840</td>\n",
              "      <td>0.590311</td>\n",
              "      <td>0.643044</td>\n",
              "      <td>0.513115</td>\n",
              "      <td>0.561577</td>\n",
              "      <td>0.517765</td>\n",
              "      <td>0.491799</td>\n",
              "      <td>0.399151</td>\n",
              "      <td>0.344782</td>\n",
              "      <td>0.164599</td>\n",
              "      <td>0.081249</td>\n",
              "      <td>0.052469</td>\n",
              "      <td>0.062434</td>\n",
              "      <td>0.027257</td>\n",
              "      <td>0.028699</td>\n",
              "      <td>0.072092</td>\n",
              "      <td>0.159687</td>\n",
              "      <td>0.286461</td>\n",
              "      <td>0.340625</td>\n",
              "      <td>0.482823</td>\n",
              "      <td>0.443438</td>\n",
              "      <td>0.499246</td>\n",
              "      <td>0.489758</td>\n",
              "      <td>0.554530</td>\n",
              "      <td>0.456617</td>\n",
              "      <td>0.526111</td>\n",
              "      <td>0.533546</td>\n",
              "      <td>0.480470</td>\n",
              "      <td>0.630017</td>\n",
              "      <td>0.616303</td>\n",
              "      <td>0.698046</td>\n",
              "      <td>0.585271</td>\n",
              "      <td>0.634809</td>\n",
              "      <td>0.565139</td>\n",
              "      <td>0.645812</td>\n",
              "      <td>0.689175</td>\n",
              "      <td>0.593975</td>\n",
              "      <td>0.673186</td>\n",
              "      <td>0.636201</td>\n",
              "      <td>0.626085</td>\n",
              "      <td>...</td>\n",
              "      <td>0.030830</td>\n",
              "      <td>-0.021016</td>\n",
              "      <td>0.017943</td>\n",
              "      <td>0.008557</td>\n",
              "      <td>-0.108898</td>\n",
              "      <td>0.014006</td>\n",
              "      <td>-0.059672</td>\n",
              "      <td>0.001389</td>\n",
              "      <td>0.029728</td>\n",
              "      <td>0.058777</td>\n",
              "      <td>-0.016277</td>\n",
              "      <td>-0.034811</td>\n",
              "      <td>-0.007392</td>\n",
              "      <td>-0.010232</td>\n",
              "      <td>-0.039890</td>\n",
              "      <td>0.083712</td>\n",
              "      <td>-0.052586</td>\n",
              "      <td>0.045399</td>\n",
              "      <td>0.032621</td>\n",
              "      <td>-0.067648</td>\n",
              "      <td>-0.029931</td>\n",
              "      <td>-0.021781</td>\n",
              "      <td>0.061652</td>\n",
              "      <td>-0.069103</td>\n",
              "      <td>0.002996</td>\n",
              "      <td>0.073915</td>\n",
              "      <td>0.019988</td>\n",
              "      <td>-0.025685</td>\n",
              "      <td>-0.044370</td>\n",
              "      <td>0.027274</td>\n",
              "      <td>0.040239</td>\n",
              "      <td>0.000838</td>\n",
              "      <td>0.036316</td>\n",
              "      <td>-0.017596</td>\n",
              "      <td>0.064054</td>\n",
              "      <td>0.012527</td>\n",
              "      <td>0.017455</td>\n",
              "      <td>0.034841</td>\n",
              "      <td>-0.018200</td>\n",
              "      <td>-0.030172</td>\n",
              "    </tr>\n",
              "    <tr>\n",
              "      <th>87552</th>\n",
              "      <td>0.862465</td>\n",
              "      <td>0.721705</td>\n",
              "      <td>0.877642</td>\n",
              "      <td>0.212211</td>\n",
              "      <td>0.159484</td>\n",
              "      <td>0.170684</td>\n",
              "      <td>0.050034</td>\n",
              "      <td>0.000202</td>\n",
              "      <td>0.100018</td>\n",
              "      <td>0.123131</td>\n",
              "      <td>0.051446</td>\n",
              "      <td>0.078375</td>\n",
              "      <td>0.131986</td>\n",
              "      <td>-0.018052</td>\n",
              "      <td>0.109343</td>\n",
              "      <td>0.013370</td>\n",
              "      <td>0.069705</td>\n",
              "      <td>0.013675</td>\n",
              "      <td>0.130943</td>\n",
              "      <td>-0.026869</td>\n",
              "      <td>0.141635</td>\n",
              "      <td>0.037653</td>\n",
              "      <td>0.058844</td>\n",
              "      <td>0.023319</td>\n",
              "      <td>0.049384</td>\n",
              "      <td>-0.047521</td>\n",
              "      <td>-0.016736</td>\n",
              "      <td>0.004161</td>\n",
              "      <td>-0.073398</td>\n",
              "      <td>0.022030</td>\n",
              "      <td>-0.000952</td>\n",
              "      <td>0.030512</td>\n",
              "      <td>0.004935</td>\n",
              "      <td>0.035233</td>\n",
              "      <td>0.100587</td>\n",
              "      <td>0.040010</td>\n",
              "      <td>0.094426</td>\n",
              "      <td>0.090417</td>\n",
              "      <td>0.134620</td>\n",
              "      <td>0.136330</td>\n",
              "      <td>...</td>\n",
              "      <td>0.012735</td>\n",
              "      <td>0.048456</td>\n",
              "      <td>0.054616</td>\n",
              "      <td>-0.059810</td>\n",
              "      <td>0.006496</td>\n",
              "      <td>0.043844</td>\n",
              "      <td>-0.050480</td>\n",
              "      <td>-0.069572</td>\n",
              "      <td>0.032295</td>\n",
              "      <td>0.016735</td>\n",
              "      <td>0.031340</td>\n",
              "      <td>0.072675</td>\n",
              "      <td>-0.006469</td>\n",
              "      <td>-0.031925</td>\n",
              "      <td>0.008691</td>\n",
              "      <td>-0.001220</td>\n",
              "      <td>-0.062662</td>\n",
              "      <td>0.094310</td>\n",
              "      <td>-0.023339</td>\n",
              "      <td>0.015888</td>\n",
              "      <td>0.100743</td>\n",
              "      <td>0.113225</td>\n",
              "      <td>0.055332</td>\n",
              "      <td>-0.036494</td>\n",
              "      <td>-0.036752</td>\n",
              "      <td>-0.014204</td>\n",
              "      <td>0.036285</td>\n",
              "      <td>-0.054965</td>\n",
              "      <td>0.032390</td>\n",
              "      <td>0.017840</td>\n",
              "      <td>-0.010883</td>\n",
              "      <td>0.074111</td>\n",
              "      <td>0.001364</td>\n",
              "      <td>-0.003404</td>\n",
              "      <td>0.035038</td>\n",
              "      <td>-0.055831</td>\n",
              "      <td>0.020298</td>\n",
              "      <td>0.024332</td>\n",
              "      <td>0.050358</td>\n",
              "      <td>-0.062944</td>\n",
              "    </tr>\n",
              "    <tr>\n",
              "      <th>87553</th>\n",
              "      <td>0.929915</td>\n",
              "      <td>0.907193</td>\n",
              "      <td>0.825987</td>\n",
              "      <td>0.746324</td>\n",
              "      <td>0.753777</td>\n",
              "      <td>0.550760</td>\n",
              "      <td>0.577073</td>\n",
              "      <td>0.422201</td>\n",
              "      <td>0.479511</td>\n",
              "      <td>0.404767</td>\n",
              "      <td>0.310401</td>\n",
              "      <td>0.300738</td>\n",
              "      <td>0.305580</td>\n",
              "      <td>0.287250</td>\n",
              "      <td>0.368937</td>\n",
              "      <td>0.380053</td>\n",
              "      <td>0.449278</td>\n",
              "      <td>0.378031</td>\n",
              "      <td>0.415059</td>\n",
              "      <td>0.468154</td>\n",
              "      <td>0.374221</td>\n",
              "      <td>0.392102</td>\n",
              "      <td>0.524415</td>\n",
              "      <td>0.532919</td>\n",
              "      <td>0.587047</td>\n",
              "      <td>0.612552</td>\n",
              "      <td>0.581443</td>\n",
              "      <td>0.531987</td>\n",
              "      <td>0.643579</td>\n",
              "      <td>0.602107</td>\n",
              "      <td>0.601858</td>\n",
              "      <td>0.630867</td>\n",
              "      <td>0.737466</td>\n",
              "      <td>0.769527</td>\n",
              "      <td>0.636029</td>\n",
              "      <td>0.739358</td>\n",
              "      <td>0.685411</td>\n",
              "      <td>0.729409</td>\n",
              "      <td>0.748271</td>\n",
              "      <td>0.775836</td>\n",
              "      <td>...</td>\n",
              "      <td>-0.032290</td>\n",
              "      <td>-0.022614</td>\n",
              "      <td>-0.044448</td>\n",
              "      <td>0.049612</td>\n",
              "      <td>-0.019044</td>\n",
              "      <td>0.003971</td>\n",
              "      <td>-0.021610</td>\n",
              "      <td>0.048873</td>\n",
              "      <td>0.006886</td>\n",
              "      <td>-0.011706</td>\n",
              "      <td>-0.082367</td>\n",
              "      <td>0.048134</td>\n",
              "      <td>0.024154</td>\n",
              "      <td>-0.019406</td>\n",
              "      <td>0.006551</td>\n",
              "      <td>0.082462</td>\n",
              "      <td>0.033676</td>\n",
              "      <td>-0.035853</td>\n",
              "      <td>0.006690</td>\n",
              "      <td>-0.004313</td>\n",
              "      <td>0.020936</td>\n",
              "      <td>-0.069649</td>\n",
              "      <td>0.111657</td>\n",
              "      <td>-0.065322</td>\n",
              "      <td>-0.034476</td>\n",
              "      <td>-0.066068</td>\n",
              "      <td>0.090884</td>\n",
              "      <td>-0.021721</td>\n",
              "      <td>0.053090</td>\n",
              "      <td>-0.011622</td>\n",
              "      <td>-0.038703</td>\n",
              "      <td>0.075967</td>\n",
              "      <td>-0.002186</td>\n",
              "      <td>-0.067882</td>\n",
              "      <td>0.041597</td>\n",
              "      <td>-0.027128</td>\n",
              "      <td>0.076791</td>\n",
              "      <td>-0.019035</td>\n",
              "      <td>-0.011377</td>\n",
              "      <td>0.035267</td>\n",
              "    </tr>\n",
              "  </tbody>\n",
              "</table>\n",
              "<p>87554 rows × 187 columns</p>\n",
              "</div>"
            ],
            "text/plain": [
              "            0         1         2    ...       184       185       186\n",
              "0      1.018535  0.989152  0.732103  ...  0.023701  0.040951  0.007479\n",
              "1      0.886144  0.913647  0.514886  ... -0.025678  0.017321 -0.061402\n",
              "2      1.034318  0.755934  0.224956  ...  0.003932  0.105297  0.015065\n",
              "3      0.907500  0.720850  0.566544  ...  0.036032 -0.070888  0.025797\n",
              "4      1.007244  0.946588  0.886835  ... -0.028134 -0.077478 -0.070498\n",
              "...         ...       ...       ...  ...       ...       ...       ...\n",
              "87549  0.810159  0.584906  0.685083  ...  0.045361  0.008226  0.007170\n",
              "87550  0.680207  0.616786  0.483750  ... -0.126178  0.046645 -0.090324\n",
              "87551  0.915840  0.590311  0.643044  ...  0.034841 -0.018200 -0.030172\n",
              "87552  0.862465  0.721705  0.877642  ...  0.024332  0.050358 -0.062944\n",
              "87553  0.929915  0.907193  0.825987  ... -0.019035 -0.011377  0.035267\n",
              "\n",
              "[87554 rows x 187 columns]"
            ]
          },
          "metadata": {
            "tags": []
          },
          "execution_count": 112
        }
      ]
    },
    {
      "cell_type": "code",
      "metadata": {
        "id": "c_h2ikS-sOK7"
      },
      "source": [
        "#Split data into train set(80%) & test set (20%)\n",
        "X_train, X_val, y_train, y_val =train_test_split(X_train, y_train, test_size=0.2, random_state=42) "
      ],
      "id": "c_h2ikS-sOK7",
      "execution_count": 113,
      "outputs": []
    },
    {
      "cell_type": "markdown",
      "metadata": {
        "id": "Zm4ganTGsOK8"
      },
      "source": [
        "**Following is a sample signal with added noise**"
      ],
      "id": "Zm4ganTGsOK8"
    },
    {
      "cell_type": "code",
      "metadata": {
        "id": "5ZfwAsvysOK8"
      },
      "source": [
        "x_sample = X_train.loc[5,:]\n",
        "x_original = df_train.drop('label',axis=1).loc[5,:]"
      ],
      "id": "5ZfwAsvysOK8",
      "execution_count": 114,
      "outputs": []
    },
    {
      "cell_type": "code",
      "metadata": {
        "colab": {
          "base_uri": "https://localhost:8080/",
          "height": 380
        },
        "id": "gRB0q94zsOK8",
        "outputId": "d51e5eee-ad94-433c-e485-576f29927176"
      },
      "source": [
        "plt.figure(figsize = (10,6))\n",
        "plt.plot(x_original.index, x_original.values, color = 'limegreen', label='Original signal')\n",
        "plt.plot(x_sample.index, x_sample.values,color='orange', label='signal with noise',linewidth=2)\n",
        "plt.title('Sample signal with added noise')\n",
        "plt.xlabel('Index')\n",
        "plt.ylabel('Sample signal with noise')\n",
        "\n",
        "plt.gcf().autofmt_xdate()   # Beautify the x-labels\n",
        "plt.autoscale(tight=True)\n",
        " \n",
        "plt.legend(loc='best')\n",
        "plt.grid(True, linestyle='dashed')"
      ],
      "id": "gRB0q94zsOK8",
      "execution_count": 115,
      "outputs": [
        {
          "output_type": "display_data",
          "data": {
            "image/png": "[encoded data removed]",
            "text/plain": [
              "<Figure size 720x432 with 1 Axes>"
            ]
          },
          "metadata": {
            "tags": [],
            "needs_background": "light"
          }
        }
      ]
    },
    {
      "cell_type": "markdown",
      "metadata": {
        "id": "7qWEonZasOK9"
      },
      "source": [
        "### Encoding the target classes with One hot coding"
      ],
      "id": "7qWEonZasOK9"
    },
    {
      "cell_type": "code",
      "metadata": {
        "id": "CgoMcw5WsOK9"
      },
      "source": [
        "# One hot encoding the output of the model\n",
        "y_train = to_categorical(y_train)\n",
        "y_val = to_categorical(y_val)\n",
        "y_test = to_categorical(y_test)"
      ],
      "id": "CgoMcw5WsOK9",
      "execution_count": 116,
      "outputs": []
    },
    {
      "cell_type": "code",
      "metadata": {
        "colab": {
          "base_uri": "https://localhost:8080/"
        },
        "id": "XqZ7wFKP02NE",
        "outputId": "c50a19c0-f3ab-4ec9-ddbf-49bdda0640b5"
      },
      "source": [
        "y_test"
      ],
      "id": "XqZ7wFKP02NE",
      "execution_count": 117,
      "outputs": [
        {
          "output_type": "execute_result",
          "data": {
            "text/plain": [
              "array([[1., 0., 0., 0., 0.],\n",
              "       [1., 0., 0., 0., 0.],\n",
              "       [1., 0., 0., 0., 0.],\n",
              "       ...,\n",
              "       [0., 0., 0., 0., 1.],\n",
              "       [0., 0., 0., 0., 1.],\n",
              "       [0., 0., 0., 0., 1.]], dtype=float32)"
            ]
          },
          "metadata": {
            "tags": []
          },
          "execution_count": 117
        }
      ]
    },
    {
      "cell_type": "code",
      "metadata": {
        "colab": {
          "base_uri": "https://localhost:8080/"
        },
        "id": "5a4qWEi8sOK9",
        "outputId": "459b757c-cf13-4806-92d3-44166b76bbf0"
      },
      "source": [
        "y_train.shape"
      ],
      "id": "5a4qWEi8sOK9",
      "execution_count": 118,
      "outputs": [
        {
          "output_type": "execute_result",
          "data": {
            "text/plain": [
              "(70043, 5)"
            ]
          },
          "metadata": {
            "tags": []
          },
          "execution_count": 118
        }
      ]
    },
    {
      "cell_type": "code",
      "metadata": {
        "colab": {
          "base_uri": "https://localhost:8080/"
        },
        "id": "hNr5rJThsOK-",
        "outputId": "1f18ae01-a09c-49b7-c9e7-8fcce734b078"
      },
      "source": [
        "X_train.shape"
      ],
      "id": "hNr5rJThsOK-",
      "execution_count": 119,
      "outputs": [
        {
          "output_type": "execute_result",
          "data": {
            "text/plain": [
              "(70043, 187)"
            ]
          },
          "metadata": {
            "tags": []
          },
          "execution_count": 119
        }
      ]
    },
    {
      "cell_type": "code",
      "metadata": {
        "id": "Pp1RXHGXsOK-"
      },
      "source": [
        "# Convert to numpy arrays\n",
        "x_train = np.array(X_train)\n",
        "x_val = np.array(X_val)\n",
        "x_test = np.array(X_test)"
      ],
      "id": "Pp1RXHGXsOK-",
      "execution_count": 120,
      "outputs": []
    },
    {
      "cell_type": "code",
      "metadata": {
        "colab": {
          "base_uri": "https://localhost:8080/"
        },
        "id": "XRaLXTrz4BL1",
        "outputId": "a1503e46-7eba-41e4-ccfd-1562dd05a016"
      },
      "source": [
        "x_test"
      ],
      "id": "XRaLXTrz4BL1",
      "execution_count": 121,
      "outputs": [
        {
          "output_type": "execute_result",
          "data": {
            "text/plain": [
              "array([[1.        , 0.75826448, 0.11157025, ..., 0.        , 0.        ,\n",
              "        0.        ],\n",
              "       [0.90842491, 0.7838828 , 0.53113556, ..., 0.        , 0.        ,\n",
              "        0.        ],\n",
              "       [0.73008847, 0.21238938, 0.        , ..., 0.        , 0.        ,\n",
              "        0.        ],\n",
              "       ...,\n",
              "       [1.        , 0.96735907, 0.62017804, ..., 0.        , 0.        ,\n",
              "        0.        ],\n",
              "       [0.98412699, 0.5674603 , 0.60714287, ..., 0.        , 0.        ,\n",
              "        0.        ],\n",
              "       [0.97396964, 0.91323209, 0.86550975, ..., 0.        , 0.        ,\n",
              "        0.        ]])"
            ]
          },
          "metadata": {
            "tags": []
          },
          "execution_count": 121
        }
      ]
    },
    {
      "cell_type": "markdown",
      "metadata": {
        "id": "hwzjLV9SsOK_"
      },
      "source": [
        "Reshaping the X_train, & X_test from (n_samples, n_features) to (n_samples, number of time steps, n_features): CNN input format"
      ],
      "id": "hwzjLV9SsOK_"
    },
    {
      "cell_type": "code",
      "metadata": {
        "colab": {
          "base_uri": "https://localhost:8080/"
        },
        "id": "dXzqhiJu4KA8",
        "outputId": "10c19bc0-5829-4890-b7e7-13f793536a21"
      },
      "source": [
        "x_train.shape[0]"
      ],
      "id": "dXzqhiJu4KA8",
      "execution_count": 122,
      "outputs": [
        {
          "output_type": "execute_result",
          "data": {
            "text/plain": [
              "70043"
            ]
          },
          "metadata": {
            "tags": []
          },
          "execution_count": 122
        }
      ]
    },
    {
      "cell_type": "code",
      "metadata": {
        "colab": {
          "base_uri": "https://localhost:8080/"
        },
        "id": "8Z0cV5yl4QuO",
        "outputId": "7f3d1165-a824-4d8f-b538-a8889898d514"
      },
      "source": [
        "x_train.shape[1]"
      ],
      "id": "8Z0cV5yl4QuO",
      "execution_count": 123,
      "outputs": [
        {
          "output_type": "execute_result",
          "data": {
            "text/plain": [
              "187"
            ]
          },
          "metadata": {
            "tags": []
          },
          "execution_count": 123
        }
      ]
    },
    {
      "cell_type": "code",
      "metadata": {
        "id": "y5oIFgbhsOK_"
      },
      "source": [
        "X_train =x_train.reshape(x_train.shape[0], 1, x_train.shape[1])   # number of time steps is 1\n",
        "X_val =x_val.reshape(x_val.shape[0], 1, x_val.shape[1])   # number of time steps is 1\n",
        "X_test = x_test.reshape(x_test.shape[0], 1, x_test.shape[1])     # number of time steps is 1"
      ],
      "id": "y5oIFgbhsOK_",
      "execution_count": 124,
      "outputs": []
    },
    {
      "cell_type": "code",
      "metadata": {
        "colab": {
          "base_uri": "https://localhost:8080/"
        },
        "id": "J6OwbvRzsOK_",
        "outputId": "686f40b1-aa8c-412d-8fa2-f01999855c1e"
      },
      "source": [
        "n_classes = y_train.shape[1]\n",
        "n_classes"
      ],
      "id": "J6OwbvRzsOK_",
      "execution_count": 125,
      "outputs": [
        {
          "output_type": "execute_result",
          "data": {
            "text/plain": [
              "5"
            ]
          },
          "metadata": {
            "tags": []
          },
          "execution_count": 125
        }
      ]
    },
    {
      "cell_type": "markdown",
      "metadata": {
        "id": "vvRnPpS4sOK_"
      },
      "source": [
        "## Building the CNN model"
      ],
      "id": "vvRnPpS4sOK_"
    },
    {
      "cell_type": "markdown",
      "metadata": {
        "id": "QQ5G7ckSsOLA"
      },
      "source": [
        "The model has three Convolution1D layers & two Dropout layers. Followed by 2 Dense layers, two of which have the ReLU activation function, the last layer has 5 nodes, corresponding to the 5 output class labels, with a Softmax activation function.   \n",
        "The softmax activation function is used when the outputs given to train are one hot encoded as this function turns a vector of n values into a vector with n values that sum to 1, thus representing the probability of each class represented by the n values."
      ],
      "id": "QQ5G7ckSsOLA"
    },
    {
      "cell_type": "code",
      "metadata": {
        "colab": {
          "base_uri": "https://localhost:8080/"
        },
        "id": "yAF1SH36sOLA",
        "outputId": "e1f76632-170a-4231-fd62-1722ac61b59e"
      },
      "source": [
        "input_shape = X_train.shape[1:]\n",
        "input_shape"
      ],
      "id": "yAF1SH36sOLA",
      "execution_count": 128,
      "outputs": [
        {
          "output_type": "execute_result",
          "data": {
            "text/plain": [
              "(1, 187)"
            ]
          },
          "metadata": {
            "tags": []
          },
          "execution_count": 128
        }
      ]
    },
    {
      "cell_type": "code",
      "metadata": {
        "id": "8CkbSsnHsOLB"
      },
      "source": [
        "model = Sequential()\n",
        "model.add(Conv1D(filters=128, kernel_size=3, activation='relu', padding='same', input_shape=input_shape))\n",
        "model.add(Conv1D(filters=64, kernel_size=3, activation='relu', padding='same'))\n",
        "model.add(Conv1D(filters=64, kernel_size=3, activation='relu',padding='same'))\n",
        "model.add(Dropout(0.5))\n",
        "model.add(Dense(64, activation='relu'))    # Fully connected layer\n",
        "model.add(Dropout(0.5))\n",
        "model.add(Dense(32, activation='relu'))    # Fully connected layer\n",
        "model.add(Flatten())\n",
        "model.add(Dense(n_classes, activation='softmax'))"
      ],
      "id": "8CkbSsnHsOLB",
      "execution_count": 129,
      "outputs": []
    },
    {
      "cell_type": "code",
      "metadata": {
        "id": "7wbOqtzfsOLC"
      },
      "source": [
        "# Compile model\n",
        "model.compile(optimizer = Adam(0.0001), \n",
        "                loss = 'categorical_crossentropy', \n",
        "                metrics = ['accuracy'])"
      ],
      "id": "7wbOqtzfsOLC",
      "execution_count": 130,
      "outputs": []
    },
    {
      "cell_type": "code",
      "metadata": {
        "colab": {
          "base_uri": "https://localhost:8080/"
        },
        "id": "RJW9bssUsOLC",
        "outputId": "ea56fc67-d0fe-4e86-9be2-a846b5013c00"
      },
      "source": [
        "print('Model summary')\n",
        "print(model.summary())\n",
        "\n",
        "print(\"inputs: \" , model.input_shape)\n",
        "print(\"outputs: \", model.output_shape)\n",
        "print(\"actual inputs: \", np.shape(X_train))\n",
        "print(\"actual outputs: \", np.shape(y_train))"
      ],
      "id": "RJW9bssUsOLC",
      "execution_count": 131,
      "outputs": [
        {
          "output_type": "stream",
          "text": [
            "Model summary\n",
            "Model: \"sequential_2\"\n",
            "_________________________________________________________________\n",
            "Layer (type)                 Output Shape              Param #   \n",
            "=================================================================\n",
            "conv1d_6 (Conv1D)            (None, 1, 128)            71936     \n",
            "_________________________________________________________________\n",
            "conv1d_7 (Conv1D)            (None, 1, 64)             24640     \n",
            "_________________________________________________________________\n",
            "conv1d_8 (Conv1D)            (None, 1, 64)             12352     \n",
            "_________________________________________________________________\n",
            "dropout_4 (Dropout)          (None, 1, 64)             0         \n",
            "_________________________________________________________________\n",
            "dense_6 (Dense)              (None, 1, 64)             4160      \n",
            "_________________________________________________________________\n",
            "dropout_5 (Dropout)          (None, 1, 64)             0         \n",
            "_________________________________________________________________\n",
            "dense_7 (Dense)              (None, 1, 32)             2080      \n",
            "_________________________________________________________________\n",
            "flatten_2 (Flatten)          (None, 32)                0         \n",
            "_________________________________________________________________\n",
            "dense_8 (Dense)              (None, 5)                 165       \n",
            "=================================================================\n",
            "Total params: 115,333\n",
            "Trainable params: 115,333\n",
            "Non-trainable params: 0\n",
            "_________________________________________________________________\n",
            "None\n",
            "inputs:  (None, 1, 187)\n",
            "outputs:  (None, 5)\n",
            "actual inputs:  (70043, 1, 187)\n",
            "actual outputs:  (70043, 5)\n"
          ],
          "name": "stdout"
        }
      ]
    },
    {
      "cell_type": "markdown",
      "metadata": {
        "id": "IS6T7CkGsOLD"
      },
      "source": [
        "### Plotting the Model"
      ],
      "id": "IS6T7CkGsOLD"
    },
    {
      "cell_type": "code",
      "metadata": {
        "colab": {
          "base_uri": "https://localhost:8080/",
          "height": 953
        },
        "id": "SrZ63czzsOLD",
        "outputId": "babd09c8-5eae-4a77-f538-f4171e9cf69a"
      },
      "source": [
        "from IPython.display import Image\n",
        "from keras.utils.vis_utils import model_to_dot\n",
        "\n",
        "Image(model_to_dot(model).create(prog='dot', format='png'))"
      ],
      "id": "SrZ63czzsOLD",
      "execution_count": 132,
      "outputs": [
        {
          "output_type": "execute_result",
          "data": {
            "image/png": "[encoded data removed]",
            "text/plain": [
              "<IPython.core.display.Image object>"
            ]
          },
          "metadata": {
            "tags": []
          },
          "execution_count": 132
        }
      ]
    },
    {
      "cell_type": "markdown",
      "metadata": {
        "id": "bk06r1CQsOLD"
      },
      "source": [
        "### Training the model"
      ],
      "id": "bk06r1CQsOLD"
    },
    {
      "cell_type": "code",
      "metadata": {
        "colab": {
          "base_uri": "https://localhost:8080/"
        },
        "id": "EVYW4unusOLE",
        "outputId": "d3cc75c7-d82b-4377-9b52-e3b247f583e6"
      },
      "source": [
        "batch_size = 16\n",
        "\n",
        "history=model.fit(X_train, y_train, batch_size=batch_size,epochs=20,validation_data=(X_val, y_val))"
      ],
      "id": "EVYW4unusOLE",
      "execution_count": 133,
      "outputs": [
        {
          "output_type": "stream",
          "text": [
            "Epoch 1/20\n",
            "4378/4378 [==============================] - 18s 4ms/step - loss: 0.7189 - accuracy: 0.8136 - val_loss: 0.3279 - val_accuracy: 0.9058\n",
            "Epoch 2/20\n",
            "4378/4378 [==============================] - 16s 4ms/step - loss: 0.3342 - accuracy: 0.9083 - val_loss: 0.2455 - val_accuracy: 0.9350\n",
            "Epoch 3/20\n",
            "4378/4378 [==============================] - 16s 4ms/step - loss: 0.2640 - accuracy: 0.9321 - val_loss: 0.2166 - val_accuracy: 0.9388\n",
            "Epoch 4/20\n",
            "4378/4378 [==============================] - 17s 4ms/step - loss: 0.2260 - accuracy: 0.9394 - val_loss: 0.1949 - val_accuracy: 0.9424\n",
            "Epoch 5/20\n",
            "4378/4378 [==============================] - 17s 4ms/step - loss: 0.2100 - accuracy: 0.9419 - val_loss: 0.1808 - val_accuracy: 0.9457\n",
            "Epoch 6/20\n",
            "4378/4378 [==============================] - 17s 4ms/step - loss: 0.1943 - accuracy: 0.9447 - val_loss: 0.1686 - val_accuracy: 0.9523\n",
            "Epoch 7/20\n",
            "4378/4378 [==============================] - 17s 4ms/step - loss: 0.1807 - accuracy: 0.9491 - val_loss: 0.1665 - val_accuracy: 0.9543\n",
            "Epoch 8/20\n",
            "4378/4378 [==============================] - 17s 4ms/step - loss: 0.1728 - accuracy: 0.9523 - val_loss: 0.1532 - val_accuracy: 0.9595\n",
            "Epoch 9/20\n",
            "4378/4378 [==============================] - 17s 4ms/step - loss: 0.1549 - accuracy: 0.9578 - val_loss: 0.1424 - val_accuracy: 0.9615\n",
            "Epoch 10/20\n",
            "4378/4378 [==============================] - 17s 4ms/step - loss: 0.1455 - accuracy: 0.9604 - val_loss: 0.1407 - val_accuracy: 0.9627\n",
            "Epoch 11/20\n",
            "4378/4378 [==============================] - 17s 4ms/step - loss: 0.1361 - accuracy: 0.9636 - val_loss: 0.1346 - val_accuracy: 0.9637\n",
            "Epoch 12/20\n",
            "4378/4378 [==============================] - 17s 4ms/step - loss: 0.1337 - accuracy: 0.9644 - val_loss: 0.1282 - val_accuracy: 0.9660\n",
            "Epoch 13/20\n",
            "4378/4378 [==============================] - 17s 4ms/step - loss: 0.1272 - accuracy: 0.9667 - val_loss: 0.1212 - val_accuracy: 0.9690\n",
            "Epoch 14/20\n",
            "4378/4378 [==============================] - 17s 4ms/step - loss: 0.1228 - accuracy: 0.9667 - val_loss: 0.1222 - val_accuracy: 0.9679\n",
            "Epoch 15/20\n",
            "4378/4378 [==============================] - 17s 4ms/step - loss: 0.1178 - accuracy: 0.9688 - val_loss: 0.1201 - val_accuracy: 0.9690\n",
            "Epoch 16/20\n",
            "4378/4378 [==============================] - 18s 4ms/step - loss: 0.1089 - accuracy: 0.9717 - val_loss: 0.1255 - val_accuracy: 0.9673\n",
            "Epoch 17/20\n",
            "4378/4378 [==============================] - 17s 4ms/step - loss: 0.1083 - accuracy: 0.9712 - val_loss: 0.1279 - val_accuracy: 0.9665\n",
            "Epoch 18/20\n",
            "4378/4378 [==============================] - 17s 4ms/step - loss: 0.1043 - accuracy: 0.9719 - val_loss: 0.1202 - val_accuracy: 0.9677\n",
            "Epoch 19/20\n",
            "4378/4378 [==============================] - 17s 4ms/step - loss: 0.0987 - accuracy: 0.9736 - val_loss: 0.1177 - val_accuracy: 0.9682\n",
            "Epoch 20/20\n",
            "4378/4378 [==============================] - 17s 4ms/step - loss: 0.0982 - accuracy: 0.9743 - val_loss: 0.1203 - val_accuracy: 0.9688\n"
          ],
          "name": "stdout"
        }
      ]
    },
    {
      "cell_type": "code",
      "metadata": {
        "colab": {
          "base_uri": "https://localhost:8080/"
        },
        "id": "o81fULgYsOLE",
        "outputId": "a797ecca-13f1-4d64-8a2b-af1229ddc813"
      },
      "source": [
        "# list all data in history\n",
        "print(history.history.keys())"
      ],
      "id": "o81fULgYsOLE",
      "execution_count": 134,
      "outputs": [
        {
          "output_type": "stream",
          "text": [
            "dict_keys(['loss', 'accuracy', 'val_loss', 'val_accuracy'])\n"
          ],
          "name": "stdout"
        }
      ]
    },
    {
      "cell_type": "code",
      "metadata": {
        "colab": {
          "base_uri": "https://localhost:8080/",
          "height": 295
        },
        "id": "RkQhLVbPsOLF",
        "outputId": "fcbc1cd3-4bf6-49c6-e216-1d538d6a30fc"
      },
      "source": [
        "# summarize history for accuracy\n",
        "plt.plot(history.history['accuracy'])\n",
        "plt.plot(history.history['val_accuracy'])\n",
        "plt.title('model accuracy')\n",
        "plt.ylabel('accuracy')\n",
        "plt.xlabel('epoch')\n",
        "plt.legend(['train', 'validation'], loc='upper left')\n",
        "plt.show()"
      ],
      "id": "RkQhLVbPsOLF",
      "execution_count": 208,
      "outputs": [
        {
          "output_type": "display_data",
          "data": {
            "image/png": "[encoded data removed]",
            "text/plain": [
              "<Figure size 432x288 with 1 Axes>"
            ]
          },
          "metadata": {
            "tags": [],
            "needs_background": "light"
          }
        }
      ]
    },
    {
      "cell_type": "code",
      "metadata": {
        "colab": {
          "base_uri": "https://localhost:8080/",
          "height": 295
        },
        "id": "l8ULbJWtsOLF",
        "outputId": "c41cf8fa-0011-4e48-a06a-8fe81e56e089"
      },
      "source": [
        "# summarize history for loss\n",
        "plt.plot(history.history['loss'])\n",
        "plt.plot(history.history['val_loss'])\n",
        "plt.title('model loss')\n",
        "plt.ylabel('loss')\n",
        "plt.xlabel('epoch')\n",
        "plt.legend(['train', 'validation'], loc='upper left')\n",
        "plt.show()"
      ],
      "id": "l8ULbJWtsOLF",
      "execution_count": 209,
      "outputs": [
        {
          "output_type": "display_data",
          "data": {
            "image/png": "[encoded data removed]",
            "text/plain": [
              "<Figure size 432x288 with 1 Axes>"
            ]
          },
          "metadata": {
            "tags": [],
            "needs_background": "light"
          }
        }
      ]
    },
    {
      "cell_type": "markdown",
      "metadata": {
        "id": "IC1F3LeusOLG"
      },
      "source": [
        "### Model performance on test data"
      ],
      "id": "IC1F3LeusOLG"
    },
    {
      "cell_type": "code",
      "metadata": {
        "colab": {
          "base_uri": "https://localhost:8080/"
        },
        "id": "KMuAlplksOLG",
        "outputId": "e6bac766-5459-40e0-cbde-753ad0586566"
      },
      "source": [
        "y_pred = model.predict(X_test)\n",
        "y_pred"
      ],
      "id": "KMuAlplksOLG",
      "execution_count": 210,
      "outputs": [
        {
          "output_type": "execute_result",
          "data": {
            "text/plain": [
              "array([[9.9881244e-01, 1.1764711e-03, 2.1592748e-06, 8.8866163e-06,\n",
              "        2.5016154e-08],\n",
              "       [9.3390828e-01, 5.9536379e-02, 1.4540674e-03, 4.7555426e-03,\n",
              "        3.4567033e-04],\n",
              "       [9.7981584e-01, 1.9548504e-02, 1.7172311e-04, 4.3449714e-04,\n",
              "        2.9462333e-05],\n",
              "       ...,\n",
              "       [4.4145212e-02, 4.5374110e-03, 4.1034866e-02, 9.9625508e-04,\n",
              "        9.0928632e-01],\n",
              "       [1.4974819e-06, 1.5251592e-09, 1.0416451e-06, 3.5660011e-13,\n",
              "        9.9999750e-01],\n",
              "       [3.1730504e-08, 4.5847219e-12, 1.8933566e-08, 8.2438653e-17,\n",
              "        1.0000000e+00]], dtype=float32)"
            ]
          },
          "metadata": {
            "tags": []
          },
          "execution_count": 210
        }
      ]
    },
    {
      "cell_type": "code",
      "metadata": {
        "colab": {
          "base_uri": "https://localhost:8080/"
        },
        "id": "bUwB1VXwsOLG",
        "outputId": "a01c0e01-46b2-488c-dd71-224232cce4d6"
      },
      "source": [
        "# Convert class probabilities to classes\n",
        "y_pred = y_pred.argmax(axis=1)\n",
        "y_pred"
      ],
      "id": "bUwB1VXwsOLG",
      "execution_count": 211,
      "outputs": [
        {
          "output_type": "execute_result",
          "data": {
            "text/plain": [
              "array([0, 0, 0, ..., 4, 4, 4])"
            ]
          },
          "metadata": {
            "tags": []
          },
          "execution_count": 211
        }
      ]
    },
    {
      "cell_type": "code",
      "metadata": {
        "colab": {
          "base_uri": "https://localhost:8080/"
        },
        "id": "OShx5roqsOLH",
        "outputId": "1ec33bb8-8bfb-47b9-dafb-6265ec28617d"
      },
      "source": [
        "y_test = y_test.argmax(axis=1)\n",
        "y_test"
      ],
      "id": "OShx5roqsOLH",
      "execution_count": 212,
      "outputs": [
        {
          "output_type": "execute_result",
          "data": {
            "text/plain": [
              "array([0, 0, 0, ..., 4, 4, 4])"
            ]
          },
          "metadata": {
            "tags": []
          },
          "execution_count": 212
        }
      ]
    },
    {
      "cell_type": "markdown",
      "metadata": {
        "id": "iLr3kYJcsOLH"
      },
      "source": [
        "### Confusion matrix"
      ],
      "id": "iLr3kYJcsOLH"
    },
    {
      "cell_type": "code",
      "metadata": {
        "colab": {
          "base_uri": "https://localhost:8080/",
          "height": 388
        },
        "id": "p0qjFZO0sOLH",
        "outputId": "759235e2-e4e9-44a1-8104-5cc1771be81b"
      },
      "source": [
        "def show_confusion_matrix(confusion_matrix):\n",
        "  plt.figure(figsize=(12,6))\n",
        "  hmap = sns.heatmap(confusion_matrix, annot=True, fmt=\"d\", cmap=\"cool\")\n",
        "  hmap.yaxis.set_ticklabels(hmap.yaxis.get_ticklabels(),rotation=0, ha='right')\n",
        "  hmap.xaxis.set_ticklabels(hmap.xaxis.get_ticklabels(),rotation=0, ha='right')\n",
        "  plt.ylabel('True sentiment')\n",
        "  plt.xlabel('Predicted sentiment');\n",
        "cm = confusion_matrix(y_test, y_pred)\n",
        "df_cm = pd.DataFrame(cm, index=class_names, columns=class_names)\n",
        "show_confusion_matrix(df_cm)"
      ],
      "id": "p0qjFZO0sOLH",
      "execution_count": 213,
      "outputs": [
        {
          "output_type": "display_data",
          "data": {
            "image/png": "[encoded data removed]",
            "text/plain": [
              "<Figure size 864x432 with 2 Axes>"
            ]
          },
          "metadata": {
            "tags": [],
            "needs_background": "light"
          }
        }
      ]
    },
    {
      "cell_type": "markdown",
      "metadata": {
        "id": "iiaGY5SysOLI"
      },
      "source": [
        "### Classification Report"
      ],
      "id": "iiaGY5SysOLI"
    },
    {
      "cell_type": "code",
      "metadata": {
        "colab": {
          "base_uri": "https://localhost:8080/"
        },
        "id": "9ctOLNPxsOLI",
        "outputId": "ba54d644-d014-47d4-f62b-3c6b12ba4093"
      },
      "source": [
        "class_report= classification_report(y_test, y_pred)\n",
        "print(class_report)"
      ],
      "id": "9ctOLNPxsOLI",
      "execution_count": 205,
      "outputs": [
        {
          "output_type": "stream",
          "text": [
            "              precision    recall  f1-score   support\n",
            "\n",
            "           0       0.98      0.99      0.98     18118\n",
            "           1       0.83      0.61      0.70       556\n",
            "           2       0.91      0.92      0.91      1448\n",
            "           3       0.69      0.65      0.67       162\n",
            "           4       0.99      0.94      0.97      1608\n",
            "\n",
            "   micro avg       0.97      0.97      0.97     21892\n",
            "   macro avg       0.88      0.82      0.85     21892\n",
            "weighted avg       0.97      0.97      0.97     21892\n",
            " samples avg       0.97      0.97      0.97     21892\n",
            "\n"
          ],
          "name": "stdout"
        }
      ]
    },
    {
      "cell_type": "markdown",
      "metadata": {
        "id": "Hfc0eEvUsOLI"
      },
      "source": [
        "I achieved an **accuracy of 0.97 & f1_score of 0.97** on the testsing data."
      ],
      "id": "Hfc0eEvUsOLI"
    },
    {
      "cell_type": "code",
      "metadata": {
        "id": "t51ZAEmAsOLJ"
      },
      "source": [
        "# Binarize the targets & predictions to plot PR & ROC curves\n",
        "y_test= label_binarize(y_test, classes=[*range(n_classes)])\n",
        "y_pred = label_binarize(y_pred, classes=[*range(n_classes)])"
      ],
      "id": "t51ZAEmAsOLJ",
      "execution_count": 143,
      "outputs": []
    },
    {
      "cell_type": "markdown",
      "metadata": {
        "id": "QTj6ap86sOLJ"
      },
      "source": [
        "For imbalanced dataset, **the precision-recall curve & ROC curve** are better metrics for evaluating our model performance."
      ],
      "id": "QTj6ap86sOLJ"
    },
    {
      "cell_type": "markdown",
      "metadata": {
        "id": "SKBNR5f3sOLJ"
      },
      "source": [
        "### Plot PR (Precision-Recall) curve:"
      ],
      "id": "SKBNR5f3sOLJ"
    },
    {
      "cell_type": "code",
      "metadata": {
        "colab": {
          "base_uri": "https://localhost:8080/",
          "height": 404
        },
        "id": "IbeMJCnNsOLJ",
        "outputId": "4da1a6ee-dac8-485e-811b-bcddce7e5bfe"
      },
      "source": [
        "# plot model precision-recall curve\n",
        "precision = dict()\n",
        "recall = dict()\n",
        "plt.figure(figsize=(12,6))\n",
        "for i in range(n_classes):\n",
        "    precision[i], recall[i], _ = precision_recall_curve(y_test[:, i],\n",
        "                                                        y_pred[:, i])\n",
        "    plt.plot(recall[i], precision[i], lw=2, label='class {}'.format(i))\n",
        "\n",
        "plt.xlabel(\"recall\")\n",
        "plt.ylabel(\"precision\")\n",
        "plt.legend(loc=\"best\")\n",
        "plt.title(\"precision vs. recall curve\")\n",
        "plt.show()"
      ],
      "id": "IbeMJCnNsOLJ",
      "execution_count": 204,
      "outputs": [
        {
          "output_type": "display_data",
          "data": {
            "image/png": "[encoded data removed]",
            "text/plain": [
              "<Figure size 864x432 with 1 Axes>"
            ]
          },
          "metadata": {
            "tags": [],
            "needs_background": "light"
          }
        }
      ]
    },
    {
      "cell_type": "markdown",
      "metadata": {
        "id": "Hb8gWo87sOLK"
      },
      "source": [
        "### ROC (Receiver operating characterstic) curve:"
      ],
      "id": "Hb8gWo87sOLK"
    },
    {
      "cell_type": "code",
      "metadata": {
        "colab": {
          "base_uri": "https://localhost:8080/",
          "height": 404
        },
        "id": "TdvQ5qg_sOLK",
        "outputId": "b0b742f8-9483-4307-a66c-483e07e0b2c8"
      },
      "source": [
        "# plot roc curve\n",
        "fpr = dict()\n",
        "tpr = dict()\n",
        "\n",
        "plt.figure(figsize=(12,6))\n",
        "for i in range(n_classes):\n",
        "    fpr[i], tpr[i], _ = roc_curve(y_test[:, i],\n",
        "                                  y_pred[:, i])\n",
        "    plt.plot(fpr[i], tpr[i], lw=2, label='class {}'.format(i))\n",
        "\n",
        "plt.xlabel(\"false positive rate\")\n",
        "plt.ylabel(\"true positive rate\")\n",
        "plt.legend(loc=\"best\")\n",
        "plt.title(\"ROC curve\")\n",
        "plt.show()"
      ],
      "id": "TdvQ5qg_sOLK",
      "execution_count": 145,
      "outputs": [
        {
          "output_type": "display_data",
          "data": {
            "image/png": "[encoded data removed]",
            "text/plain": [
              "<Figure size 864x432 with 1 Axes>"
            ]
          },
          "metadata": {
            "tags": [],
            "needs_background": "light"
          }
        }
      ]
    },
    {
      "cell_type": "markdown",
      "metadata": {
        "id": "JmWwtcq_sOLK"
      },
      "source": [
        "Insights:\n",
        "* Based on the precision_recall curve & roc_curve, the model is clearly having difficulties in predicting class 1 & class 3 correctly."
      ],
      "id": "JmWwtcq_sOLK"
    },
    {
      "cell_type": "markdown",
      "metadata": {
        "id": "6nUN0RIBsOLL"
      },
      "source": [
        "### Model prediction on a random signal"
      ],
      "id": "6nUN0RIBsOLL"
    },
    {
      "cell_type": "markdown",
      "metadata": {
        "id": "REy5TYV0sOLL"
      },
      "source": [
        "Now randomly visualizing one of the heartbeat signals whilst performing predictions using our model."
      ],
      "id": "REy5TYV0sOLL"
    },
    {
      "cell_type": "code",
      "metadata": {
        "colab": {
          "base_uri": "https://localhost:8080/",
          "height": 299
        },
        "id": "UPM0AH64sOLL",
        "outputId": "7ccca42f-da99-478c-c0d2-42673c758bd5"
      },
      "source": [
        "i = random.randint(0, len(X_test)-1)\n",
        "output = model(np.expand_dims(X_test[i], 0))\n",
        "x_random = pd.DataFrame(X_test[i])\n",
        "x_random = x_random.loc[0,:]\n",
        "pred = output.numpy()[0]\n",
        "plt.plot(x_random.index, x_random.values)\n",
        "print(\"Actual label: \", class_names[np.argmax(y_test[i])])\n",
        "print(\"Model prediction : \", class_names[np.argmax(pred)],\n",
        "      \" with probability \", pred[np.argmax(pred)])"
      ],
      "id": "UPM0AH64sOLL",
      "execution_count": 214,
      "outputs": [
        {
          "output_type": "stream",
          "text": [
            "Actual label:  N\n",
            "Model prediction :  N  with probability  0.999954\n"
          ],
          "name": "stdout"
        },
        {
          "output_type": "display_data",
          "data": {
            "image/png": "[encoded data removed]",
            "text/plain": [
              "<Figure size 432x288 with 1 Axes>"
            ]
          },
          "metadata": {
            "tags": [],
            "needs_background": "light"
          }
        }
      ]
    }
  ]
}