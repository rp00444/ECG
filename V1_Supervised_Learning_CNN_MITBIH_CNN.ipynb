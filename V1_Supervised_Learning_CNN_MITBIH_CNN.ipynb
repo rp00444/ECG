{
  "nbformat": 4,
  "nbformat_minor": 5,
  "metadata": {
    "colab": {
      "name": "V1_Supervised_Learning_CNN_MITBIH_CNN.ipynb",
      "provenance": [],
      "collapsed_sections": [],
      "toc_visible": true
    },
    "kernelspec": {
      "display_name": "Python 3",
      "language": "python",
      "name": "python3"
    },
    "language_info": {
      "codemirror_mode": {
        "name": "ipython",
        "version": 3
      },
      "file_extension": ".py",
      "mimetype": "text/x-python",
      "name": "python",
      "nbconvert_exporter": "python",
      "pygments_lexer": "ipython3",
      "version": "3.8.5"
    }
  },
  "cells": [
    {
      "cell_type": "markdown",
      "metadata": {
        "id": "Krx2UYszsOKj"
      },
      "source": [
        "### This notebook details the building of a CNN model that classifies ECG data (MIT-BIH)."
      ],
      "id": "Krx2UYszsOKj"
    },
    {
      "cell_type": "code",
      "metadata": {
        "colab": {
          "base_uri": "https://localhost:8080/"
        },
        "id": "D8H50gjJsSg4",
        "outputId": "0df71ad1-e7b3-4ed0-8346-d28abf4d0a43"
      },
      "source": [
        "from google.colab import drive\n",
        "drive.mount('/content/drive')"
      ],
      "id": "D8H50gjJsSg4",
      "execution_count": null,
      "outputs": [
        {
          "output_type": "stream",
          "text": [
            "Mounted at /content/drive\n"
          ],
          "name": "stdout"
        }
      ]
    },
    {
      "cell_type": "markdown",
      "metadata": {
        "id": "AvVt4uZVsOKl"
      },
      "source": [
        "The chosen dataset is the [the MIT-BIH Arrhythmia Dataset](https://www.physionet.org/physiobank/database/mitdb/) for this task."
      ],
      "id": "AvVt4uZVsOKl"
    },
    {
      "cell_type": "markdown",
      "metadata": {
        "id": "GkNco4HhsOKm"
      },
      "source": [
        "### Importing the required libraries"
      ],
      "id": "GkNco4HhsOKm"
    },
    {
      "cell_type": "code",
      "metadata": {
        "colab": {
          "base_uri": "https://localhost:8080/"
        },
        "id": "AYhxTIQ4sovO",
        "outputId": "5931a7df-0c1d-46df-8bd5-1c1e33071c0e"
      },
      "source": [
        "pip install scikit-plot"
      ],
      "id": "AYhxTIQ4sovO",
      "execution_count": null,
      "outputs": [
        {
          "output_type": "stream",
          "text": [
            "Collecting scikit-plot\n",
            "  Downloading https://files.pythonhosted.org/packages/7c/47/32520e259340c140a4ad27c1b97050dd3254fdc517b1d59974d47037510e/scikit_plot-0.3.7-py3-none-any.whl\n",
            "Requirement already satisfied: scikit-learn>=0.18 in /usr/local/lib/python3.7/dist-packages (from scikit-plot) (0.22.2.post1)\n",
            "Requirement already satisfied: joblib>=0.10 in /usr/local/lib/python3.7/dist-packages (from scikit-plot) (1.0.1)\n",
            "Requirement already satisfied: matplotlib>=1.4.0 in /usr/local/lib/python3.7/dist-packages (from scikit-plot) (3.2.2)\n",
            "Requirement already satisfied: scipy>=0.9 in /usr/local/lib/python3.7/dist-packages (from scikit-plot) (1.4.1)\n",
            "Requirement already satisfied: numpy>=1.11.0 in /usr/local/lib/python3.7/dist-packages (from scikit-learn>=0.18->scikit-plot) (1.19.5)\n",
            "Requirement already satisfied: cycler>=0.10 in /usr/local/lib/python3.7/dist-packages (from matplotlib>=1.4.0->scikit-plot) (0.10.0)\n",
            "Requirement already satisfied: kiwisolver>=1.0.1 in /usr/local/lib/python3.7/dist-packages (from matplotlib>=1.4.0->scikit-plot) (1.3.1)\n",
            "Requirement already satisfied: python-dateutil>=2.1 in /usr/local/lib/python3.7/dist-packages (from matplotlib>=1.4.0->scikit-plot) (2.8.1)\n",
            "Requirement already satisfied: pyparsing!=2.0.4,!=2.1.2,!=2.1.6,>=2.0.1 in /usr/local/lib/python3.7/dist-packages (from matplotlib>=1.4.0->scikit-plot) (2.4.7)\n",
            "Requirement already satisfied: six in /usr/local/lib/python3.7/dist-packages (from cycler>=0.10->matplotlib>=1.4.0->scikit-plot) (1.15.0)\n",
            "Installing collected packages: scikit-plot\n",
            "Successfully installed scikit-plot-0.3.7\n"
          ],
          "name": "stdout"
        }
      ]
    },
    {
      "cell_type": "code",
      "metadata": {
        "id": "zVcnw87KsOKn"
      },
      "source": [
        "import pandas as pd\n",
        "import numpy as np\n",
        "import seaborn as sns\n",
        "import matplotlib.pyplot as plt\n",
        "\n",
        "from sklearn.model_selection import train_test_split\n",
        "from sklearn.metrics import confusion_matrix, roc_auc_score, roc_curve, classification_report,auc\n",
        "from sklearn.metrics import precision_recall_curve,roc_auc_score,roc_curve\n",
        "from scikitplot.metrics import plot_confusion_matrix, plot_roc\n",
        "from sklearn.preprocessing import label_binarize\n",
        "\n",
        "from tensorflow.keras.utils import to_categorical\n",
        "from keras.optimizers import Adam\n",
        "from keras.models import Sequential\n",
        "from keras.layers import Conv1D, MaxPool1D, Flatten, Dense, Dropout\n",
        "\n",
        "import pydot\n",
        "import graphviz\n",
        "import random\n",
        "\n",
        "import warnings\n",
        "warnings.filterwarnings('ignore')"
      ],
      "id": "zVcnw87KsOKn",
      "execution_count": null,
      "outputs": []
    },
    {
      "cell_type": "markdown",
      "metadata": {
        "id": "gXjVCDh_sOKo"
      },
      "source": [
        "### Loading the training data"
      ],
      "id": "gXjVCDh_sOKo"
    },
    {
      "cell_type": "code",
      "metadata": {
        "id": "ijBPVlbMsOKo"
      },
      "source": [
        "df_train = pd.read_csv('/content/drive/MyDrive/MIT-BIH Arrhythmia Database /mitbih_train.csv',header=None)"
      ],
      "id": "ijBPVlbMsOKo",
      "execution_count": null,
      "outputs": []
    },
    {
      "cell_type": "code",
      "metadata": {
        "colab": {
          "base_uri": "https://localhost:8080/",
          "height": 253
        },
        "id": "rXFH9NWtsOKp",
        "outputId": "79d3af36-08ef-4c3f-96da-3b8fc8b76e45"
      },
      "source": [
        "df_train.head()"
      ],
      "id": "rXFH9NWtsOKp",
      "execution_count": null,
      "outputs": [
        {
          "output_type": "execute_result",
          "data": {
            "text/html": [
              "<div>\n",
              "<style scoped>\n",
              "    .dataframe tbody tr th:only-of-type {\n",
              "        vertical-align: middle;\n",
              "    }\n",
              "\n",
              "    .dataframe tbody tr th {\n",
              "        vertical-align: top;\n",
              "    }\n",
              "\n",
              "    .dataframe thead th {\n",
              "        text-align: right;\n",
              "    }\n",
              "</style>\n",
              "<table border=\"1\" class=\"dataframe\">\n",
              "  <thead>\n",
              "    <tr style=\"text-align: right;\">\n",
              "      <th></th>\n",
              "      <th>0</th>\n",
              "      <th>1</th>\n",
              "      <th>2</th>\n",
              "      <th>3</th>\n",
              "      <th>4</th>\n",
              "      <th>5</th>\n",
              "      <th>6</th>\n",
              "      <th>7</th>\n",
              "      <th>8</th>\n",
              "      <th>9</th>\n",
              "      <th>10</th>\n",
              "      <th>11</th>\n",
              "      <th>12</th>\n",
              "      <th>13</th>\n",
              "      <th>14</th>\n",
              "      <th>15</th>\n",
              "      <th>16</th>\n",
              "      <th>17</th>\n",
              "      <th>18</th>\n",
              "      <th>19</th>\n",
              "      <th>20</th>\n",
              "      <th>21</th>\n",
              "      <th>22</th>\n",
              "      <th>23</th>\n",
              "      <th>24</th>\n",
              "      <th>25</th>\n",
              "      <th>26</th>\n",
              "      <th>27</th>\n",
              "      <th>28</th>\n",
              "      <th>29</th>\n",
              "      <th>30</th>\n",
              "      <th>31</th>\n",
              "      <th>32</th>\n",
              "      <th>33</th>\n",
              "      <th>34</th>\n",
              "      <th>35</th>\n",
              "      <th>36</th>\n",
              "      <th>37</th>\n",
              "      <th>38</th>\n",
              "      <th>39</th>\n",
              "      <th>...</th>\n",
              "      <th>148</th>\n",
              "      <th>149</th>\n",
              "      <th>150</th>\n",
              "      <th>151</th>\n",
              "      <th>152</th>\n",
              "      <th>153</th>\n",
              "      <th>154</th>\n",
              "      <th>155</th>\n",
              "      <th>156</th>\n",
              "      <th>157</th>\n",
              "      <th>158</th>\n",
              "      <th>159</th>\n",
              "      <th>160</th>\n",
              "      <th>161</th>\n",
              "      <th>162</th>\n",
              "      <th>163</th>\n",
              "      <th>164</th>\n",
              "      <th>165</th>\n",
              "      <th>166</th>\n",
              "      <th>167</th>\n",
              "      <th>168</th>\n",
              "      <th>169</th>\n",
              "      <th>170</th>\n",
              "      <th>171</th>\n",
              "      <th>172</th>\n",
              "      <th>173</th>\n",
              "      <th>174</th>\n",
              "      <th>175</th>\n",
              "      <th>176</th>\n",
              "      <th>177</th>\n",
              "      <th>178</th>\n",
              "      <th>179</th>\n",
              "      <th>180</th>\n",
              "      <th>181</th>\n",
              "      <th>182</th>\n",
              "      <th>183</th>\n",
              "      <th>184</th>\n",
              "      <th>185</th>\n",
              "      <th>186</th>\n",
              "      <th>187</th>\n",
              "    </tr>\n",
              "  </thead>\n",
              "  <tbody>\n",
              "    <tr>\n",
              "      <th>0</th>\n",
              "      <td>0.977941</td>\n",
              "      <td>0.926471</td>\n",
              "      <td>0.681373</td>\n",
              "      <td>0.245098</td>\n",
              "      <td>0.154412</td>\n",
              "      <td>0.191176</td>\n",
              "      <td>0.151961</td>\n",
              "      <td>0.085784</td>\n",
              "      <td>0.058824</td>\n",
              "      <td>0.049020</td>\n",
              "      <td>0.044118</td>\n",
              "      <td>0.061275</td>\n",
              "      <td>0.066176</td>\n",
              "      <td>0.061275</td>\n",
              "      <td>0.049020</td>\n",
              "      <td>0.073529</td>\n",
              "      <td>0.061275</td>\n",
              "      <td>0.061275</td>\n",
              "      <td>0.066176</td>\n",
              "      <td>0.068627</td>\n",
              "      <td>0.095588</td>\n",
              "      <td>0.075980</td>\n",
              "      <td>0.093137</td>\n",
              "      <td>0.105392</td>\n",
              "      <td>0.115196</td>\n",
              "      <td>0.102941</td>\n",
              "      <td>0.117647</td>\n",
              "      <td>0.125000</td>\n",
              "      <td>0.142157</td>\n",
              "      <td>0.127451</td>\n",
              "      <td>0.151961</td>\n",
              "      <td>0.144608</td>\n",
              "      <td>0.164216</td>\n",
              "      <td>0.144608</td>\n",
              "      <td>0.159314</td>\n",
              "      <td>0.151961</td>\n",
              "      <td>0.154412</td>\n",
              "      <td>0.142157</td>\n",
              "      <td>0.151961</td>\n",
              "      <td>0.151961</td>\n",
              "      <td>...</td>\n",
              "      <td>0.0</td>\n",
              "      <td>0.0</td>\n",
              "      <td>0.0</td>\n",
              "      <td>0.0</td>\n",
              "      <td>0.0</td>\n",
              "      <td>0.0</td>\n",
              "      <td>0.0</td>\n",
              "      <td>0.0</td>\n",
              "      <td>0.0</td>\n",
              "      <td>0.0</td>\n",
              "      <td>0.0</td>\n",
              "      <td>0.0</td>\n",
              "      <td>0.0</td>\n",
              "      <td>0.0</td>\n",
              "      <td>0.0</td>\n",
              "      <td>0.0</td>\n",
              "      <td>0.0</td>\n",
              "      <td>0.0</td>\n",
              "      <td>0.0</td>\n",
              "      <td>0.0</td>\n",
              "      <td>0.0</td>\n",
              "      <td>0.0</td>\n",
              "      <td>0.0</td>\n",
              "      <td>0.0</td>\n",
              "      <td>0.0</td>\n",
              "      <td>0.0</td>\n",
              "      <td>0.0</td>\n",
              "      <td>0.0</td>\n",
              "      <td>0.0</td>\n",
              "      <td>0.0</td>\n",
              "      <td>0.0</td>\n",
              "      <td>0.0</td>\n",
              "      <td>0.0</td>\n",
              "      <td>0.0</td>\n",
              "      <td>0.0</td>\n",
              "      <td>0.0</td>\n",
              "      <td>0.0</td>\n",
              "      <td>0.0</td>\n",
              "      <td>0.0</td>\n",
              "      <td>0.0</td>\n",
              "    </tr>\n",
              "    <tr>\n",
              "      <th>1</th>\n",
              "      <td>0.960114</td>\n",
              "      <td>0.863248</td>\n",
              "      <td>0.461538</td>\n",
              "      <td>0.196581</td>\n",
              "      <td>0.094017</td>\n",
              "      <td>0.125356</td>\n",
              "      <td>0.099715</td>\n",
              "      <td>0.088319</td>\n",
              "      <td>0.074074</td>\n",
              "      <td>0.082621</td>\n",
              "      <td>0.074074</td>\n",
              "      <td>0.062678</td>\n",
              "      <td>0.065527</td>\n",
              "      <td>0.065527</td>\n",
              "      <td>0.062678</td>\n",
              "      <td>0.076923</td>\n",
              "      <td>0.071225</td>\n",
              "      <td>0.082621</td>\n",
              "      <td>0.091168</td>\n",
              "      <td>0.096866</td>\n",
              "      <td>0.082621</td>\n",
              "      <td>0.082621</td>\n",
              "      <td>0.091168</td>\n",
              "      <td>0.105413</td>\n",
              "      <td>0.122507</td>\n",
              "      <td>0.148148</td>\n",
              "      <td>0.182336</td>\n",
              "      <td>0.193732</td>\n",
              "      <td>0.213675</td>\n",
              "      <td>0.207977</td>\n",
              "      <td>0.222222</td>\n",
              "      <td>0.253561</td>\n",
              "      <td>0.270655</td>\n",
              "      <td>0.287749</td>\n",
              "      <td>0.284900</td>\n",
              "      <td>0.293447</td>\n",
              "      <td>0.256410</td>\n",
              "      <td>0.247863</td>\n",
              "      <td>0.188034</td>\n",
              "      <td>0.145299</td>\n",
              "      <td>...</td>\n",
              "      <td>0.0</td>\n",
              "      <td>0.0</td>\n",
              "      <td>0.0</td>\n",
              "      <td>0.0</td>\n",
              "      <td>0.0</td>\n",
              "      <td>0.0</td>\n",
              "      <td>0.0</td>\n",
              "      <td>0.0</td>\n",
              "      <td>0.0</td>\n",
              "      <td>0.0</td>\n",
              "      <td>0.0</td>\n",
              "      <td>0.0</td>\n",
              "      <td>0.0</td>\n",
              "      <td>0.0</td>\n",
              "      <td>0.0</td>\n",
              "      <td>0.0</td>\n",
              "      <td>0.0</td>\n",
              "      <td>0.0</td>\n",
              "      <td>0.0</td>\n",
              "      <td>0.0</td>\n",
              "      <td>0.0</td>\n",
              "      <td>0.0</td>\n",
              "      <td>0.0</td>\n",
              "      <td>0.0</td>\n",
              "      <td>0.0</td>\n",
              "      <td>0.0</td>\n",
              "      <td>0.0</td>\n",
              "      <td>0.0</td>\n",
              "      <td>0.0</td>\n",
              "      <td>0.0</td>\n",
              "      <td>0.0</td>\n",
              "      <td>0.0</td>\n",
              "      <td>0.0</td>\n",
              "      <td>0.0</td>\n",
              "      <td>0.0</td>\n",
              "      <td>0.0</td>\n",
              "      <td>0.0</td>\n",
              "      <td>0.0</td>\n",
              "      <td>0.0</td>\n",
              "      <td>0.0</td>\n",
              "    </tr>\n",
              "    <tr>\n",
              "      <th>2</th>\n",
              "      <td>1.000000</td>\n",
              "      <td>0.659459</td>\n",
              "      <td>0.186486</td>\n",
              "      <td>0.070270</td>\n",
              "      <td>0.070270</td>\n",
              "      <td>0.059459</td>\n",
              "      <td>0.056757</td>\n",
              "      <td>0.043243</td>\n",
              "      <td>0.054054</td>\n",
              "      <td>0.045946</td>\n",
              "      <td>0.056757</td>\n",
              "      <td>0.043243</td>\n",
              "      <td>0.067568</td>\n",
              "      <td>0.062162</td>\n",
              "      <td>0.078378</td>\n",
              "      <td>0.072973</td>\n",
              "      <td>0.086486</td>\n",
              "      <td>0.081081</td>\n",
              "      <td>0.108108</td>\n",
              "      <td>0.110811</td>\n",
              "      <td>0.135135</td>\n",
              "      <td>0.135135</td>\n",
              "      <td>0.170270</td>\n",
              "      <td>0.183784</td>\n",
              "      <td>0.216216</td>\n",
              "      <td>0.237838</td>\n",
              "      <td>0.270270</td>\n",
              "      <td>0.286486</td>\n",
              "      <td>0.316216</td>\n",
              "      <td>0.318919</td>\n",
              "      <td>0.332432</td>\n",
              "      <td>0.297297</td>\n",
              "      <td>0.267568</td>\n",
              "      <td>0.216216</td>\n",
              "      <td>0.189189</td>\n",
              "      <td>0.132432</td>\n",
              "      <td>0.118919</td>\n",
              "      <td>0.064865</td>\n",
              "      <td>0.064865</td>\n",
              "      <td>0.043243</td>\n",
              "      <td>...</td>\n",
              "      <td>0.0</td>\n",
              "      <td>0.0</td>\n",
              "      <td>0.0</td>\n",
              "      <td>0.0</td>\n",
              "      <td>0.0</td>\n",
              "      <td>0.0</td>\n",
              "      <td>0.0</td>\n",
              "      <td>0.0</td>\n",
              "      <td>0.0</td>\n",
              "      <td>0.0</td>\n",
              "      <td>0.0</td>\n",
              "      <td>0.0</td>\n",
              "      <td>0.0</td>\n",
              "      <td>0.0</td>\n",
              "      <td>0.0</td>\n",
              "      <td>0.0</td>\n",
              "      <td>0.0</td>\n",
              "      <td>0.0</td>\n",
              "      <td>0.0</td>\n",
              "      <td>0.0</td>\n",
              "      <td>0.0</td>\n",
              "      <td>0.0</td>\n",
              "      <td>0.0</td>\n",
              "      <td>0.0</td>\n",
              "      <td>0.0</td>\n",
              "      <td>0.0</td>\n",
              "      <td>0.0</td>\n",
              "      <td>0.0</td>\n",
              "      <td>0.0</td>\n",
              "      <td>0.0</td>\n",
              "      <td>0.0</td>\n",
              "      <td>0.0</td>\n",
              "      <td>0.0</td>\n",
              "      <td>0.0</td>\n",
              "      <td>0.0</td>\n",
              "      <td>0.0</td>\n",
              "      <td>0.0</td>\n",
              "      <td>0.0</td>\n",
              "      <td>0.0</td>\n",
              "      <td>0.0</td>\n",
              "    </tr>\n",
              "    <tr>\n",
              "      <th>3</th>\n",
              "      <td>0.925414</td>\n",
              "      <td>0.665746</td>\n",
              "      <td>0.541436</td>\n",
              "      <td>0.276243</td>\n",
              "      <td>0.196133</td>\n",
              "      <td>0.077348</td>\n",
              "      <td>0.071823</td>\n",
              "      <td>0.060773</td>\n",
              "      <td>0.066298</td>\n",
              "      <td>0.058011</td>\n",
              "      <td>0.063536</td>\n",
              "      <td>0.082873</td>\n",
              "      <td>0.085635</td>\n",
              "      <td>0.093923</td>\n",
              "      <td>0.113260</td>\n",
              "      <td>0.124309</td>\n",
              "      <td>0.140884</td>\n",
              "      <td>0.132597</td>\n",
              "      <td>0.140884</td>\n",
              "      <td>0.091160</td>\n",
              "      <td>0.085635</td>\n",
              "      <td>0.074586</td>\n",
              "      <td>0.071823</td>\n",
              "      <td>0.080110</td>\n",
              "      <td>0.096685</td>\n",
              "      <td>0.118785</td>\n",
              "      <td>0.138122</td>\n",
              "      <td>0.140884</td>\n",
              "      <td>0.138122</td>\n",
              "      <td>0.146409</td>\n",
              "      <td>0.110497</td>\n",
              "      <td>0.102210</td>\n",
              "      <td>0.060773</td>\n",
              "      <td>0.027624</td>\n",
              "      <td>0.038674</td>\n",
              "      <td>0.013812</td>\n",
              "      <td>0.011050</td>\n",
              "      <td>0.013812</td>\n",
              "      <td>0.033149</td>\n",
              "      <td>0.005525</td>\n",
              "      <td>...</td>\n",
              "      <td>0.0</td>\n",
              "      <td>0.0</td>\n",
              "      <td>0.0</td>\n",
              "      <td>0.0</td>\n",
              "      <td>0.0</td>\n",
              "      <td>0.0</td>\n",
              "      <td>0.0</td>\n",
              "      <td>0.0</td>\n",
              "      <td>0.0</td>\n",
              "      <td>0.0</td>\n",
              "      <td>0.0</td>\n",
              "      <td>0.0</td>\n",
              "      <td>0.0</td>\n",
              "      <td>0.0</td>\n",
              "      <td>0.0</td>\n",
              "      <td>0.0</td>\n",
              "      <td>0.0</td>\n",
              "      <td>0.0</td>\n",
              "      <td>0.0</td>\n",
              "      <td>0.0</td>\n",
              "      <td>0.0</td>\n",
              "      <td>0.0</td>\n",
              "      <td>0.0</td>\n",
              "      <td>0.0</td>\n",
              "      <td>0.0</td>\n",
              "      <td>0.0</td>\n",
              "      <td>0.0</td>\n",
              "      <td>0.0</td>\n",
              "      <td>0.0</td>\n",
              "      <td>0.0</td>\n",
              "      <td>0.0</td>\n",
              "      <td>0.0</td>\n",
              "      <td>0.0</td>\n",
              "      <td>0.0</td>\n",
              "      <td>0.0</td>\n",
              "      <td>0.0</td>\n",
              "      <td>0.0</td>\n",
              "      <td>0.0</td>\n",
              "      <td>0.0</td>\n",
              "      <td>0.0</td>\n",
              "    </tr>\n",
              "    <tr>\n",
              "      <th>4</th>\n",
              "      <td>0.967136</td>\n",
              "      <td>1.000000</td>\n",
              "      <td>0.830986</td>\n",
              "      <td>0.586854</td>\n",
              "      <td>0.356808</td>\n",
              "      <td>0.248826</td>\n",
              "      <td>0.145540</td>\n",
              "      <td>0.089202</td>\n",
              "      <td>0.117371</td>\n",
              "      <td>0.150235</td>\n",
              "      <td>0.131455</td>\n",
              "      <td>0.122066</td>\n",
              "      <td>0.140845</td>\n",
              "      <td>0.159624</td>\n",
              "      <td>0.150235</td>\n",
              "      <td>0.145540</td>\n",
              "      <td>0.136150</td>\n",
              "      <td>0.169014</td>\n",
              "      <td>0.178404</td>\n",
              "      <td>0.173709</td>\n",
              "      <td>0.183099</td>\n",
              "      <td>0.201878</td>\n",
              "      <td>0.187793</td>\n",
              "      <td>0.164319</td>\n",
              "      <td>0.187793</td>\n",
              "      <td>0.215962</td>\n",
              "      <td>0.215962</td>\n",
              "      <td>0.201878</td>\n",
              "      <td>0.211268</td>\n",
              "      <td>0.230047</td>\n",
              "      <td>0.215962</td>\n",
              "      <td>0.230047</td>\n",
              "      <td>0.239437</td>\n",
              "      <td>0.267606</td>\n",
              "      <td>0.253521</td>\n",
              "      <td>0.230047</td>\n",
              "      <td>0.220657</td>\n",
              "      <td>0.225352</td>\n",
              "      <td>0.211268</td>\n",
              "      <td>0.173709</td>\n",
              "      <td>...</td>\n",
              "      <td>0.0</td>\n",
              "      <td>0.0</td>\n",
              "      <td>0.0</td>\n",
              "      <td>0.0</td>\n",
              "      <td>0.0</td>\n",
              "      <td>0.0</td>\n",
              "      <td>0.0</td>\n",
              "      <td>0.0</td>\n",
              "      <td>0.0</td>\n",
              "      <td>0.0</td>\n",
              "      <td>0.0</td>\n",
              "      <td>0.0</td>\n",
              "      <td>0.0</td>\n",
              "      <td>0.0</td>\n",
              "      <td>0.0</td>\n",
              "      <td>0.0</td>\n",
              "      <td>0.0</td>\n",
              "      <td>0.0</td>\n",
              "      <td>0.0</td>\n",
              "      <td>0.0</td>\n",
              "      <td>0.0</td>\n",
              "      <td>0.0</td>\n",
              "      <td>0.0</td>\n",
              "      <td>0.0</td>\n",
              "      <td>0.0</td>\n",
              "      <td>0.0</td>\n",
              "      <td>0.0</td>\n",
              "      <td>0.0</td>\n",
              "      <td>0.0</td>\n",
              "      <td>0.0</td>\n",
              "      <td>0.0</td>\n",
              "      <td>0.0</td>\n",
              "      <td>0.0</td>\n",
              "      <td>0.0</td>\n",
              "      <td>0.0</td>\n",
              "      <td>0.0</td>\n",
              "      <td>0.0</td>\n",
              "      <td>0.0</td>\n",
              "      <td>0.0</td>\n",
              "      <td>0.0</td>\n",
              "    </tr>\n",
              "  </tbody>\n",
              "</table>\n",
              "<p>5 rows × 188 columns</p>\n",
              "</div>"
            ],
            "text/plain": [
              "        0         1         2         3         4    ...  183  184  185  186  187\n",
              "0  0.977941  0.926471  0.681373  0.245098  0.154412  ...  0.0  0.0  0.0  0.0  0.0\n",
              "1  0.960114  0.863248  0.461538  0.196581  0.094017  ...  0.0  0.0  0.0  0.0  0.0\n",
              "2  1.000000  0.659459  0.186486  0.070270  0.070270  ...  0.0  0.0  0.0  0.0  0.0\n",
              "3  0.925414  0.665746  0.541436  0.276243  0.196133  ...  0.0  0.0  0.0  0.0  0.0\n",
              "4  0.967136  1.000000  0.830986  0.586854  0.356808  ...  0.0  0.0  0.0  0.0  0.0\n",
              "\n",
              "[5 rows x 188 columns]"
            ]
          },
          "metadata": {
            "tags": []
          },
          "execution_count": 5
        }
      ]
    },
    {
      "cell_type": "code",
      "metadata": {
        "colab": {
          "base_uri": "https://localhost:8080/"
        },
        "id": "uxFCxtO-sOKp",
        "outputId": "c1d3663a-476d-4008-bcdd-0be32d127afe"
      },
      "source": [
        "df_train.shape"
      ],
      "id": "uxFCxtO-sOKp",
      "execution_count": null,
      "outputs": [
        {
          "output_type": "execute_result",
          "data": {
            "text/plain": [
              "(87554, 188)"
            ]
          },
          "metadata": {
            "tags": []
          },
          "execution_count": 6
        }
      ]
    },
    {
      "cell_type": "code",
      "metadata": {
        "colab": {
          "base_uri": "https://localhost:8080/"
        },
        "id": "AvHkIASusOKq",
        "outputId": "db94d136-5545-44a3-b0d6-78782ce9cb94"
      },
      "source": [
        "df_train[187].unique()"
      ],
      "id": "AvHkIASusOKq",
      "execution_count": null,
      "outputs": [
        {
          "output_type": "execute_result",
          "data": {
            "text/plain": [
              "array([0., 1., 2., 3., 4.])"
            ]
          },
          "metadata": {
            "tags": []
          },
          "execution_count": 7
        }
      ]
    },
    {
      "cell_type": "markdown",
      "metadata": {
        "id": "GYFplHihsOKq"
      },
      "source": [
        "The training data has 87554 rows & 188 columns. The target column is 187 with 5 classes – one class is the normal heart signal and other three are different signals corresponding to different heart diseases and last category is unknown beats:\n",
        "\n",
        "0 — Non-ectopic beats (normal beat)      \n",
        "1 — Supraventricular ectopic beats        \n",
        "2 — Ventricular ectopic beats      \n",
        "3 — Fusion beats          \n",
        "4 — Unknown beats     \n",
        "\n",
        "['N': 0, 'S': 1, 'V': 2, 'F': 3, 'Q': 4]"
      ],
      "id": "GYFplHihsOKq"
    },
    {
      "cell_type": "code",
      "metadata": {
        "id": "Z163jM2PsOKr"
      },
      "source": [
        "class_names = ['N','S','V','F','Q']"
      ],
      "id": "Z163jM2PsOKr",
      "execution_count": null,
      "outputs": []
    },
    {
      "cell_type": "markdown",
      "metadata": {
        "id": "uwWG3WCFsOKs"
      },
      "source": [
        "### Loading the testing data"
      ],
      "id": "uwWG3WCFsOKs"
    },
    {
      "cell_type": "code",
      "metadata": {
        "id": "DBpKN7OvsOKs"
      },
      "source": [
        "df_test = pd.read_csv('/content/drive/MyDrive/MIT-BIH Arrhythmia Database /mitbih_test.csv', header=None)"
      ],
      "id": "DBpKN7OvsOKs",
      "execution_count": null,
      "outputs": []
    },
    {
      "cell_type": "code",
      "metadata": {
        "colab": {
          "base_uri": "https://localhost:8080/"
        },
        "id": "7HOwLpeMsOKt",
        "outputId": "4bde62e9-eb38-413f-9553-c1ea63448161"
      },
      "source": [
        "df_test.shape"
      ],
      "id": "7HOwLpeMsOKt",
      "execution_count": null,
      "outputs": [
        {
          "output_type": "execute_result",
          "data": {
            "text/plain": [
              "(21892, 188)"
            ]
          },
          "metadata": {
            "tags": []
          },
          "execution_count": 10
        }
      ]
    },
    {
      "cell_type": "code",
      "metadata": {
        "colab": {
          "base_uri": "https://localhost:8080/"
        },
        "id": "58iJn2HtsOKt",
        "outputId": "cfbd47ed-fb25-49a3-b0be-7a6c2e6533f4"
      },
      "source": [
        "df_test[187].unique()"
      ],
      "id": "58iJn2HtsOKt",
      "execution_count": null,
      "outputs": [
        {
          "output_type": "execute_result",
          "data": {
            "text/plain": [
              "array([0., 1., 2., 3., 4.])"
            ]
          },
          "metadata": {
            "tags": []
          },
          "execution_count": 11
        }
      ]
    },
    {
      "cell_type": "markdown",
      "metadata": {
        "id": "KvJOwJZPsOKu"
      },
      "source": [
        "The test data has 21892 rows & 188 columns. The last column (187) is the target variable with 5 classes."
      ],
      "id": "KvJOwJZPsOKu"
    },
    {
      "cell_type": "code",
      "metadata": {
        "id": "Osl3cPlxsOKv"
      },
      "source": [
        "# Changing the target variable name for better readability\n",
        "df_train = df_train.rename(columns = {187 : 'label'})\n",
        "df_test = df_test.rename(columns = {187 : 'label'})"
      ],
      "id": "Osl3cPlxsOKv",
      "execution_count": null,
      "outputs": []
    },
    {
      "cell_type": "code",
      "metadata": {
        "id": "F85mrQ1psOKw"
      },
      "source": [
        "# Also changing the data type for the label from float to integer\n",
        "df_train['label'] = df_train['label'].astype('uint8')\n",
        "df_test['label'] = df_test['label'].astype('uint8')"
      ],
      "id": "F85mrQ1psOKw",
      "execution_count": null,
      "outputs": []
    },
    {
      "cell_type": "code",
      "metadata": {
        "colab": {
          "base_uri": "https://localhost:8080/",
          "height": 253
        },
        "id": "RFS3eft9sOKw",
        "outputId": "94e4f9f5-81ca-4038-a3b9-c8ea02be8aca"
      },
      "source": [
        "df_train.head()"
      ],
      "id": "RFS3eft9sOKw",
      "execution_count": null,
      "outputs": [
        {
          "output_type": "execute_result",
          "data": {
            "text/html": [
              "<div>\n",
              "<style scoped>\n",
              "    .dataframe tbody tr th:only-of-type {\n",
              "        vertical-align: middle;\n",
              "    }\n",
              "\n",
              "    .dataframe tbody tr th {\n",
              "        vertical-align: top;\n",
              "    }\n",
              "\n",
              "    .dataframe thead th {\n",
              "        text-align: right;\n",
              "    }\n",
              "</style>\n",
              "<table border=\"1\" class=\"dataframe\">\n",
              "  <thead>\n",
              "    <tr style=\"text-align: right;\">\n",
              "      <th></th>\n",
              "      <th>0</th>\n",
              "      <th>1</th>\n",
              "      <th>2</th>\n",
              "      <th>3</th>\n",
              "      <th>4</th>\n",
              "      <th>5</th>\n",
              "      <th>6</th>\n",
              "      <th>7</th>\n",
              "      <th>8</th>\n",
              "      <th>9</th>\n",
              "      <th>10</th>\n",
              "      <th>11</th>\n",
              "      <th>12</th>\n",
              "      <th>13</th>\n",
              "      <th>14</th>\n",
              "      <th>15</th>\n",
              "      <th>16</th>\n",
              "      <th>17</th>\n",
              "      <th>18</th>\n",
              "      <th>19</th>\n",
              "      <th>20</th>\n",
              "      <th>21</th>\n",
              "      <th>22</th>\n",
              "      <th>23</th>\n",
              "      <th>24</th>\n",
              "      <th>25</th>\n",
              "      <th>26</th>\n",
              "      <th>27</th>\n",
              "      <th>28</th>\n",
              "      <th>29</th>\n",
              "      <th>30</th>\n",
              "      <th>31</th>\n",
              "      <th>32</th>\n",
              "      <th>33</th>\n",
              "      <th>34</th>\n",
              "      <th>35</th>\n",
              "      <th>36</th>\n",
              "      <th>37</th>\n",
              "      <th>38</th>\n",
              "      <th>39</th>\n",
              "      <th>...</th>\n",
              "      <th>148</th>\n",
              "      <th>149</th>\n",
              "      <th>150</th>\n",
              "      <th>151</th>\n",
              "      <th>152</th>\n",
              "      <th>153</th>\n",
              "      <th>154</th>\n",
              "      <th>155</th>\n",
              "      <th>156</th>\n",
              "      <th>157</th>\n",
              "      <th>158</th>\n",
              "      <th>159</th>\n",
              "      <th>160</th>\n",
              "      <th>161</th>\n",
              "      <th>162</th>\n",
              "      <th>163</th>\n",
              "      <th>164</th>\n",
              "      <th>165</th>\n",
              "      <th>166</th>\n",
              "      <th>167</th>\n",
              "      <th>168</th>\n",
              "      <th>169</th>\n",
              "      <th>170</th>\n",
              "      <th>171</th>\n",
              "      <th>172</th>\n",
              "      <th>173</th>\n",
              "      <th>174</th>\n",
              "      <th>175</th>\n",
              "      <th>176</th>\n",
              "      <th>177</th>\n",
              "      <th>178</th>\n",
              "      <th>179</th>\n",
              "      <th>180</th>\n",
              "      <th>181</th>\n",
              "      <th>182</th>\n",
              "      <th>183</th>\n",
              "      <th>184</th>\n",
              "      <th>185</th>\n",
              "      <th>186</th>\n",
              "      <th>label</th>\n",
              "    </tr>\n",
              "  </thead>\n",
              "  <tbody>\n",
              "    <tr>\n",
              "      <th>0</th>\n",
              "      <td>0.977941</td>\n",
              "      <td>0.926471</td>\n",
              "      <td>0.681373</td>\n",
              "      <td>0.245098</td>\n",
              "      <td>0.154412</td>\n",
              "      <td>0.191176</td>\n",
              "      <td>0.151961</td>\n",
              "      <td>0.085784</td>\n",
              "      <td>0.058824</td>\n",
              "      <td>0.049020</td>\n",
              "      <td>0.044118</td>\n",
              "      <td>0.061275</td>\n",
              "      <td>0.066176</td>\n",
              "      <td>0.061275</td>\n",
              "      <td>0.049020</td>\n",
              "      <td>0.073529</td>\n",
              "      <td>0.061275</td>\n",
              "      <td>0.061275</td>\n",
              "      <td>0.066176</td>\n",
              "      <td>0.068627</td>\n",
              "      <td>0.095588</td>\n",
              "      <td>0.075980</td>\n",
              "      <td>0.093137</td>\n",
              "      <td>0.105392</td>\n",
              "      <td>0.115196</td>\n",
              "      <td>0.102941</td>\n",
              "      <td>0.117647</td>\n",
              "      <td>0.125000</td>\n",
              "      <td>0.142157</td>\n",
              "      <td>0.127451</td>\n",
              "      <td>0.151961</td>\n",
              "      <td>0.144608</td>\n",
              "      <td>0.164216</td>\n",
              "      <td>0.144608</td>\n",
              "      <td>0.159314</td>\n",
              "      <td>0.151961</td>\n",
              "      <td>0.154412</td>\n",
              "      <td>0.142157</td>\n",
              "      <td>0.151961</td>\n",
              "      <td>0.151961</td>\n",
              "      <td>...</td>\n",
              "      <td>0.0</td>\n",
              "      <td>0.0</td>\n",
              "      <td>0.0</td>\n",
              "      <td>0.0</td>\n",
              "      <td>0.0</td>\n",
              "      <td>0.0</td>\n",
              "      <td>0.0</td>\n",
              "      <td>0.0</td>\n",
              "      <td>0.0</td>\n",
              "      <td>0.0</td>\n",
              "      <td>0.0</td>\n",
              "      <td>0.0</td>\n",
              "      <td>0.0</td>\n",
              "      <td>0.0</td>\n",
              "      <td>0.0</td>\n",
              "      <td>0.0</td>\n",
              "      <td>0.0</td>\n",
              "      <td>0.0</td>\n",
              "      <td>0.0</td>\n",
              "      <td>0.0</td>\n",
              "      <td>0.0</td>\n",
              "      <td>0.0</td>\n",
              "      <td>0.0</td>\n",
              "      <td>0.0</td>\n",
              "      <td>0.0</td>\n",
              "      <td>0.0</td>\n",
              "      <td>0.0</td>\n",
              "      <td>0.0</td>\n",
              "      <td>0.0</td>\n",
              "      <td>0.0</td>\n",
              "      <td>0.0</td>\n",
              "      <td>0.0</td>\n",
              "      <td>0.0</td>\n",
              "      <td>0.0</td>\n",
              "      <td>0.0</td>\n",
              "      <td>0.0</td>\n",
              "      <td>0.0</td>\n",
              "      <td>0.0</td>\n",
              "      <td>0.0</td>\n",
              "      <td>0</td>\n",
              "    </tr>\n",
              "    <tr>\n",
              "      <th>1</th>\n",
              "      <td>0.960114</td>\n",
              "      <td>0.863248</td>\n",
              "      <td>0.461538</td>\n",
              "      <td>0.196581</td>\n",
              "      <td>0.094017</td>\n",
              "      <td>0.125356</td>\n",
              "      <td>0.099715</td>\n",
              "      <td>0.088319</td>\n",
              "      <td>0.074074</td>\n",
              "      <td>0.082621</td>\n",
              "      <td>0.074074</td>\n",
              "      <td>0.062678</td>\n",
              "      <td>0.065527</td>\n",
              "      <td>0.065527</td>\n",
              "      <td>0.062678</td>\n",
              "      <td>0.076923</td>\n",
              "      <td>0.071225</td>\n",
              "      <td>0.082621</td>\n",
              "      <td>0.091168</td>\n",
              "      <td>0.096866</td>\n",
              "      <td>0.082621</td>\n",
              "      <td>0.082621</td>\n",
              "      <td>0.091168</td>\n",
              "      <td>0.105413</td>\n",
              "      <td>0.122507</td>\n",
              "      <td>0.148148</td>\n",
              "      <td>0.182336</td>\n",
              "      <td>0.193732</td>\n",
              "      <td>0.213675</td>\n",
              "      <td>0.207977</td>\n",
              "      <td>0.222222</td>\n",
              "      <td>0.253561</td>\n",
              "      <td>0.270655</td>\n",
              "      <td>0.287749</td>\n",
              "      <td>0.284900</td>\n",
              "      <td>0.293447</td>\n",
              "      <td>0.256410</td>\n",
              "      <td>0.247863</td>\n",
              "      <td>0.188034</td>\n",
              "      <td>0.145299</td>\n",
              "      <td>...</td>\n",
              "      <td>0.0</td>\n",
              "      <td>0.0</td>\n",
              "      <td>0.0</td>\n",
              "      <td>0.0</td>\n",
              "      <td>0.0</td>\n",
              "      <td>0.0</td>\n",
              "      <td>0.0</td>\n",
              "      <td>0.0</td>\n",
              "      <td>0.0</td>\n",
              "      <td>0.0</td>\n",
              "      <td>0.0</td>\n",
              "      <td>0.0</td>\n",
              "      <td>0.0</td>\n",
              "      <td>0.0</td>\n",
              "      <td>0.0</td>\n",
              "      <td>0.0</td>\n",
              "      <td>0.0</td>\n",
              "      <td>0.0</td>\n",
              "      <td>0.0</td>\n",
              "      <td>0.0</td>\n",
              "      <td>0.0</td>\n",
              "      <td>0.0</td>\n",
              "      <td>0.0</td>\n",
              "      <td>0.0</td>\n",
              "      <td>0.0</td>\n",
              "      <td>0.0</td>\n",
              "      <td>0.0</td>\n",
              "      <td>0.0</td>\n",
              "      <td>0.0</td>\n",
              "      <td>0.0</td>\n",
              "      <td>0.0</td>\n",
              "      <td>0.0</td>\n",
              "      <td>0.0</td>\n",
              "      <td>0.0</td>\n",
              "      <td>0.0</td>\n",
              "      <td>0.0</td>\n",
              "      <td>0.0</td>\n",
              "      <td>0.0</td>\n",
              "      <td>0.0</td>\n",
              "      <td>0</td>\n",
              "    </tr>\n",
              "    <tr>\n",
              "      <th>2</th>\n",
              "      <td>1.000000</td>\n",
              "      <td>0.659459</td>\n",
              "      <td>0.186486</td>\n",
              "      <td>0.070270</td>\n",
              "      <td>0.070270</td>\n",
              "      <td>0.059459</td>\n",
              "      <td>0.056757</td>\n",
              "      <td>0.043243</td>\n",
              "      <td>0.054054</td>\n",
              "      <td>0.045946</td>\n",
              "      <td>0.056757</td>\n",
              "      <td>0.043243</td>\n",
              "      <td>0.067568</td>\n",
              "      <td>0.062162</td>\n",
              "      <td>0.078378</td>\n",
              "      <td>0.072973</td>\n",
              "      <td>0.086486</td>\n",
              "      <td>0.081081</td>\n",
              "      <td>0.108108</td>\n",
              "      <td>0.110811</td>\n",
              "      <td>0.135135</td>\n",
              "      <td>0.135135</td>\n",
              "      <td>0.170270</td>\n",
              "      <td>0.183784</td>\n",
              "      <td>0.216216</td>\n",
              "      <td>0.237838</td>\n",
              "      <td>0.270270</td>\n",
              "      <td>0.286486</td>\n",
              "      <td>0.316216</td>\n",
              "      <td>0.318919</td>\n",
              "      <td>0.332432</td>\n",
              "      <td>0.297297</td>\n",
              "      <td>0.267568</td>\n",
              "      <td>0.216216</td>\n",
              "      <td>0.189189</td>\n",
              "      <td>0.132432</td>\n",
              "      <td>0.118919</td>\n",
              "      <td>0.064865</td>\n",
              "      <td>0.064865</td>\n",
              "      <td>0.043243</td>\n",
              "      <td>...</td>\n",
              "      <td>0.0</td>\n",
              "      <td>0.0</td>\n",
              "      <td>0.0</td>\n",
              "      <td>0.0</td>\n",
              "      <td>0.0</td>\n",
              "      <td>0.0</td>\n",
              "      <td>0.0</td>\n",
              "      <td>0.0</td>\n",
              "      <td>0.0</td>\n",
              "      <td>0.0</td>\n",
              "      <td>0.0</td>\n",
              "      <td>0.0</td>\n",
              "      <td>0.0</td>\n",
              "      <td>0.0</td>\n",
              "      <td>0.0</td>\n",
              "      <td>0.0</td>\n",
              "      <td>0.0</td>\n",
              "      <td>0.0</td>\n",
              "      <td>0.0</td>\n",
              "      <td>0.0</td>\n",
              "      <td>0.0</td>\n",
              "      <td>0.0</td>\n",
              "      <td>0.0</td>\n",
              "      <td>0.0</td>\n",
              "      <td>0.0</td>\n",
              "      <td>0.0</td>\n",
              "      <td>0.0</td>\n",
              "      <td>0.0</td>\n",
              "      <td>0.0</td>\n",
              "      <td>0.0</td>\n",
              "      <td>0.0</td>\n",
              "      <td>0.0</td>\n",
              "      <td>0.0</td>\n",
              "      <td>0.0</td>\n",
              "      <td>0.0</td>\n",
              "      <td>0.0</td>\n",
              "      <td>0.0</td>\n",
              "      <td>0.0</td>\n",
              "      <td>0.0</td>\n",
              "      <td>0</td>\n",
              "    </tr>\n",
              "    <tr>\n",
              "      <th>3</th>\n",
              "      <td>0.925414</td>\n",
              "      <td>0.665746</td>\n",
              "      <td>0.541436</td>\n",
              "      <td>0.276243</td>\n",
              "      <td>0.196133</td>\n",
              "      <td>0.077348</td>\n",
              "      <td>0.071823</td>\n",
              "      <td>0.060773</td>\n",
              "      <td>0.066298</td>\n",
              "      <td>0.058011</td>\n",
              "      <td>0.063536</td>\n",
              "      <td>0.082873</td>\n",
              "      <td>0.085635</td>\n",
              "      <td>0.093923</td>\n",
              "      <td>0.113260</td>\n",
              "      <td>0.124309</td>\n",
              "      <td>0.140884</td>\n",
              "      <td>0.132597</td>\n",
              "      <td>0.140884</td>\n",
              "      <td>0.091160</td>\n",
              "      <td>0.085635</td>\n",
              "      <td>0.074586</td>\n",
              "      <td>0.071823</td>\n",
              "      <td>0.080110</td>\n",
              "      <td>0.096685</td>\n",
              "      <td>0.118785</td>\n",
              "      <td>0.138122</td>\n",
              "      <td>0.140884</td>\n",
              "      <td>0.138122</td>\n",
              "      <td>0.146409</td>\n",
              "      <td>0.110497</td>\n",
              "      <td>0.102210</td>\n",
              "      <td>0.060773</td>\n",
              "      <td>0.027624</td>\n",
              "      <td>0.038674</td>\n",
              "      <td>0.013812</td>\n",
              "      <td>0.011050</td>\n",
              "      <td>0.013812</td>\n",
              "      <td>0.033149</td>\n",
              "      <td>0.005525</td>\n",
              "      <td>...</td>\n",
              "      <td>0.0</td>\n",
              "      <td>0.0</td>\n",
              "      <td>0.0</td>\n",
              "      <td>0.0</td>\n",
              "      <td>0.0</td>\n",
              "      <td>0.0</td>\n",
              "      <td>0.0</td>\n",
              "      <td>0.0</td>\n",
              "      <td>0.0</td>\n",
              "      <td>0.0</td>\n",
              "      <td>0.0</td>\n",
              "      <td>0.0</td>\n",
              "      <td>0.0</td>\n",
              "      <td>0.0</td>\n",
              "      <td>0.0</td>\n",
              "      <td>0.0</td>\n",
              "      <td>0.0</td>\n",
              "      <td>0.0</td>\n",
              "      <td>0.0</td>\n",
              "      <td>0.0</td>\n",
              "      <td>0.0</td>\n",
              "      <td>0.0</td>\n",
              "      <td>0.0</td>\n",
              "      <td>0.0</td>\n",
              "      <td>0.0</td>\n",
              "      <td>0.0</td>\n",
              "      <td>0.0</td>\n",
              "      <td>0.0</td>\n",
              "      <td>0.0</td>\n",
              "      <td>0.0</td>\n",
              "      <td>0.0</td>\n",
              "      <td>0.0</td>\n",
              "      <td>0.0</td>\n",
              "      <td>0.0</td>\n",
              "      <td>0.0</td>\n",
              "      <td>0.0</td>\n",
              "      <td>0.0</td>\n",
              "      <td>0.0</td>\n",
              "      <td>0.0</td>\n",
              "      <td>0</td>\n",
              "    </tr>\n",
              "    <tr>\n",
              "      <th>4</th>\n",
              "      <td>0.967136</td>\n",
              "      <td>1.000000</td>\n",
              "      <td>0.830986</td>\n",
              "      <td>0.586854</td>\n",
              "      <td>0.356808</td>\n",
              "      <td>0.248826</td>\n",
              "      <td>0.145540</td>\n",
              "      <td>0.089202</td>\n",
              "      <td>0.117371</td>\n",
              "      <td>0.150235</td>\n",
              "      <td>0.131455</td>\n",
              "      <td>0.122066</td>\n",
              "      <td>0.140845</td>\n",
              "      <td>0.159624</td>\n",
              "      <td>0.150235</td>\n",
              "      <td>0.145540</td>\n",
              "      <td>0.136150</td>\n",
              "      <td>0.169014</td>\n",
              "      <td>0.178404</td>\n",
              "      <td>0.173709</td>\n",
              "      <td>0.183099</td>\n",
              "      <td>0.201878</td>\n",
              "      <td>0.187793</td>\n",
              "      <td>0.164319</td>\n",
              "      <td>0.187793</td>\n",
              "      <td>0.215962</td>\n",
              "      <td>0.215962</td>\n",
              "      <td>0.201878</td>\n",
              "      <td>0.211268</td>\n",
              "      <td>0.230047</td>\n",
              "      <td>0.215962</td>\n",
              "      <td>0.230047</td>\n",
              "      <td>0.239437</td>\n",
              "      <td>0.267606</td>\n",
              "      <td>0.253521</td>\n",
              "      <td>0.230047</td>\n",
              "      <td>0.220657</td>\n",
              "      <td>0.225352</td>\n",
              "      <td>0.211268</td>\n",
              "      <td>0.173709</td>\n",
              "      <td>...</td>\n",
              "      <td>0.0</td>\n",
              "      <td>0.0</td>\n",
              "      <td>0.0</td>\n",
              "      <td>0.0</td>\n",
              "      <td>0.0</td>\n",
              "      <td>0.0</td>\n",
              "      <td>0.0</td>\n",
              "      <td>0.0</td>\n",
              "      <td>0.0</td>\n",
              "      <td>0.0</td>\n",
              "      <td>0.0</td>\n",
              "      <td>0.0</td>\n",
              "      <td>0.0</td>\n",
              "      <td>0.0</td>\n",
              "      <td>0.0</td>\n",
              "      <td>0.0</td>\n",
              "      <td>0.0</td>\n",
              "      <td>0.0</td>\n",
              "      <td>0.0</td>\n",
              "      <td>0.0</td>\n",
              "      <td>0.0</td>\n",
              "      <td>0.0</td>\n",
              "      <td>0.0</td>\n",
              "      <td>0.0</td>\n",
              "      <td>0.0</td>\n",
              "      <td>0.0</td>\n",
              "      <td>0.0</td>\n",
              "      <td>0.0</td>\n",
              "      <td>0.0</td>\n",
              "      <td>0.0</td>\n",
              "      <td>0.0</td>\n",
              "      <td>0.0</td>\n",
              "      <td>0.0</td>\n",
              "      <td>0.0</td>\n",
              "      <td>0.0</td>\n",
              "      <td>0.0</td>\n",
              "      <td>0.0</td>\n",
              "      <td>0.0</td>\n",
              "      <td>0.0</td>\n",
              "      <td>0</td>\n",
              "    </tr>\n",
              "  </tbody>\n",
              "</table>\n",
              "<p>5 rows × 188 columns</p>\n",
              "</div>"
            ],
            "text/plain": [
              "          0         1         2         3         4  ...  183  184  185  186  label\n",
              "0  0.977941  0.926471  0.681373  0.245098  0.154412  ...  0.0  0.0  0.0  0.0      0\n",
              "1  0.960114  0.863248  0.461538  0.196581  0.094017  ...  0.0  0.0  0.0  0.0      0\n",
              "2  1.000000  0.659459  0.186486  0.070270  0.070270  ...  0.0  0.0  0.0  0.0      0\n",
              "3  0.925414  0.665746  0.541436  0.276243  0.196133  ...  0.0  0.0  0.0  0.0      0\n",
              "4  0.967136  1.000000  0.830986  0.586854  0.356808  ...  0.0  0.0  0.0  0.0      0\n",
              "\n",
              "[5 rows x 188 columns]"
            ]
          },
          "metadata": {
            "tags": []
          },
          "execution_count": 14
        }
      ]
    },
    {
      "cell_type": "code",
      "metadata": {
        "colab": {
          "base_uri": "https://localhost:8080/",
          "height": 253
        },
        "id": "Cs9DXlaRsOKx",
        "outputId": "970be719-c5a4-4cd4-b0ee-e5a0ee8823bd"
      },
      "source": [
        "df_test.head()"
      ],
      "id": "Cs9DXlaRsOKx",
      "execution_count": null,
      "outputs": [
        {
          "output_type": "execute_result",
          "data": {
            "text/html": [
              "<div>\n",
              "<style scoped>\n",
              "    .dataframe tbody tr th:only-of-type {\n",
              "        vertical-align: middle;\n",
              "    }\n",
              "\n",
              "    .dataframe tbody tr th {\n",
              "        vertical-align: top;\n",
              "    }\n",
              "\n",
              "    .dataframe thead th {\n",
              "        text-align: right;\n",
              "    }\n",
              "</style>\n",
              "<table border=\"1\" class=\"dataframe\">\n",
              "  <thead>\n",
              "    <tr style=\"text-align: right;\">\n",
              "      <th></th>\n",
              "      <th>0</th>\n",
              "      <th>1</th>\n",
              "      <th>2</th>\n",
              "      <th>3</th>\n",
              "      <th>4</th>\n",
              "      <th>5</th>\n",
              "      <th>6</th>\n",
              "      <th>7</th>\n",
              "      <th>8</th>\n",
              "      <th>9</th>\n",
              "      <th>10</th>\n",
              "      <th>11</th>\n",
              "      <th>12</th>\n",
              "      <th>13</th>\n",
              "      <th>14</th>\n",
              "      <th>15</th>\n",
              "      <th>16</th>\n",
              "      <th>17</th>\n",
              "      <th>18</th>\n",
              "      <th>19</th>\n",
              "      <th>20</th>\n",
              "      <th>21</th>\n",
              "      <th>22</th>\n",
              "      <th>23</th>\n",
              "      <th>24</th>\n",
              "      <th>25</th>\n",
              "      <th>26</th>\n",
              "      <th>27</th>\n",
              "      <th>28</th>\n",
              "      <th>29</th>\n",
              "      <th>30</th>\n",
              "      <th>31</th>\n",
              "      <th>32</th>\n",
              "      <th>33</th>\n",
              "      <th>34</th>\n",
              "      <th>35</th>\n",
              "      <th>36</th>\n",
              "      <th>37</th>\n",
              "      <th>38</th>\n",
              "      <th>39</th>\n",
              "      <th>...</th>\n",
              "      <th>148</th>\n",
              "      <th>149</th>\n",
              "      <th>150</th>\n",
              "      <th>151</th>\n",
              "      <th>152</th>\n",
              "      <th>153</th>\n",
              "      <th>154</th>\n",
              "      <th>155</th>\n",
              "      <th>156</th>\n",
              "      <th>157</th>\n",
              "      <th>158</th>\n",
              "      <th>159</th>\n",
              "      <th>160</th>\n",
              "      <th>161</th>\n",
              "      <th>162</th>\n",
              "      <th>163</th>\n",
              "      <th>164</th>\n",
              "      <th>165</th>\n",
              "      <th>166</th>\n",
              "      <th>167</th>\n",
              "      <th>168</th>\n",
              "      <th>169</th>\n",
              "      <th>170</th>\n",
              "      <th>171</th>\n",
              "      <th>172</th>\n",
              "      <th>173</th>\n",
              "      <th>174</th>\n",
              "      <th>175</th>\n",
              "      <th>176</th>\n",
              "      <th>177</th>\n",
              "      <th>178</th>\n",
              "      <th>179</th>\n",
              "      <th>180</th>\n",
              "      <th>181</th>\n",
              "      <th>182</th>\n",
              "      <th>183</th>\n",
              "      <th>184</th>\n",
              "      <th>185</th>\n",
              "      <th>186</th>\n",
              "      <th>label</th>\n",
              "    </tr>\n",
              "  </thead>\n",
              "  <tbody>\n",
              "    <tr>\n",
              "      <th>0</th>\n",
              "      <td>1.000000</td>\n",
              "      <td>0.758264</td>\n",
              "      <td>0.111570</td>\n",
              "      <td>0.000000</td>\n",
              "      <td>0.080579</td>\n",
              "      <td>0.078512</td>\n",
              "      <td>0.066116</td>\n",
              "      <td>0.049587</td>\n",
              "      <td>0.047521</td>\n",
              "      <td>0.035124</td>\n",
              "      <td>0.030992</td>\n",
              "      <td>0.028926</td>\n",
              "      <td>0.035124</td>\n",
              "      <td>0.026860</td>\n",
              "      <td>0.039256</td>\n",
              "      <td>0.035124</td>\n",
              "      <td>0.043388</td>\n",
              "      <td>0.047521</td>\n",
              "      <td>0.053719</td>\n",
              "      <td>0.053719</td>\n",
              "      <td>0.070248</td>\n",
              "      <td>0.072314</td>\n",
              "      <td>0.084711</td>\n",
              "      <td>0.097107</td>\n",
              "      <td>0.121901</td>\n",
              "      <td>0.132231</td>\n",
              "      <td>0.169421</td>\n",
              "      <td>0.196281</td>\n",
              "      <td>0.214876</td>\n",
              "      <td>0.235537</td>\n",
              "      <td>0.254132</td>\n",
              "      <td>0.264463</td>\n",
              "      <td>0.285124</td>\n",
              "      <td>0.272727</td>\n",
              "      <td>0.266529</td>\n",
              "      <td>0.239669</td>\n",
              "      <td>0.214876</td>\n",
              "      <td>0.173554</td>\n",
              "      <td>0.157025</td>\n",
              "      <td>0.123967</td>\n",
              "      <td>...</td>\n",
              "      <td>0.0</td>\n",
              "      <td>0.0</td>\n",
              "      <td>0.0</td>\n",
              "      <td>0.0</td>\n",
              "      <td>0.0</td>\n",
              "      <td>0.0</td>\n",
              "      <td>0.0</td>\n",
              "      <td>0.0</td>\n",
              "      <td>0.0</td>\n",
              "      <td>0.0</td>\n",
              "      <td>0.0</td>\n",
              "      <td>0.0</td>\n",
              "      <td>0.0</td>\n",
              "      <td>0.0</td>\n",
              "      <td>0.0</td>\n",
              "      <td>0.0</td>\n",
              "      <td>0.0</td>\n",
              "      <td>0.0</td>\n",
              "      <td>0.0</td>\n",
              "      <td>0.0</td>\n",
              "      <td>0.0</td>\n",
              "      <td>0.0</td>\n",
              "      <td>0.0</td>\n",
              "      <td>0.0</td>\n",
              "      <td>0.0</td>\n",
              "      <td>0.0</td>\n",
              "      <td>0.0</td>\n",
              "      <td>0.0</td>\n",
              "      <td>0.0</td>\n",
              "      <td>0.0</td>\n",
              "      <td>0.0</td>\n",
              "      <td>0.0</td>\n",
              "      <td>0.0</td>\n",
              "      <td>0.0</td>\n",
              "      <td>0.0</td>\n",
              "      <td>0.0</td>\n",
              "      <td>0.0</td>\n",
              "      <td>0.0</td>\n",
              "      <td>0.0</td>\n",
              "      <td>0</td>\n",
              "    </tr>\n",
              "    <tr>\n",
              "      <th>1</th>\n",
              "      <td>0.908425</td>\n",
              "      <td>0.783883</td>\n",
              "      <td>0.531136</td>\n",
              "      <td>0.362637</td>\n",
              "      <td>0.366300</td>\n",
              "      <td>0.344322</td>\n",
              "      <td>0.333333</td>\n",
              "      <td>0.307692</td>\n",
              "      <td>0.296703</td>\n",
              "      <td>0.300366</td>\n",
              "      <td>0.304029</td>\n",
              "      <td>0.336996</td>\n",
              "      <td>0.377289</td>\n",
              "      <td>0.391941</td>\n",
              "      <td>0.439560</td>\n",
              "      <td>0.446886</td>\n",
              "      <td>0.457875</td>\n",
              "      <td>0.479853</td>\n",
              "      <td>0.512821</td>\n",
              "      <td>0.534799</td>\n",
              "      <td>0.586081</td>\n",
              "      <td>0.586081</td>\n",
              "      <td>0.604396</td>\n",
              "      <td>0.633700</td>\n",
              "      <td>0.615385</td>\n",
              "      <td>0.582418</td>\n",
              "      <td>0.564103</td>\n",
              "      <td>0.520147</td>\n",
              "      <td>0.490842</td>\n",
              "      <td>0.490842</td>\n",
              "      <td>0.468864</td>\n",
              "      <td>0.454212</td>\n",
              "      <td>0.450549</td>\n",
              "      <td>0.465201</td>\n",
              "      <td>0.450549</td>\n",
              "      <td>0.432234</td>\n",
              "      <td>0.424908</td>\n",
              "      <td>0.410256</td>\n",
              "      <td>0.391941</td>\n",
              "      <td>0.369963</td>\n",
              "      <td>...</td>\n",
              "      <td>0.0</td>\n",
              "      <td>0.0</td>\n",
              "      <td>0.0</td>\n",
              "      <td>0.0</td>\n",
              "      <td>0.0</td>\n",
              "      <td>0.0</td>\n",
              "      <td>0.0</td>\n",
              "      <td>0.0</td>\n",
              "      <td>0.0</td>\n",
              "      <td>0.0</td>\n",
              "      <td>0.0</td>\n",
              "      <td>0.0</td>\n",
              "      <td>0.0</td>\n",
              "      <td>0.0</td>\n",
              "      <td>0.0</td>\n",
              "      <td>0.0</td>\n",
              "      <td>0.0</td>\n",
              "      <td>0.0</td>\n",
              "      <td>0.0</td>\n",
              "      <td>0.0</td>\n",
              "      <td>0.0</td>\n",
              "      <td>0.0</td>\n",
              "      <td>0.0</td>\n",
              "      <td>0.0</td>\n",
              "      <td>0.0</td>\n",
              "      <td>0.0</td>\n",
              "      <td>0.0</td>\n",
              "      <td>0.0</td>\n",
              "      <td>0.0</td>\n",
              "      <td>0.0</td>\n",
              "      <td>0.0</td>\n",
              "      <td>0.0</td>\n",
              "      <td>0.0</td>\n",
              "      <td>0.0</td>\n",
              "      <td>0.0</td>\n",
              "      <td>0.0</td>\n",
              "      <td>0.0</td>\n",
              "      <td>0.0</td>\n",
              "      <td>0.0</td>\n",
              "      <td>0</td>\n",
              "    </tr>\n",
              "    <tr>\n",
              "      <th>2</th>\n",
              "      <td>0.730088</td>\n",
              "      <td>0.212389</td>\n",
              "      <td>0.000000</td>\n",
              "      <td>0.119469</td>\n",
              "      <td>0.101770</td>\n",
              "      <td>0.101770</td>\n",
              "      <td>0.110619</td>\n",
              "      <td>0.123894</td>\n",
              "      <td>0.115044</td>\n",
              "      <td>0.132743</td>\n",
              "      <td>0.106195</td>\n",
              "      <td>0.141593</td>\n",
              "      <td>0.128319</td>\n",
              "      <td>0.150442</td>\n",
              "      <td>0.132743</td>\n",
              "      <td>0.150442</td>\n",
              "      <td>0.132743</td>\n",
              "      <td>0.150442</td>\n",
              "      <td>0.123894</td>\n",
              "      <td>0.163717</td>\n",
              "      <td>0.137168</td>\n",
              "      <td>0.141593</td>\n",
              "      <td>0.132743</td>\n",
              "      <td>0.150442</td>\n",
              "      <td>0.128319</td>\n",
              "      <td>0.146018</td>\n",
              "      <td>0.119469</td>\n",
              "      <td>0.123894</td>\n",
              "      <td>0.101770</td>\n",
              "      <td>0.092920</td>\n",
              "      <td>0.070796</td>\n",
              "      <td>0.079646</td>\n",
              "      <td>0.066372</td>\n",
              "      <td>0.070796</td>\n",
              "      <td>0.079646</td>\n",
              "      <td>0.092920</td>\n",
              "      <td>0.088496</td>\n",
              "      <td>0.084071</td>\n",
              "      <td>0.079646</td>\n",
              "      <td>0.088496</td>\n",
              "      <td>...</td>\n",
              "      <td>0.0</td>\n",
              "      <td>0.0</td>\n",
              "      <td>0.0</td>\n",
              "      <td>0.0</td>\n",
              "      <td>0.0</td>\n",
              "      <td>0.0</td>\n",
              "      <td>0.0</td>\n",
              "      <td>0.0</td>\n",
              "      <td>0.0</td>\n",
              "      <td>0.0</td>\n",
              "      <td>0.0</td>\n",
              "      <td>0.0</td>\n",
              "      <td>0.0</td>\n",
              "      <td>0.0</td>\n",
              "      <td>0.0</td>\n",
              "      <td>0.0</td>\n",
              "      <td>0.0</td>\n",
              "      <td>0.0</td>\n",
              "      <td>0.0</td>\n",
              "      <td>0.0</td>\n",
              "      <td>0.0</td>\n",
              "      <td>0.0</td>\n",
              "      <td>0.0</td>\n",
              "      <td>0.0</td>\n",
              "      <td>0.0</td>\n",
              "      <td>0.0</td>\n",
              "      <td>0.0</td>\n",
              "      <td>0.0</td>\n",
              "      <td>0.0</td>\n",
              "      <td>0.0</td>\n",
              "      <td>0.0</td>\n",
              "      <td>0.0</td>\n",
              "      <td>0.0</td>\n",
              "      <td>0.0</td>\n",
              "      <td>0.0</td>\n",
              "      <td>0.0</td>\n",
              "      <td>0.0</td>\n",
              "      <td>0.0</td>\n",
              "      <td>0.0</td>\n",
              "      <td>0</td>\n",
              "    </tr>\n",
              "    <tr>\n",
              "      <th>3</th>\n",
              "      <td>1.000000</td>\n",
              "      <td>0.910417</td>\n",
              "      <td>0.681250</td>\n",
              "      <td>0.472917</td>\n",
              "      <td>0.229167</td>\n",
              "      <td>0.068750</td>\n",
              "      <td>0.000000</td>\n",
              "      <td>0.004167</td>\n",
              "      <td>0.014583</td>\n",
              "      <td>0.054167</td>\n",
              "      <td>0.102083</td>\n",
              "      <td>0.122917</td>\n",
              "      <td>0.150000</td>\n",
              "      <td>0.168750</td>\n",
              "      <td>0.172917</td>\n",
              "      <td>0.170833</td>\n",
              "      <td>0.168750</td>\n",
              "      <td>0.164583</td>\n",
              "      <td>0.156250</td>\n",
              "      <td>0.152083</td>\n",
              "      <td>0.147917</td>\n",
              "      <td>0.147917</td>\n",
              "      <td>0.145833</td>\n",
              "      <td>0.145833</td>\n",
              "      <td>0.141667</td>\n",
              "      <td>0.141667</td>\n",
              "      <td>0.147917</td>\n",
              "      <td>0.158333</td>\n",
              "      <td>0.168750</td>\n",
              "      <td>0.179167</td>\n",
              "      <td>0.191667</td>\n",
              "      <td>0.206250</td>\n",
              "      <td>0.220833</td>\n",
              "      <td>0.239583</td>\n",
              "      <td>0.258333</td>\n",
              "      <td>0.275000</td>\n",
              "      <td>0.287500</td>\n",
              "      <td>0.308333</td>\n",
              "      <td>0.320833</td>\n",
              "      <td>0.331250</td>\n",
              "      <td>...</td>\n",
              "      <td>0.0</td>\n",
              "      <td>0.0</td>\n",
              "      <td>0.0</td>\n",
              "      <td>0.0</td>\n",
              "      <td>0.0</td>\n",
              "      <td>0.0</td>\n",
              "      <td>0.0</td>\n",
              "      <td>0.0</td>\n",
              "      <td>0.0</td>\n",
              "      <td>0.0</td>\n",
              "      <td>0.0</td>\n",
              "      <td>0.0</td>\n",
              "      <td>0.0</td>\n",
              "      <td>0.0</td>\n",
              "      <td>0.0</td>\n",
              "      <td>0.0</td>\n",
              "      <td>0.0</td>\n",
              "      <td>0.0</td>\n",
              "      <td>0.0</td>\n",
              "      <td>0.0</td>\n",
              "      <td>0.0</td>\n",
              "      <td>0.0</td>\n",
              "      <td>0.0</td>\n",
              "      <td>0.0</td>\n",
              "      <td>0.0</td>\n",
              "      <td>0.0</td>\n",
              "      <td>0.0</td>\n",
              "      <td>0.0</td>\n",
              "      <td>0.0</td>\n",
              "      <td>0.0</td>\n",
              "      <td>0.0</td>\n",
              "      <td>0.0</td>\n",
              "      <td>0.0</td>\n",
              "      <td>0.0</td>\n",
              "      <td>0.0</td>\n",
              "      <td>0.0</td>\n",
              "      <td>0.0</td>\n",
              "      <td>0.0</td>\n",
              "      <td>0.0</td>\n",
              "      <td>0</td>\n",
              "    </tr>\n",
              "    <tr>\n",
              "      <th>4</th>\n",
              "      <td>0.570470</td>\n",
              "      <td>0.399329</td>\n",
              "      <td>0.238255</td>\n",
              "      <td>0.147651</td>\n",
              "      <td>0.000000</td>\n",
              "      <td>0.003356</td>\n",
              "      <td>0.040268</td>\n",
              "      <td>0.080537</td>\n",
              "      <td>0.070470</td>\n",
              "      <td>0.090604</td>\n",
              "      <td>0.080537</td>\n",
              "      <td>0.104027</td>\n",
              "      <td>0.093960</td>\n",
              "      <td>0.117450</td>\n",
              "      <td>0.097315</td>\n",
              "      <td>0.134228</td>\n",
              "      <td>0.124161</td>\n",
              "      <td>0.161074</td>\n",
              "      <td>0.171141</td>\n",
              "      <td>0.194631</td>\n",
              "      <td>0.204698</td>\n",
              "      <td>0.261745</td>\n",
              "      <td>0.275168</td>\n",
              "      <td>0.332215</td>\n",
              "      <td>0.345638</td>\n",
              "      <td>0.395973</td>\n",
              "      <td>0.406040</td>\n",
              "      <td>0.456376</td>\n",
              "      <td>0.446309</td>\n",
              "      <td>0.446309</td>\n",
              "      <td>0.399329</td>\n",
              "      <td>0.369128</td>\n",
              "      <td>0.308725</td>\n",
              "      <td>0.295302</td>\n",
              "      <td>0.265101</td>\n",
              "      <td>0.271812</td>\n",
              "      <td>0.258389</td>\n",
              "      <td>0.268456</td>\n",
              "      <td>0.261745</td>\n",
              "      <td>0.281879</td>\n",
              "      <td>...</td>\n",
              "      <td>0.0</td>\n",
              "      <td>0.0</td>\n",
              "      <td>0.0</td>\n",
              "      <td>0.0</td>\n",
              "      <td>0.0</td>\n",
              "      <td>0.0</td>\n",
              "      <td>0.0</td>\n",
              "      <td>0.0</td>\n",
              "      <td>0.0</td>\n",
              "      <td>0.0</td>\n",
              "      <td>0.0</td>\n",
              "      <td>0.0</td>\n",
              "      <td>0.0</td>\n",
              "      <td>0.0</td>\n",
              "      <td>0.0</td>\n",
              "      <td>0.0</td>\n",
              "      <td>0.0</td>\n",
              "      <td>0.0</td>\n",
              "      <td>0.0</td>\n",
              "      <td>0.0</td>\n",
              "      <td>0.0</td>\n",
              "      <td>0.0</td>\n",
              "      <td>0.0</td>\n",
              "      <td>0.0</td>\n",
              "      <td>0.0</td>\n",
              "      <td>0.0</td>\n",
              "      <td>0.0</td>\n",
              "      <td>0.0</td>\n",
              "      <td>0.0</td>\n",
              "      <td>0.0</td>\n",
              "      <td>0.0</td>\n",
              "      <td>0.0</td>\n",
              "      <td>0.0</td>\n",
              "      <td>0.0</td>\n",
              "      <td>0.0</td>\n",
              "      <td>0.0</td>\n",
              "      <td>0.0</td>\n",
              "      <td>0.0</td>\n",
              "      <td>0.0</td>\n",
              "      <td>0</td>\n",
              "    </tr>\n",
              "  </tbody>\n",
              "</table>\n",
              "<p>5 rows × 188 columns</p>\n",
              "</div>"
            ],
            "text/plain": [
              "          0         1         2         3         4  ...  183  184  185  186  label\n",
              "0  1.000000  0.758264  0.111570  0.000000  0.080579  ...  0.0  0.0  0.0  0.0      0\n",
              "1  0.908425  0.783883  0.531136  0.362637  0.366300  ...  0.0  0.0  0.0  0.0      0\n",
              "2  0.730088  0.212389  0.000000  0.119469  0.101770  ...  0.0  0.0  0.0  0.0      0\n",
              "3  1.000000  0.910417  0.681250  0.472917  0.229167  ...  0.0  0.0  0.0  0.0      0\n",
              "4  0.570470  0.399329  0.238255  0.147651  0.000000  ...  0.0  0.0  0.0  0.0      0\n",
              "\n",
              "[5 rows x 188 columns]"
            ]
          },
          "metadata": {
            "tags": []
          },
          "execution_count": 15
        }
      ]
    },
    {
      "cell_type": "markdown",
      "metadata": {
        "id": "KNCS5NFLsOKx"
      },
      "source": [
        "#### Looking at how the target variable is distributed in the training data: count and percentage"
      ],
      "id": "KNCS5NFLsOKx"
    },
    {
      "cell_type": "code",
      "metadata": {
        "colab": {
          "base_uri": "https://localhost:8080/"
        },
        "id": "9qs0cEtxsOKx",
        "scrolled": true,
        "outputId": "b43cc482-4488-4907-93b3-2e2c0c756df4"
      },
      "source": [
        "#classes count\n",
        "df_class=df_train['label'].value_counts()\n",
        "print('Count of classes :\\n',df_class)\n",
        "#Percentages of class counts\n",
        "per_class=df_train['label'].value_counts()/len(df_train)*100\n",
        "print('percentage of count of classes :\\n',per_class)"
      ],
      "id": "9qs0cEtxsOKx",
      "execution_count": null,
      "outputs": [
        {
          "output_type": "stream",
          "text": [
            "Count of classes :\n",
            " 0    72471\n",
            "4     6431\n",
            "2     5788\n",
            "1     2223\n",
            "3      641\n",
            "Name: label, dtype: int64\n",
            "percentage of count of classes :\n",
            " 0    82.772917\n",
            "4     7.345181\n",
            "2     6.610777\n",
            "1     2.539005\n",
            "3     0.732120\n",
            "Name: label, dtype: float64\n"
          ],
          "name": "stdout"
        }
      ]
    },
    {
      "cell_type": "code",
      "metadata": {
        "colab": {
          "base_uri": "https://localhost:8080/",
          "height": 421
        },
        "id": "OwtXpYKisOKy",
        "outputId": "41fa6a37-5baa-4fb2-886e-7ea3c16dfd1c"
      },
      "source": [
        "#Countplot \n",
        "plt.figure(figsize=(10,6))\n",
        "sns.countplot(df_train['label'],palette='husl')\n",
        "plt.title('Distribution of target classes before sampling')\n",
        "plt.xlabel('label')\n",
        "plt.ylabel('Index')"
      ],
      "id": "OwtXpYKisOKy",
      "execution_count": null,
      "outputs": [
        {
          "output_type": "execute_result",
          "data": {
            "text/plain": [
              "Text(0, 0.5, 'Index')"
            ]
          },
          "metadata": {
            "tags": []
          },
          "execution_count": 17
        },
        {
          "output_type": "display_data",
          "data": {
            "image/png": "[encoded data removed]",
            "text/plain": [
              "<Figure size 720x432 with 1 Axes>"
            ]
          },
          "metadata": {
            "tags": [],
            "needs_background": "light"
          }
        }
      ]
    },
    {
      "cell_type": "code",
      "metadata": {
        "id": "Wc9JIqNzsOKy",
        "scrolled": true
      },
      "source": [
        "# Separating predictors and the target features; training data on 186 columns\n",
        "\n",
        "# Train data\n",
        "X_train = df_train.drop('label', axis=1)\n",
        "y_train = df_train['label']\n",
        "\n",
        "# Test data\n",
        "X_test = df_test.drop('label', axis=1)\n",
        "y_test = df_test['label']"
      ],
      "id": "Wc9JIqNzsOKy",
      "execution_count": null,
      "outputs": []
    },
    {
      "cell_type": "code",
      "metadata": {
        "colab": {
          "base_uri": "https://localhost:8080/"
        },
        "id": "TDssM_-A2CXR",
        "outputId": "cf75b175-0d15-4391-8911-59bdd27a5a00"
      },
      "source": [
        "y_train"
      ],
      "id": "TDssM_-A2CXR",
      "execution_count": null,
      "outputs": [
        {
          "output_type": "execute_result",
          "data": {
            "text/plain": [
              "0        0\n",
              "1        0\n",
              "2        0\n",
              "3        0\n",
              "4        0\n",
              "        ..\n",
              "87549    4\n",
              "87550    4\n",
              "87551    4\n",
              "87552    4\n",
              "87553    4\n",
              "Name: label, Length: 87554, dtype: uint8"
            ]
          },
          "metadata": {
            "tags": []
          },
          "execution_count": 19
        }
      ]
    },
    {
      "cell_type": "markdown",
      "metadata": {
        "id": "nXp7XqzSsOKz"
      },
      "source": [
        "It seems the classes in target variables are highly imbalanced. For balancing the classes I am using [SMOTE](https://arxiv.org/abs/1106.1813)."
      ],
      "id": "nXp7XqzSsOKz"
    },
    {
      "cell_type": "markdown",
      "metadata": {
        "id": "9OXeO1iPsOKz"
      },
      "source": [
        "### **Handling imbalanced data**\n",
        "Since the data is imbalanced, it needs to be balanced in order to achieve more accurate results from the ML model. To balance the data, I am using SMOTE (Synthetic Minority OverSampling Technique). SMOTE is an oversampling technique where the synthetic samples are generated for the minority class. This algorithm helps to overcome the overfitting problem posed by random oversampling. It focuses on the feature space to generate new instances with the help of interpolation between the positive instances that lie together.\n",
        "\n",
        "**This balancing should be done to the training data only if the classes are imbalanced.**\n",
        "\n",
        "More details on [SMOTE](https://medium.com/analytics-vidhya/balance-your-data-using-smote-98e4d79fcddb)"
      ],
      "id": "9OXeO1iPsOKz"
    },
    {
      "cell_type": "code",
      "metadata": {
        "colab": {
          "base_uri": "https://localhost:8080/"
        },
        "id": "xnB3Qyc5sOK0",
        "outputId": "d2f66fcd-c30c-4f56-ea74-97551dec0e67"
      },
      "source": [
        "from imblearn.over_sampling import SMOTE\n",
        "from collections import Counter\n",
        "\n",
        "counter= Counter(y_train)\n",
        "print(f'Before Sampling', counter)\n",
        "# Oversampling the train data using SMOTE\n",
        "smt=SMOTE()\n",
        "X_train_sm,y_train_sm = smt.fit_resample(X_train,y_train)\n",
        "counter= Counter(y_train_sm)\n",
        "print('After Sampling', counter)"
      ],
      "id": "xnB3Qyc5sOK0",
      "execution_count": null,
      "outputs": [
        {
          "output_type": "stream",
          "text": [
            "Before Sampling Counter({0: 72471, 4: 6431, 2: 5788, 1: 2223, 3: 641})\n",
            "After Sampling Counter({0: 72471, 1: 72471, 2: 72471, 3: 72471, 4: 72471})\n"
          ],
          "name": "stdout"
        }
      ]
    },
    {
      "cell_type": "code",
      "metadata": {
        "colab": {
          "base_uri": "https://localhost:8080/"
        },
        "id": "-XJNesiw2o4f",
        "outputId": "8244acde-7f80-4bd4-8c63-e7bdbb991134"
      },
      "source": [
        "X_train_sm"
      ],
      "id": "-XJNesiw2o4f",
      "execution_count": null,
      "outputs": [
        {
          "output_type": "execute_result",
          "data": {
            "text/plain": [
              "array([[0.97794116, 0.92647058, 0.68137252, ..., 0.        , 0.        ,\n",
              "        0.        ],\n",
              "       [0.96011394, 0.86324787, 0.46153846, ..., 0.        , 0.        ,\n",
              "        0.        ],\n",
              "       [1.        , 0.65945947, 0.18648648, ..., 0.        , 0.        ,\n",
              "        0.        ],\n",
              "       ...,\n",
              "       [1.        , 0.67567916, 0.65780446, ..., 0.        , 0.        ,\n",
              "        0.        ],\n",
              "       [0.91617313, 0.86842999, 0.81101113, ..., 0.        , 0.        ,\n",
              "        0.        ],\n",
              "       [0.75058532, 0.64986676, 0.53421823, ..., 0.        , 0.        ,\n",
              "        0.        ]])"
            ]
          },
          "metadata": {
            "tags": []
          },
          "execution_count": 22
        }
      ]
    },
    {
      "cell_type": "markdown",
      "metadata": {
        "id": "9xkq30uRsOK1"
      },
      "source": [
        "#### Distribution of target classes after using SMOTE sampling"
      ],
      "id": "9xkq30uRsOK1"
    },
    {
      "cell_type": "code",
      "metadata": {
        "colab": {
          "base_uri": "https://localhost:8080/",
          "height": 421
        },
        "id": "gbcNZrDisOK1",
        "outputId": "63e7aa6d-5ee9-4ddb-f92d-eee087601c9e"
      },
      "source": [
        "#Countplot \n",
        "plt.figure(figsize=(10,6))\n",
        "sns.countplot(y_train_sm, palette='husl')\n",
        "plt.title('Distribution of target classes after SMOTE sampling')\n",
        "plt.xlabel('label')\n",
        "plt.ylabel('Index')"
      ],
      "id": "gbcNZrDisOK1",
      "execution_count": null,
      "outputs": [
        {
          "output_type": "execute_result",
          "data": {
            "text/plain": [
              "Text(0, 0.5, 'Index')"
            ]
          },
          "metadata": {
            "tags": []
          },
          "execution_count": 23
        },
        {
          "output_type": "display_data",
          "data": {
            "image/png": "[encoded data removed]",
            "text/plain": [
              "<Figure size 720x432 with 1 Axes>"
            ]
          },
          "metadata": {
            "tags": [],
            "needs_background": "light"
          }
        }
      ]
    },
    {
      "cell_type": "markdown",
      "metadata": {
        "id": "SzeI_2QasOK2"
      },
      "source": [
        "**A visual peek into different classes of heartbeats** "
      ],
      "id": "SzeI_2QasOK2"
    },
    {
      "cell_type": "code",
      "metadata": {
        "id": "t8oIJB9-sOK3"
      },
      "source": [
        "# Defining a function to plot class distribution\n",
        "def class_distribution(df, class_label, index):\n",
        "    # Creating a dataframe for class_label\n",
        "    df = df[df.label== class_label]\n",
        "    # Resetting the index\n",
        "    df = df.reset_index(drop=True)\n",
        "    # Dropping the label column from df\n",
        "    df_new = df.drop('label',axis=1)\n",
        "    # Considering\n",
        "    df_array = df_new.loc[index,:]\n",
        "    return df_array"
      ],
      "id": "t8oIJB9-sOK3",
      "execution_count": null,
      "outputs": []
    },
    {
      "cell_type": "code",
      "metadata": {
        "colab": {
          "base_uri": "https://localhost:8080/",
          "height": 421
        },
        "id": "MtUmCwF-sOK3",
        "outputId": "a7c0da29-56c8-47d3-d4f0-c78456e38bf3"
      },
      "source": [
        "# 0 — Non-ectopic beats (normal beat)\n",
        "plt.figure(figsize = (10,6))\n",
        "neb_df = class_distribution(df_train, 0 , 5) # Signal corressponding to the index 5 is considered for all plots\n",
        "plt.plot(neb_df.index, neb_df.values)\n",
        "plt.title('Non-ectopic beats (normal beat)')\n",
        "plt.xlabel('Index')\n",
        "plt.ylabel('Non-ectopic beats (normal beat)')"
      ],
      "id": "MtUmCwF-sOK3",
      "execution_count": null,
      "outputs": [
        {
          "output_type": "execute_result",
          "data": {
            "text/plain": [
              "Text(0, 0.5, 'Non-ectopic beats (normal beat)')"
            ]
          },
          "metadata": {
            "tags": []
          },
          "execution_count": 25
        },
        {
          "output_type": "display_data",
          "data": {
            "image/png": "[encoded data removed]",
            "text/plain": [
              "<Figure size 720x432 with 1 Axes>"
            ]
          },
          "metadata": {
            "tags": [],
            "needs_background": "light"
          }
        }
      ]
    },
    {
      "cell_type": "code",
      "metadata": {
        "colab": {
          "base_uri": "https://localhost:8080/",
          "height": 421
        },
        "id": "rVcpkk3SsOK4",
        "outputId": "476bf00f-4233-45f5-8cfc-1db7b7e4a3b6"
      },
      "source": [
        "# 1 — Supraventricular ectopic beats\n",
        "plt.figure(figsize = (10,6))\n",
        "seb_df = class_distribution(df_train, 1 , 5) # Signal corressponding to the index 5 is considered for all plots\n",
        "plt.plot(seb_df.index, seb_df.values)\n",
        "plt.title('Supraventricular ectopic beats')\n",
        "plt.xlabel('Index')\n",
        "plt.ylabel('Supraventricular ectopic beats')"
      ],
      "id": "rVcpkk3SsOK4",
      "execution_count": null,
      "outputs": [
        {
          "output_type": "execute_result",
          "data": {
            "text/plain": [
              "Text(0, 0.5, 'Supraventricular ectopic beats')"
            ]
          },
          "metadata": {
            "tags": []
          },
          "execution_count": 26
        },
        {
          "output_type": "display_data",
          "data": {
            "image/png": "[encoded data removed]",
            "text/plain": [
              "<Figure size 720x432 with 1 Axes>"
            ]
          },
          "metadata": {
            "tags": [],
            "needs_background": "light"
          }
        }
      ]
    },
    {
      "cell_type": "code",
      "metadata": {
        "colab": {
          "base_uri": "https://localhost:8080/",
          "height": 420
        },
        "id": "vg4vArDJsOK5",
        "outputId": "d70a4472-1e1b-4886-91db-33d70308d8f1"
      },
      "source": [
        "# 2 — Ventricular ectopic beats\n",
        "plt.figure(figsize = (10,6))\n",
        "veb_df = class_distribution(df_train, 2 , 5) # Signal corressponding to the index 5 is considered for all plots\n",
        "plt.plot(veb_df.index, veb_df.values)\n",
        "plt.title('Ventricular ectopic beats')\n",
        "plt.xlabel('Index')\n",
        "plt.ylabel('Ventricular ectopic beats')"
      ],
      "id": "vg4vArDJsOK5",
      "execution_count": null,
      "outputs": [
        {
          "output_type": "execute_result",
          "data": {
            "text/plain": [
              "Text(0, 0.5, 'Ventricular ectopic beats')"
            ]
          },
          "metadata": {
            "tags": []
          },
          "execution_count": 27
        },
        {
          "output_type": "display_data",
          "data": {
            "image/png": "[encoded data removed]",
            "text/plain": [
              "<Figure size 720x432 with 1 Axes>"
            ]
          },
          "metadata": {
            "tags": [],
            "needs_background": "light"
          }
        }
      ]
    },
    {
      "cell_type": "code",
      "metadata": {
        "colab": {
          "base_uri": "https://localhost:8080/",
          "height": 420
        },
        "id": "baSUauSCsOK6",
        "outputId": "0fc1df46-cec0-483a-99e1-cb43fe552f08"
      },
      "source": [
        "# 3 — Fusion beats\n",
        "plt.figure(figsize = (12,6))\n",
        "fb_df = class_distribution(df_train, 3 , 5) # Signal corressponding to the index 5 is considered for all plots\n",
        "plt.plot(fb_df.index, fb_df.values)\n",
        "plt.title('Fusion beats')\n",
        "plt.xlabel('Index')\n",
        "plt.ylabel('Fusion beats')"
      ],
      "id": "baSUauSCsOK6",
      "execution_count": null,
      "outputs": [
        {
          "output_type": "execute_result",
          "data": {
            "text/plain": [
              "Text(0, 0.5, 'Fusion beats')"
            ]
          },
          "metadata": {
            "tags": []
          },
          "execution_count": 32
        },
        {
          "output_type": "display_data",
          "data": {
            "image/png": "[encoded data removed]",
            "text/plain": [
              "<Figure size 864x432 with 1 Axes>"
            ]
          },
          "metadata": {
            "tags": [],
            "needs_background": "light"
          }
        }
      ]
    },
    {
      "cell_type": "code",
      "metadata": {
        "colab": {
          "base_uri": "https://localhost:8080/",
          "height": 420
        },
        "id": "RJ0mbRJssOK6",
        "outputId": "25bd059c-84a7-4fe4-d437-b31b0eb369f0"
      },
      "source": [
        "# 4 — Unknown beats\n",
        "plt.figure(figsize = (12,6))\n",
        "ub_df = class_distribution(df_train, 3 , 5) # Signal corressponding to the index 5 is considered for all plots\n",
        "plt.plot(ub_df.index, ub_df.values)\n",
        "plt.title('Unknown beats')\n",
        "plt.xlabel('Index')\n",
        "plt.ylabel('Unknown beats')"
      ],
      "id": "RJ0mbRJssOK6",
      "execution_count": null,
      "outputs": [
        {
          "output_type": "execute_result",
          "data": {
            "text/plain": [
              "Text(0, 0.5, 'Unknown beats')"
            ]
          },
          "metadata": {
            "tags": []
          },
          "execution_count": 29
        },
        {
          "output_type": "display_data",
          "data": {
            "image/png": "[encoded data removed]",
            "text/plain": [
              "<Figure size 864x432 with 1 Axes>"
            ]
          },
          "metadata": {
            "tags": [],
            "needs_background": "light"
          }
        }
      ]
    },
    {
      "cell_type": "markdown",
      "metadata": {
        "id": "Do0w6qqXsOK7"
      },
      "source": [
        "#### Preprocessing"
      ],
      "id": "Do0w6qqXsOK7"
    },
    {
      "cell_type": "markdown",
      "metadata": {
        "id": "X-Gm4ZfWsOK7"
      },
      "source": [
        "**Adding noise**   \n",
        "Noise is added to the data to mimic the external random processes that can interfere in the data recording process. Additive white Gaussian noise (AWGN) model is  used for this task."
      ],
      "id": "X-Gm4ZfWsOK7"
    },
    {
      "cell_type": "code",
      "metadata": {
        "id": "ON7BGbddsOK7"
      },
      "source": [
        "# Adding some noise to increase efficiency of the trained model\n",
        "def gaussian_noise(signal):\n",
        "    noise = np.random.normal(0,0.05,187)\n",
        "    return signal + noise\n",
        "# Input to the model\n",
        "X_train = X_train.values\n",
        "# Adding noise\n",
        "for i in range(X_train.shape[0]):\n",
        "    X_train[i, :] = gaussian_noise(X_train[i, :])\n",
        "    \n",
        "# Convert X_train into dataframe\n",
        "X_train = pd.DataFrame(X_train)"
      ],
      "id": "ON7BGbddsOK7",
      "execution_count": null,
      "outputs": []
    },
    {
      "cell_type": "code",
      "metadata": {
        "colab": {
          "base_uri": "https://localhost:8080/",
          "height": 411
        },
        "id": "KFEn7xa83TiU",
        "outputId": "c5f6cb8e-aa1e-4a47-8ff5-ae7c4115e426"
      },
      "source": [
        "X_train"
      ],
      "id": "KFEn7xa83TiU",
      "execution_count": null,
      "outputs": [
        {
          "output_type": "execute_result",
          "data": {
            "text/html": [
              "<div>\n",
              "<style scoped>\n",
              "    .dataframe tbody tr th:only-of-type {\n",
              "        vertical-align: middle;\n",
              "    }\n",
              "\n",
              "    .dataframe tbody tr th {\n",
              "        vertical-align: top;\n",
              "    }\n",
              "\n",
              "    .dataframe thead th {\n",
              "        text-align: right;\n",
              "    }\n",
              "</style>\n",
              "<table border=\"1\" class=\"dataframe\">\n",
              "  <thead>\n",
              "    <tr style=\"text-align: right;\">\n",
              "      <th></th>\n",
              "      <th>0</th>\n",
              "      <th>1</th>\n",
              "      <th>2</th>\n",
              "      <th>3</th>\n",
              "      <th>4</th>\n",
              "      <th>5</th>\n",
              "      <th>6</th>\n",
              "      <th>7</th>\n",
              "      <th>8</th>\n",
              "      <th>9</th>\n",
              "      <th>10</th>\n",
              "      <th>11</th>\n",
              "      <th>12</th>\n",
              "      <th>13</th>\n",
              "      <th>14</th>\n",
              "      <th>15</th>\n",
              "      <th>16</th>\n",
              "      <th>17</th>\n",
              "      <th>18</th>\n",
              "      <th>19</th>\n",
              "      <th>20</th>\n",
              "      <th>21</th>\n",
              "      <th>22</th>\n",
              "      <th>23</th>\n",
              "      <th>24</th>\n",
              "      <th>25</th>\n",
              "      <th>26</th>\n",
              "      <th>27</th>\n",
              "      <th>28</th>\n",
              "      <th>29</th>\n",
              "      <th>30</th>\n",
              "      <th>31</th>\n",
              "      <th>32</th>\n",
              "      <th>33</th>\n",
              "      <th>34</th>\n",
              "      <th>35</th>\n",
              "      <th>36</th>\n",
              "      <th>37</th>\n",
              "      <th>38</th>\n",
              "      <th>39</th>\n",
              "      <th>...</th>\n",
              "      <th>147</th>\n",
              "      <th>148</th>\n",
              "      <th>149</th>\n",
              "      <th>150</th>\n",
              "      <th>151</th>\n",
              "      <th>152</th>\n",
              "      <th>153</th>\n",
              "      <th>154</th>\n",
              "      <th>155</th>\n",
              "      <th>156</th>\n",
              "      <th>157</th>\n",
              "      <th>158</th>\n",
              "      <th>159</th>\n",
              "      <th>160</th>\n",
              "      <th>161</th>\n",
              "      <th>162</th>\n",
              "      <th>163</th>\n",
              "      <th>164</th>\n",
              "      <th>165</th>\n",
              "      <th>166</th>\n",
              "      <th>167</th>\n",
              "      <th>168</th>\n",
              "      <th>169</th>\n",
              "      <th>170</th>\n",
              "      <th>171</th>\n",
              "      <th>172</th>\n",
              "      <th>173</th>\n",
              "      <th>174</th>\n",
              "      <th>175</th>\n",
              "      <th>176</th>\n",
              "      <th>177</th>\n",
              "      <th>178</th>\n",
              "      <th>179</th>\n",
              "      <th>180</th>\n",
              "      <th>181</th>\n",
              "      <th>182</th>\n",
              "      <th>183</th>\n",
              "      <th>184</th>\n",
              "      <th>185</th>\n",
              "      <th>186</th>\n",
              "    </tr>\n",
              "  </thead>\n",
              "  <tbody>\n",
              "    <tr>\n",
              "      <th>0</th>\n",
              "      <td>1.131481</td>\n",
              "      <td>0.872671</td>\n",
              "      <td>0.620081</td>\n",
              "      <td>0.286674</td>\n",
              "      <td>0.139232</td>\n",
              "      <td>0.209557</td>\n",
              "      <td>0.098170</td>\n",
              "      <td>0.044483</td>\n",
              "      <td>0.019979</td>\n",
              "      <td>0.098112</td>\n",
              "      <td>0.058958</td>\n",
              "      <td>0.100932</td>\n",
              "      <td>0.032609</td>\n",
              "      <td>0.037730</td>\n",
              "      <td>0.081157</td>\n",
              "      <td>0.136586</td>\n",
              "      <td>0.032336</td>\n",
              "      <td>0.034421</td>\n",
              "      <td>0.125608</td>\n",
              "      <td>0.087634</td>\n",
              "      <td>0.083411</td>\n",
              "      <td>0.097766</td>\n",
              "      <td>0.088637</td>\n",
              "      <td>0.136626</td>\n",
              "      <td>0.079557</td>\n",
              "      <td>0.107027</td>\n",
              "      <td>0.111369</td>\n",
              "      <td>0.152846</td>\n",
              "      <td>0.140980</td>\n",
              "      <td>0.140601</td>\n",
              "      <td>0.246556</td>\n",
              "      <td>0.128483</td>\n",
              "      <td>0.211508</td>\n",
              "      <td>0.103290</td>\n",
              "      <td>0.172440</td>\n",
              "      <td>0.132324</td>\n",
              "      <td>0.142749</td>\n",
              "      <td>0.127397</td>\n",
              "      <td>0.054989</td>\n",
              "      <td>0.168425</td>\n",
              "      <td>...</td>\n",
              "      <td>-0.013704</td>\n",
              "      <td>0.031690</td>\n",
              "      <td>-0.053728</td>\n",
              "      <td>0.043260</td>\n",
              "      <td>0.031716</td>\n",
              "      <td>-0.059124</td>\n",
              "      <td>-0.045321</td>\n",
              "      <td>-0.052232</td>\n",
              "      <td>0.008248</td>\n",
              "      <td>-0.015858</td>\n",
              "      <td>0.088665</td>\n",
              "      <td>0.015640</td>\n",
              "      <td>-0.093608</td>\n",
              "      <td>-0.062379</td>\n",
              "      <td>0.024003</td>\n",
              "      <td>-0.005630</td>\n",
              "      <td>0.022386</td>\n",
              "      <td>0.101125</td>\n",
              "      <td>0.041591</td>\n",
              "      <td>-0.069238</td>\n",
              "      <td>0.005221</td>\n",
              "      <td>-0.001687</td>\n",
              "      <td>0.038786</td>\n",
              "      <td>0.042136</td>\n",
              "      <td>0.006937</td>\n",
              "      <td>0.016972</td>\n",
              "      <td>-0.026953</td>\n",
              "      <td>0.019174</td>\n",
              "      <td>-0.007722</td>\n",
              "      <td>-0.031242</td>\n",
              "      <td>0.009921</td>\n",
              "      <td>0.045775</td>\n",
              "      <td>0.009080</td>\n",
              "      <td>-0.099207</td>\n",
              "      <td>-0.042119</td>\n",
              "      <td>0.051150</td>\n",
              "      <td>0.022570</td>\n",
              "      <td>0.044641</td>\n",
              "      <td>-0.015573</td>\n",
              "      <td>0.029672</td>\n",
              "    </tr>\n",
              "    <tr>\n",
              "      <th>1</th>\n",
              "      <td>0.977723</td>\n",
              "      <td>0.832756</td>\n",
              "      <td>0.444049</td>\n",
              "      <td>0.244753</td>\n",
              "      <td>0.133353</td>\n",
              "      <td>0.035052</td>\n",
              "      <td>0.079242</td>\n",
              "      <td>0.165066</td>\n",
              "      <td>0.083300</td>\n",
              "      <td>0.075206</td>\n",
              "      <td>0.060300</td>\n",
              "      <td>0.054467</td>\n",
              "      <td>0.010965</td>\n",
              "      <td>0.112630</td>\n",
              "      <td>0.137969</td>\n",
              "      <td>0.060421</td>\n",
              "      <td>0.107137</td>\n",
              "      <td>0.091654</td>\n",
              "      <td>0.123181</td>\n",
              "      <td>0.051659</td>\n",
              "      <td>0.042367</td>\n",
              "      <td>0.012989</td>\n",
              "      <td>0.050075</td>\n",
              "      <td>0.049377</td>\n",
              "      <td>0.092770</td>\n",
              "      <td>0.123984</td>\n",
              "      <td>0.269762</td>\n",
              "      <td>0.193803</td>\n",
              "      <td>0.215214</td>\n",
              "      <td>0.242693</td>\n",
              "      <td>0.248221</td>\n",
              "      <td>0.293652</td>\n",
              "      <td>0.301182</td>\n",
              "      <td>0.345936</td>\n",
              "      <td>0.262633</td>\n",
              "      <td>0.278008</td>\n",
              "      <td>0.198211</td>\n",
              "      <td>0.216794</td>\n",
              "      <td>0.164013</td>\n",
              "      <td>0.114923</td>\n",
              "      <td>...</td>\n",
              "      <td>0.062502</td>\n",
              "      <td>-0.016626</td>\n",
              "      <td>0.014239</td>\n",
              "      <td>0.015566</td>\n",
              "      <td>-0.008673</td>\n",
              "      <td>-0.010982</td>\n",
              "      <td>-0.039283</td>\n",
              "      <td>-0.092037</td>\n",
              "      <td>-0.003681</td>\n",
              "      <td>0.009267</td>\n",
              "      <td>-0.007601</td>\n",
              "      <td>-0.041872</td>\n",
              "      <td>0.035855</td>\n",
              "      <td>0.060160</td>\n",
              "      <td>-0.038419</td>\n",
              "      <td>0.022616</td>\n",
              "      <td>-0.062206</td>\n",
              "      <td>-0.037923</td>\n",
              "      <td>-0.019460</td>\n",
              "      <td>-0.004799</td>\n",
              "      <td>0.050716</td>\n",
              "      <td>0.019517</td>\n",
              "      <td>0.053842</td>\n",
              "      <td>0.066068</td>\n",
              "      <td>-0.008404</td>\n",
              "      <td>-0.026809</td>\n",
              "      <td>0.001180</td>\n",
              "      <td>-0.046223</td>\n",
              "      <td>0.001993</td>\n",
              "      <td>-0.075203</td>\n",
              "      <td>-0.019381</td>\n",
              "      <td>0.087399</td>\n",
              "      <td>-0.006044</td>\n",
              "      <td>-0.011935</td>\n",
              "      <td>0.028397</td>\n",
              "      <td>0.007527</td>\n",
              "      <td>0.039733</td>\n",
              "      <td>0.046749</td>\n",
              "      <td>-0.081514</td>\n",
              "      <td>0.041261</td>\n",
              "    </tr>\n",
              "    <tr>\n",
              "      <th>2</th>\n",
              "      <td>1.038499</td>\n",
              "      <td>0.694875</td>\n",
              "      <td>0.155566</td>\n",
              "      <td>0.119314</td>\n",
              "      <td>0.056721</td>\n",
              "      <td>0.046266</td>\n",
              "      <td>0.083634</td>\n",
              "      <td>-0.035108</td>\n",
              "      <td>0.019914</td>\n",
              "      <td>-0.040847</td>\n",
              "      <td>0.102836</td>\n",
              "      <td>0.001447</td>\n",
              "      <td>0.070374</td>\n",
              "      <td>-0.011438</td>\n",
              "      <td>0.151074</td>\n",
              "      <td>0.071112</td>\n",
              "      <td>0.089597</td>\n",
              "      <td>0.092868</td>\n",
              "      <td>0.060927</td>\n",
              "      <td>0.218881</td>\n",
              "      <td>0.224393</td>\n",
              "      <td>0.083412</td>\n",
              "      <td>0.162301</td>\n",
              "      <td>0.209589</td>\n",
              "      <td>0.176650</td>\n",
              "      <td>0.275899</td>\n",
              "      <td>0.322445</td>\n",
              "      <td>0.385826</td>\n",
              "      <td>0.277569</td>\n",
              "      <td>0.354190</td>\n",
              "      <td>0.442157</td>\n",
              "      <td>0.258998</td>\n",
              "      <td>0.301635</td>\n",
              "      <td>0.216408</td>\n",
              "      <td>0.192553</td>\n",
              "      <td>0.146113</td>\n",
              "      <td>0.259346</td>\n",
              "      <td>0.033481</td>\n",
              "      <td>0.033667</td>\n",
              "      <td>0.080768</td>\n",
              "      <td>...</td>\n",
              "      <td>-0.008726</td>\n",
              "      <td>0.006362</td>\n",
              "      <td>-0.018619</td>\n",
              "      <td>-0.087370</td>\n",
              "      <td>0.027337</td>\n",
              "      <td>0.038499</td>\n",
              "      <td>-0.007227</td>\n",
              "      <td>0.017236</td>\n",
              "      <td>-0.079030</td>\n",
              "      <td>-0.048785</td>\n",
              "      <td>0.093266</td>\n",
              "      <td>0.073284</td>\n",
              "      <td>-0.041428</td>\n",
              "      <td>0.014916</td>\n",
              "      <td>-0.006734</td>\n",
              "      <td>0.079889</td>\n",
              "      <td>-0.014226</td>\n",
              "      <td>0.116488</td>\n",
              "      <td>-0.018881</td>\n",
              "      <td>-0.035405</td>\n",
              "      <td>0.075850</td>\n",
              "      <td>-0.001105</td>\n",
              "      <td>0.017550</td>\n",
              "      <td>-0.017759</td>\n",
              "      <td>0.044102</td>\n",
              "      <td>0.061793</td>\n",
              "      <td>-0.044498</td>\n",
              "      <td>0.034150</td>\n",
              "      <td>0.007797</td>\n",
              "      <td>-0.031072</td>\n",
              "      <td>0.044570</td>\n",
              "      <td>-0.058583</td>\n",
              "      <td>0.023876</td>\n",
              "      <td>-0.006476</td>\n",
              "      <td>-0.058531</td>\n",
              "      <td>0.006065</td>\n",
              "      <td>-0.004769</td>\n",
              "      <td>0.021678</td>\n",
              "      <td>-0.011961</td>\n",
              "      <td>-0.067459</td>\n",
              "    </tr>\n",
              "    <tr>\n",
              "      <th>3</th>\n",
              "      <td>0.983646</td>\n",
              "      <td>0.767630</td>\n",
              "      <td>0.506983</td>\n",
              "      <td>0.289872</td>\n",
              "      <td>0.105935</td>\n",
              "      <td>0.069177</td>\n",
              "      <td>0.104816</td>\n",
              "      <td>0.076149</td>\n",
              "      <td>0.065783</td>\n",
              "      <td>0.111193</td>\n",
              "      <td>0.056405</td>\n",
              "      <td>0.006342</td>\n",
              "      <td>0.075899</td>\n",
              "      <td>0.043386</td>\n",
              "      <td>0.186985</td>\n",
              "      <td>0.194655</td>\n",
              "      <td>0.194596</td>\n",
              "      <td>0.168206</td>\n",
              "      <td>0.139647</td>\n",
              "      <td>0.084914</td>\n",
              "      <td>0.069363</td>\n",
              "      <td>0.140002</td>\n",
              "      <td>0.100308</td>\n",
              "      <td>0.041471</td>\n",
              "      <td>0.089961</td>\n",
              "      <td>0.198823</td>\n",
              "      <td>0.158916</td>\n",
              "      <td>0.163237</td>\n",
              "      <td>0.180871</td>\n",
              "      <td>0.065165</td>\n",
              "      <td>0.154667</td>\n",
              "      <td>0.123817</td>\n",
              "      <td>0.025465</td>\n",
              "      <td>0.003218</td>\n",
              "      <td>0.085881</td>\n",
              "      <td>0.038822</td>\n",
              "      <td>0.026308</td>\n",
              "      <td>-0.008007</td>\n",
              "      <td>0.044680</td>\n",
              "      <td>-0.006367</td>\n",
              "      <td>...</td>\n",
              "      <td>-0.021179</td>\n",
              "      <td>-0.047903</td>\n",
              "      <td>0.051452</td>\n",
              "      <td>-0.113187</td>\n",
              "      <td>0.016346</td>\n",
              "      <td>0.004173</td>\n",
              "      <td>0.035616</td>\n",
              "      <td>0.065479</td>\n",
              "      <td>-0.066772</td>\n",
              "      <td>0.000307</td>\n",
              "      <td>0.012482</td>\n",
              "      <td>-0.018872</td>\n",
              "      <td>0.044559</td>\n",
              "      <td>0.013825</td>\n",
              "      <td>0.076845</td>\n",
              "      <td>-0.065581</td>\n",
              "      <td>-0.012318</td>\n",
              "      <td>0.027724</td>\n",
              "      <td>0.039926</td>\n",
              "      <td>0.049790</td>\n",
              "      <td>0.021924</td>\n",
              "      <td>0.022447</td>\n",
              "      <td>0.023239</td>\n",
              "      <td>-0.042725</td>\n",
              "      <td>-0.070756</td>\n",
              "      <td>-0.059200</td>\n",
              "      <td>0.036209</td>\n",
              "      <td>-0.053689</td>\n",
              "      <td>-0.047340</td>\n",
              "      <td>0.064227</td>\n",
              "      <td>-0.106928</td>\n",
              "      <td>-0.036602</td>\n",
              "      <td>-0.001605</td>\n",
              "      <td>0.023342</td>\n",
              "      <td>0.046480</td>\n",
              "      <td>0.075223</td>\n",
              "      <td>0.013600</td>\n",
              "      <td>0.021718</td>\n",
              "      <td>-0.034510</td>\n",
              "      <td>0.068375</td>\n",
              "    </tr>\n",
              "    <tr>\n",
              "      <th>4</th>\n",
              "      <td>0.920340</td>\n",
              "      <td>0.950694</td>\n",
              "      <td>0.845409</td>\n",
              "      <td>0.632547</td>\n",
              "      <td>0.308572</td>\n",
              "      <td>0.247269</td>\n",
              "      <td>0.128222</td>\n",
              "      <td>0.104974</td>\n",
              "      <td>0.082914</td>\n",
              "      <td>0.276260</td>\n",
              "      <td>0.113738</td>\n",
              "      <td>0.145236</td>\n",
              "      <td>0.110332</td>\n",
              "      <td>0.268521</td>\n",
              "      <td>0.151923</td>\n",
              "      <td>0.090044</td>\n",
              "      <td>0.188244</td>\n",
              "      <td>0.167106</td>\n",
              "      <td>0.188905</td>\n",
              "      <td>0.124235</td>\n",
              "      <td>0.185781</td>\n",
              "      <td>0.199485</td>\n",
              "      <td>0.139379</td>\n",
              "      <td>0.172309</td>\n",
              "      <td>0.166144</td>\n",
              "      <td>0.196818</td>\n",
              "      <td>0.248902</td>\n",
              "      <td>0.337316</td>\n",
              "      <td>0.306271</td>\n",
              "      <td>0.136680</td>\n",
              "      <td>0.168596</td>\n",
              "      <td>0.163496</td>\n",
              "      <td>0.167017</td>\n",
              "      <td>0.202146</td>\n",
              "      <td>0.246880</td>\n",
              "      <td>0.257883</td>\n",
              "      <td>0.175370</td>\n",
              "      <td>0.221990</td>\n",
              "      <td>0.219783</td>\n",
              "      <td>0.132988</td>\n",
              "      <td>...</td>\n",
              "      <td>0.083096</td>\n",
              "      <td>-0.064375</td>\n",
              "      <td>-0.107446</td>\n",
              "      <td>0.037056</td>\n",
              "      <td>0.024888</td>\n",
              "      <td>0.052583</td>\n",
              "      <td>-0.103183</td>\n",
              "      <td>0.038567</td>\n",
              "      <td>-0.132565</td>\n",
              "      <td>0.137570</td>\n",
              "      <td>0.004338</td>\n",
              "      <td>-0.017945</td>\n",
              "      <td>-0.075342</td>\n",
              "      <td>-0.096408</td>\n",
              "      <td>-0.001516</td>\n",
              "      <td>-0.016385</td>\n",
              "      <td>0.026263</td>\n",
              "      <td>0.058429</td>\n",
              "      <td>0.013224</td>\n",
              "      <td>0.060016</td>\n",
              "      <td>0.028493</td>\n",
              "      <td>-0.097955</td>\n",
              "      <td>0.023472</td>\n",
              "      <td>0.002371</td>\n",
              "      <td>0.001169</td>\n",
              "      <td>-0.025518</td>\n",
              "      <td>0.026837</td>\n",
              "      <td>0.041880</td>\n",
              "      <td>0.092296</td>\n",
              "      <td>-0.107415</td>\n",
              "      <td>-0.025794</td>\n",
              "      <td>0.015989</td>\n",
              "      <td>0.010267</td>\n",
              "      <td>0.104646</td>\n",
              "      <td>0.021511</td>\n",
              "      <td>0.068039</td>\n",
              "      <td>-0.026708</td>\n",
              "      <td>0.006056</td>\n",
              "      <td>-0.027981</td>\n",
              "      <td>-0.040658</td>\n",
              "    </tr>\n",
              "    <tr>\n",
              "      <th>...</th>\n",
              "      <td>...</td>\n",
              "      <td>...</td>\n",
              "      <td>...</td>\n",
              "      <td>...</td>\n",
              "      <td>...</td>\n",
              "      <td>...</td>\n",
              "      <td>...</td>\n",
              "      <td>...</td>\n",
              "      <td>...</td>\n",
              "      <td>...</td>\n",
              "      <td>...</td>\n",
              "      <td>...</td>\n",
              "      <td>...</td>\n",
              "      <td>...</td>\n",
              "      <td>...</td>\n",
              "      <td>...</td>\n",
              "      <td>...</td>\n",
              "      <td>...</td>\n",
              "      <td>...</td>\n",
              "      <td>...</td>\n",
              "      <td>...</td>\n",
              "      <td>...</td>\n",
              "      <td>...</td>\n",
              "      <td>...</td>\n",
              "      <td>...</td>\n",
              "      <td>...</td>\n",
              "      <td>...</td>\n",
              "      <td>...</td>\n",
              "      <td>...</td>\n",
              "      <td>...</td>\n",
              "      <td>...</td>\n",
              "      <td>...</td>\n",
              "      <td>...</td>\n",
              "      <td>...</td>\n",
              "      <td>...</td>\n",
              "      <td>...</td>\n",
              "      <td>...</td>\n",
              "      <td>...</td>\n",
              "      <td>...</td>\n",
              "      <td>...</td>\n",
              "      <td>...</td>\n",
              "      <td>...</td>\n",
              "      <td>...</td>\n",
              "      <td>...</td>\n",
              "      <td>...</td>\n",
              "      <td>...</td>\n",
              "      <td>...</td>\n",
              "      <td>...</td>\n",
              "      <td>...</td>\n",
              "      <td>...</td>\n",
              "      <td>...</td>\n",
              "      <td>...</td>\n",
              "      <td>...</td>\n",
              "      <td>...</td>\n",
              "      <td>...</td>\n",
              "      <td>...</td>\n",
              "      <td>...</td>\n",
              "      <td>...</td>\n",
              "      <td>...</td>\n",
              "      <td>...</td>\n",
              "      <td>...</td>\n",
              "      <td>...</td>\n",
              "      <td>...</td>\n",
              "      <td>...</td>\n",
              "      <td>...</td>\n",
              "      <td>...</td>\n",
              "      <td>...</td>\n",
              "      <td>...</td>\n",
              "      <td>...</td>\n",
              "      <td>...</td>\n",
              "      <td>...</td>\n",
              "      <td>...</td>\n",
              "      <td>...</td>\n",
              "      <td>...</td>\n",
              "      <td>...</td>\n",
              "      <td>...</td>\n",
              "      <td>...</td>\n",
              "      <td>...</td>\n",
              "      <td>...</td>\n",
              "      <td>...</td>\n",
              "      <td>...</td>\n",
              "    </tr>\n",
              "    <tr>\n",
              "      <th>87549</th>\n",
              "      <td>0.874729</td>\n",
              "      <td>0.432499</td>\n",
              "      <td>0.473693</td>\n",
              "      <td>0.463742</td>\n",
              "      <td>0.603631</td>\n",
              "      <td>0.443234</td>\n",
              "      <td>0.525515</td>\n",
              "      <td>0.476415</td>\n",
              "      <td>0.363245</td>\n",
              "      <td>0.071861</td>\n",
              "      <td>0.147593</td>\n",
              "      <td>0.156577</td>\n",
              "      <td>0.181616</td>\n",
              "      <td>0.029177</td>\n",
              "      <td>0.091741</td>\n",
              "      <td>0.079933</td>\n",
              "      <td>0.166965</td>\n",
              "      <td>0.137199</td>\n",
              "      <td>0.177234</td>\n",
              "      <td>0.102945</td>\n",
              "      <td>0.143672</td>\n",
              "      <td>0.212640</td>\n",
              "      <td>0.127558</td>\n",
              "      <td>0.144911</td>\n",
              "      <td>0.130212</td>\n",
              "      <td>0.099381</td>\n",
              "      <td>0.156074</td>\n",
              "      <td>0.221398</td>\n",
              "      <td>0.188855</td>\n",
              "      <td>0.141815</td>\n",
              "      <td>0.127239</td>\n",
              "      <td>0.217795</td>\n",
              "      <td>0.242646</td>\n",
              "      <td>0.232345</td>\n",
              "      <td>0.298071</td>\n",
              "      <td>0.248005</td>\n",
              "      <td>0.281047</td>\n",
              "      <td>0.336395</td>\n",
              "      <td>0.380307</td>\n",
              "      <td>0.327565</td>\n",
              "      <td>...</td>\n",
              "      <td>0.004289</td>\n",
              "      <td>0.007799</td>\n",
              "      <td>0.040963</td>\n",
              "      <td>0.007980</td>\n",
              "      <td>0.089340</td>\n",
              "      <td>-0.022688</td>\n",
              "      <td>0.032679</td>\n",
              "      <td>0.062448</td>\n",
              "      <td>-0.039825</td>\n",
              "      <td>-0.013003</td>\n",
              "      <td>0.026457</td>\n",
              "      <td>-0.016687</td>\n",
              "      <td>0.128985</td>\n",
              "      <td>-0.093027</td>\n",
              "      <td>-0.003087</td>\n",
              "      <td>-0.019282</td>\n",
              "      <td>-0.025060</td>\n",
              "      <td>-0.072670</td>\n",
              "      <td>0.095421</td>\n",
              "      <td>-0.034164</td>\n",
              "      <td>0.006745</td>\n",
              "      <td>-0.038898</td>\n",
              "      <td>0.015624</td>\n",
              "      <td>0.019945</td>\n",
              "      <td>0.015480</td>\n",
              "      <td>0.030516</td>\n",
              "      <td>-0.074529</td>\n",
              "      <td>0.024291</td>\n",
              "      <td>0.050333</td>\n",
              "      <td>0.014082</td>\n",
              "      <td>0.026282</td>\n",
              "      <td>0.015791</td>\n",
              "      <td>-0.083667</td>\n",
              "      <td>0.044353</td>\n",
              "      <td>0.023777</td>\n",
              "      <td>-0.020418</td>\n",
              "      <td>0.018226</td>\n",
              "      <td>-0.051214</td>\n",
              "      <td>0.029096</td>\n",
              "      <td>0.016076</td>\n",
              "    </tr>\n",
              "    <tr>\n",
              "      <th>87550</th>\n",
              "      <td>0.716907</td>\n",
              "      <td>0.658706</td>\n",
              "      <td>0.489415</td>\n",
              "      <td>0.271919</td>\n",
              "      <td>0.203969</td>\n",
              "      <td>0.134624</td>\n",
              "      <td>-0.004806</td>\n",
              "      <td>-0.075487</td>\n",
              "      <td>0.019823</td>\n",
              "      <td>-0.115344</td>\n",
              "      <td>0.044000</td>\n",
              "      <td>0.148404</td>\n",
              "      <td>0.199827</td>\n",
              "      <td>0.394377</td>\n",
              "      <td>0.363044</td>\n",
              "      <td>0.415582</td>\n",
              "      <td>0.394664</td>\n",
              "      <td>0.529855</td>\n",
              "      <td>0.537993</td>\n",
              "      <td>0.556010</td>\n",
              "      <td>0.553656</td>\n",
              "      <td>0.622935</td>\n",
              "      <td>0.623976</td>\n",
              "      <td>0.584542</td>\n",
              "      <td>0.596840</td>\n",
              "      <td>0.730909</td>\n",
              "      <td>0.562360</td>\n",
              "      <td>0.621985</td>\n",
              "      <td>0.662141</td>\n",
              "      <td>0.704302</td>\n",
              "      <td>0.747141</td>\n",
              "      <td>0.729136</td>\n",
              "      <td>0.805389</td>\n",
              "      <td>0.795346</td>\n",
              "      <td>0.710527</td>\n",
              "      <td>0.810159</td>\n",
              "      <td>0.827909</td>\n",
              "      <td>0.875945</td>\n",
              "      <td>0.840995</td>\n",
              "      <td>0.854008</td>\n",
              "      <td>...</td>\n",
              "      <td>0.041233</td>\n",
              "      <td>0.219439</td>\n",
              "      <td>-0.015471</td>\n",
              "      <td>-0.024736</td>\n",
              "      <td>0.019289</td>\n",
              "      <td>-0.090319</td>\n",
              "      <td>0.039511</td>\n",
              "      <td>-0.023232</td>\n",
              "      <td>-0.029902</td>\n",
              "      <td>0.022515</td>\n",
              "      <td>-0.044675</td>\n",
              "      <td>0.065939</td>\n",
              "      <td>0.038609</td>\n",
              "      <td>0.035056</td>\n",
              "      <td>0.023265</td>\n",
              "      <td>0.062473</td>\n",
              "      <td>0.000903</td>\n",
              "      <td>-0.073806</td>\n",
              "      <td>-0.014504</td>\n",
              "      <td>-0.045510</td>\n",
              "      <td>0.026150</td>\n",
              "      <td>0.010782</td>\n",
              "      <td>0.123447</td>\n",
              "      <td>0.025532</td>\n",
              "      <td>-0.042977</td>\n",
              "      <td>-0.068944</td>\n",
              "      <td>-0.078469</td>\n",
              "      <td>-0.029916</td>\n",
              "      <td>0.005748</td>\n",
              "      <td>-0.100300</td>\n",
              "      <td>-0.025414</td>\n",
              "      <td>-0.068496</td>\n",
              "      <td>0.026733</td>\n",
              "      <td>0.084119</td>\n",
              "      <td>-0.043487</td>\n",
              "      <td>-0.058133</td>\n",
              "      <td>0.025631</td>\n",
              "      <td>-0.027399</td>\n",
              "      <td>0.026809</td>\n",
              "      <td>-0.023818</td>\n",
              "    </tr>\n",
              "    <tr>\n",
              "      <th>87551</th>\n",
              "      <td>0.866261</td>\n",
              "      <td>0.606688</td>\n",
              "      <td>0.582932</td>\n",
              "      <td>0.573484</td>\n",
              "      <td>0.510366</td>\n",
              "      <td>0.569377</td>\n",
              "      <td>0.513837</td>\n",
              "      <td>0.327307</td>\n",
              "      <td>0.267689</td>\n",
              "      <td>0.203115</td>\n",
              "      <td>0.017240</td>\n",
              "      <td>0.009395</td>\n",
              "      <td>0.049986</td>\n",
              "      <td>0.049160</td>\n",
              "      <td>0.038077</td>\n",
              "      <td>0.082943</td>\n",
              "      <td>0.237365</td>\n",
              "      <td>0.260067</td>\n",
              "      <td>0.270071</td>\n",
              "      <td>0.379659</td>\n",
              "      <td>0.422021</td>\n",
              "      <td>0.451237</td>\n",
              "      <td>0.497074</td>\n",
              "      <td>0.497181</td>\n",
              "      <td>0.552475</td>\n",
              "      <td>0.486472</td>\n",
              "      <td>0.535303</td>\n",
              "      <td>0.511482</td>\n",
              "      <td>0.554663</td>\n",
              "      <td>0.582098</td>\n",
              "      <td>0.687064</td>\n",
              "      <td>0.578610</td>\n",
              "      <td>0.624302</td>\n",
              "      <td>0.687322</td>\n",
              "      <td>0.618664</td>\n",
              "      <td>0.629632</td>\n",
              "      <td>0.747069</td>\n",
              "      <td>0.558709</td>\n",
              "      <td>0.627840</td>\n",
              "      <td>0.737913</td>\n",
              "      <td>...</td>\n",
              "      <td>-0.008936</td>\n",
              "      <td>0.054330</td>\n",
              "      <td>-0.019425</td>\n",
              "      <td>0.071643</td>\n",
              "      <td>-0.062190</td>\n",
              "      <td>0.034413</td>\n",
              "      <td>0.017375</td>\n",
              "      <td>0.040498</td>\n",
              "      <td>-0.010437</td>\n",
              "      <td>-0.040500</td>\n",
              "      <td>0.001874</td>\n",
              "      <td>-0.030793</td>\n",
              "      <td>0.051266</td>\n",
              "      <td>0.056022</td>\n",
              "      <td>-0.082877</td>\n",
              "      <td>-0.003935</td>\n",
              "      <td>-0.039246</td>\n",
              "      <td>0.006573</td>\n",
              "      <td>-0.071620</td>\n",
              "      <td>0.003112</td>\n",
              "      <td>-0.095537</td>\n",
              "      <td>-0.025239</td>\n",
              "      <td>0.080811</td>\n",
              "      <td>0.002007</td>\n",
              "      <td>-0.092394</td>\n",
              "      <td>-0.057117</td>\n",
              "      <td>0.022007</td>\n",
              "      <td>-0.011073</td>\n",
              "      <td>0.002117</td>\n",
              "      <td>0.002387</td>\n",
              "      <td>-0.104752</td>\n",
              "      <td>0.022735</td>\n",
              "      <td>-0.046603</td>\n",
              "      <td>0.008141</td>\n",
              "      <td>0.005092</td>\n",
              "      <td>0.014545</td>\n",
              "      <td>-0.010950</td>\n",
              "      <td>-0.044832</td>\n",
              "      <td>0.058147</td>\n",
              "      <td>0.020145</td>\n",
              "    </tr>\n",
              "    <tr>\n",
              "      <th>87552</th>\n",
              "      <td>0.872154</td>\n",
              "      <td>0.619894</td>\n",
              "      <td>0.867232</td>\n",
              "      <td>0.183021</td>\n",
              "      <td>0.089264</td>\n",
              "      <td>0.117962</td>\n",
              "      <td>0.146918</td>\n",
              "      <td>0.098626</td>\n",
              "      <td>0.128095</td>\n",
              "      <td>0.084898</td>\n",
              "      <td>0.140491</td>\n",
              "      <td>0.089319</td>\n",
              "      <td>0.100457</td>\n",
              "      <td>0.023911</td>\n",
              "      <td>0.057440</td>\n",
              "      <td>0.083112</td>\n",
              "      <td>0.019140</td>\n",
              "      <td>-0.020095</td>\n",
              "      <td>0.030313</td>\n",
              "      <td>0.006049</td>\n",
              "      <td>0.083676</td>\n",
              "      <td>0.046500</td>\n",
              "      <td>0.030614</td>\n",
              "      <td>0.073674</td>\n",
              "      <td>-0.019382</td>\n",
              "      <td>-0.111009</td>\n",
              "      <td>-0.018295</td>\n",
              "      <td>0.033761</td>\n",
              "      <td>-0.023635</td>\n",
              "      <td>0.051922</td>\n",
              "      <td>0.012156</td>\n",
              "      <td>0.038285</td>\n",
              "      <td>0.074740</td>\n",
              "      <td>0.035969</td>\n",
              "      <td>0.053982</td>\n",
              "      <td>0.134600</td>\n",
              "      <td>0.094713</td>\n",
              "      <td>-0.016265</td>\n",
              "      <td>0.052020</td>\n",
              "      <td>0.076727</td>\n",
              "      <td>...</td>\n",
              "      <td>-0.119292</td>\n",
              "      <td>-0.060525</td>\n",
              "      <td>-0.003037</td>\n",
              "      <td>0.019323</td>\n",
              "      <td>-0.013503</td>\n",
              "      <td>-0.069972</td>\n",
              "      <td>-0.050024</td>\n",
              "      <td>0.026109</td>\n",
              "      <td>-0.021424</td>\n",
              "      <td>0.098620</td>\n",
              "      <td>-0.013633</td>\n",
              "      <td>-0.006421</td>\n",
              "      <td>0.048728</td>\n",
              "      <td>0.083755</td>\n",
              "      <td>-0.035881</td>\n",
              "      <td>-0.020447</td>\n",
              "      <td>0.021299</td>\n",
              "      <td>0.030257</td>\n",
              "      <td>-0.068323</td>\n",
              "      <td>0.071053</td>\n",
              "      <td>-0.053718</td>\n",
              "      <td>0.056814</td>\n",
              "      <td>-0.018287</td>\n",
              "      <td>0.076563</td>\n",
              "      <td>-0.090303</td>\n",
              "      <td>0.009986</td>\n",
              "      <td>0.031683</td>\n",
              "      <td>0.080229</td>\n",
              "      <td>0.032964</td>\n",
              "      <td>0.073729</td>\n",
              "      <td>-0.066433</td>\n",
              "      <td>-0.024743</td>\n",
              "      <td>0.114407</td>\n",
              "      <td>-0.061687</td>\n",
              "      <td>-0.082595</td>\n",
              "      <td>-0.120628</td>\n",
              "      <td>0.048045</td>\n",
              "      <td>0.016761</td>\n",
              "      <td>0.059386</td>\n",
              "      <td>-0.014590</td>\n",
              "    </tr>\n",
              "    <tr>\n",
              "      <th>87553</th>\n",
              "      <td>0.966239</td>\n",
              "      <td>0.866677</td>\n",
              "      <td>0.778075</td>\n",
              "      <td>0.799876</td>\n",
              "      <td>0.737382</td>\n",
              "      <td>0.553774</td>\n",
              "      <td>0.563379</td>\n",
              "      <td>0.393830</td>\n",
              "      <td>0.346134</td>\n",
              "      <td>0.422160</td>\n",
              "      <td>0.402225</td>\n",
              "      <td>0.312536</td>\n",
              "      <td>0.319943</td>\n",
              "      <td>0.332234</td>\n",
              "      <td>0.397925</td>\n",
              "      <td>0.435076</td>\n",
              "      <td>0.308282</td>\n",
              "      <td>0.324625</td>\n",
              "      <td>0.469386</td>\n",
              "      <td>0.336712</td>\n",
              "      <td>0.468963</td>\n",
              "      <td>0.486495</td>\n",
              "      <td>0.566466</td>\n",
              "      <td>0.503788</td>\n",
              "      <td>0.555295</td>\n",
              "      <td>0.639234</td>\n",
              "      <td>0.569449</td>\n",
              "      <td>0.649695</td>\n",
              "      <td>0.639276</td>\n",
              "      <td>0.675355</td>\n",
              "      <td>0.639379</td>\n",
              "      <td>0.707838</td>\n",
              "      <td>0.753429</td>\n",
              "      <td>0.762205</td>\n",
              "      <td>0.731579</td>\n",
              "      <td>0.756413</td>\n",
              "      <td>0.696650</td>\n",
              "      <td>0.776934</td>\n",
              "      <td>0.765037</td>\n",
              "      <td>0.721962</td>\n",
              "      <td>...</td>\n",
              "      <td>-0.065468</td>\n",
              "      <td>0.062515</td>\n",
              "      <td>0.040538</td>\n",
              "      <td>0.096380</td>\n",
              "      <td>-0.122131</td>\n",
              "      <td>-0.013978</td>\n",
              "      <td>-0.036697</td>\n",
              "      <td>0.032159</td>\n",
              "      <td>0.056834</td>\n",
              "      <td>0.019672</td>\n",
              "      <td>0.056734</td>\n",
              "      <td>-0.009845</td>\n",
              "      <td>-0.030631</td>\n",
              "      <td>-0.079514</td>\n",
              "      <td>-0.100760</td>\n",
              "      <td>-0.041190</td>\n",
              "      <td>-0.031212</td>\n",
              "      <td>0.007934</td>\n",
              "      <td>0.017246</td>\n",
              "      <td>-0.026668</td>\n",
              "      <td>0.042673</td>\n",
              "      <td>-0.057507</td>\n",
              "      <td>-0.113425</td>\n",
              "      <td>0.042630</td>\n",
              "      <td>-0.028699</td>\n",
              "      <td>0.067525</td>\n",
              "      <td>0.048670</td>\n",
              "      <td>-0.072825</td>\n",
              "      <td>-0.016134</td>\n",
              "      <td>0.071805</td>\n",
              "      <td>0.005867</td>\n",
              "      <td>-0.039289</td>\n",
              "      <td>0.051263</td>\n",
              "      <td>-0.044184</td>\n",
              "      <td>0.022706</td>\n",
              "      <td>0.003475</td>\n",
              "      <td>-0.036357</td>\n",
              "      <td>-0.020322</td>\n",
              "      <td>0.017764</td>\n",
              "      <td>-0.021026</td>\n",
              "    </tr>\n",
              "  </tbody>\n",
              "</table>\n",
              "<p>87554 rows × 187 columns</p>\n",
              "</div>"
            ],
            "text/plain": [
              "            0         1         2    ...       184       185       186\n",
              "0      1.131481  0.872671  0.620081  ...  0.044641 -0.015573  0.029672\n",
              "1      0.977723  0.832756  0.444049  ...  0.046749 -0.081514  0.041261\n",
              "2      1.038499  0.694875  0.155566  ...  0.021678 -0.011961 -0.067459\n",
              "3      0.983646  0.767630  0.506983  ...  0.021718 -0.034510  0.068375\n",
              "4      0.920340  0.950694  0.845409  ...  0.006056 -0.027981 -0.040658\n",
              "...         ...       ...       ...  ...       ...       ...       ...\n",
              "87549  0.874729  0.432499  0.473693  ... -0.051214  0.029096  0.016076\n",
              "87550  0.716907  0.658706  0.489415  ... -0.027399  0.026809 -0.023818\n",
              "87551  0.866261  0.606688  0.582932  ... -0.044832  0.058147  0.020145\n",
              "87552  0.872154  0.619894  0.867232  ...  0.016761  0.059386 -0.014590\n",
              "87553  0.966239  0.866677  0.778075  ... -0.020322  0.017764 -0.021026\n",
              "\n",
              "[87554 rows x 187 columns]"
            ]
          },
          "metadata": {
            "tags": []
          },
          "execution_count": 34
        }
      ]
    },
    {
      "cell_type": "code",
      "metadata": {
        "id": "c_h2ikS-sOK7"
      },
      "source": [
        "#Split data into train set(80%) & test set (20%)\n",
        "X_train, X_val, y_train, y_val =train_test_split(X_train, y_train, test_size=0.2, random_state=42) "
      ],
      "id": "c_h2ikS-sOK7",
      "execution_count": null,
      "outputs": []
    },
    {
      "cell_type": "markdown",
      "metadata": {
        "id": "Zm4ganTGsOK8"
      },
      "source": [
        "**Following is a sample signal with added noise**"
      ],
      "id": "Zm4ganTGsOK8"
    },
    {
      "cell_type": "code",
      "metadata": {
        "id": "5ZfwAsvysOK8"
      },
      "source": [
        "x_sample = X_train.loc[5,:]\n",
        "x_original = df_train.drop('label',axis=1).loc[5,:]"
      ],
      "id": "5ZfwAsvysOK8",
      "execution_count": null,
      "outputs": []
    },
    {
      "cell_type": "code",
      "metadata": {
        "colab": {
          "base_uri": "https://localhost:8080/",
          "height": 380
        },
        "id": "gRB0q94zsOK8",
        "outputId": "ea47cedb-451e-48f8-c05a-8c0b78913165"
      },
      "source": [
        "plt.figure(figsize = (10,6))\n",
        "plt.plot(x_original.index, x_original.values, color = 'limegreen', label='Original signal')\n",
        "plt.plot(x_sample.index, x_sample.values,color='orange', label='signal with noise',linewidth=2)\n",
        "plt.title('Sample signal with added noise')\n",
        "plt.xlabel('Index')\n",
        "plt.ylabel('Sample signal with noise')\n",
        "\n",
        "plt.gcf().autofmt_xdate()   # Beautify the x-labels\n",
        "plt.autoscale(tight=True)\n",
        " \n",
        "plt.legend(loc='best')\n",
        "plt.grid(True, linestyle='dashed')"
      ],
      "id": "gRB0q94zsOK8",
      "execution_count": null,
      "outputs": [
        {
          "output_type": "display_data",
          "data": {
            "image/png": "[encoded data removed]",
            "text/plain": [
              "<Figure size 720x432 with 1 Axes>"
            ]
          },
          "metadata": {
            "tags": [],
            "needs_background": "light"
          }
        }
      ]
    },
    {
      "cell_type": "markdown",
      "metadata": {
        "id": "7qWEonZasOK9"
      },
      "source": [
        "### Encoding the target classes with One hot coding"
      ],
      "id": "7qWEonZasOK9"
    },
    {
      "cell_type": "code",
      "metadata": {
        "id": "CgoMcw5WsOK9"
      },
      "source": [
        "# One hot encoding the output of the model\n",
        "y_train = to_categorical(y_train)\n",
        "y_val = to_categorical(y_val)\n",
        "y_test = to_categorical(y_test)"
      ],
      "id": "CgoMcw5WsOK9",
      "execution_count": null,
      "outputs": []
    },
    {
      "cell_type": "code",
      "metadata": {
        "colab": {
          "base_uri": "https://localhost:8080/"
        },
        "id": "XqZ7wFKP02NE",
        "outputId": "abe0b3c6-21d3-4c18-9662-8e3ad158e905"
      },
      "source": [
        "y_test"
      ],
      "id": "XqZ7wFKP02NE",
      "execution_count": null,
      "outputs": [
        {
          "output_type": "execute_result",
          "data": {
            "text/plain": [
              "array([[1., 0., 0., 0., 0.],\n",
              "       [1., 0., 0., 0., 0.],\n",
              "       [1., 0., 0., 0., 0.],\n",
              "       ...,\n",
              "       [0., 0., 0., 0., 1.],\n",
              "       [0., 0., 0., 0., 1.],\n",
              "       [0., 0., 0., 0., 1.]], dtype=float32)"
            ]
          },
          "metadata": {
            "tags": []
          },
          "execution_count": 39
        }
      ]
    },
    {
      "cell_type": "code",
      "metadata": {
        "colab": {
          "base_uri": "https://localhost:8080/"
        },
        "id": "5a4qWEi8sOK9",
        "outputId": "01b84577-bda5-4042-c583-8ae1412aa0d0"
      },
      "source": [
        "y_train.shape"
      ],
      "id": "5a4qWEi8sOK9",
      "execution_count": null,
      "outputs": [
        {
          "output_type": "execute_result",
          "data": {
            "text/plain": [
              "(70043, 5)"
            ]
          },
          "metadata": {
            "tags": []
          },
          "execution_count": 40
        }
      ]
    },
    {
      "cell_type": "code",
      "metadata": {
        "colab": {
          "base_uri": "https://localhost:8080/"
        },
        "id": "hNr5rJThsOK-",
        "outputId": "d9f655b5-54cd-456b-82bb-ec6d5288a391"
      },
      "source": [
        "X_train.shape"
      ],
      "id": "hNr5rJThsOK-",
      "execution_count": null,
      "outputs": [
        {
          "output_type": "execute_result",
          "data": {
            "text/plain": [
              "(70043, 187)"
            ]
          },
          "metadata": {
            "tags": []
          },
          "execution_count": 41
        }
      ]
    },
    {
      "cell_type": "code",
      "metadata": {
        "id": "Pp1RXHGXsOK-"
      },
      "source": [
        "# Convert to numpy arrays\n",
        "x_train = np.array(X_train)\n",
        "x_val = np.array(X_val)\n",
        "x_test = np.array(X_test)"
      ],
      "id": "Pp1RXHGXsOK-",
      "execution_count": null,
      "outputs": []
    },
    {
      "cell_type": "code",
      "metadata": {
        "colab": {
          "base_uri": "https://localhost:8080/"
        },
        "id": "XRaLXTrz4BL1",
        "outputId": "712a5047-9400-4ad7-d440-bb070f6cc6cc"
      },
      "source": [
        "x_test"
      ],
      "id": "XRaLXTrz4BL1",
      "execution_count": null,
      "outputs": [
        {
          "output_type": "execute_result",
          "data": {
            "text/plain": [
              "array([[1.        , 0.75826448, 0.11157025, ..., 0.        , 0.        ,\n",
              "        0.        ],\n",
              "       [0.90842491, 0.7838828 , 0.53113556, ..., 0.        , 0.        ,\n",
              "        0.        ],\n",
              "       [0.73008847, 0.21238938, 0.        , ..., 0.        , 0.        ,\n",
              "        0.        ],\n",
              "       ...,\n",
              "       [1.        , 0.96735907, 0.62017804, ..., 0.        , 0.        ,\n",
              "        0.        ],\n",
              "       [0.98412699, 0.5674603 , 0.60714287, ..., 0.        , 0.        ,\n",
              "        0.        ],\n",
              "       [0.97396964, 0.91323209, 0.86550975, ..., 0.        , 0.        ,\n",
              "        0.        ]])"
            ]
          },
          "metadata": {
            "tags": []
          },
          "execution_count": 43
        }
      ]
    },
    {
      "cell_type": "markdown",
      "metadata": {
        "id": "hwzjLV9SsOK_"
      },
      "source": [
        "Reshaping the X_train, & X_test from (n_samples, n_features) to (n_samples, number of time steps, n_features): CNN input format"
      ],
      "id": "hwzjLV9SsOK_"
    },
    {
      "cell_type": "code",
      "metadata": {
        "colab": {
          "base_uri": "https://localhost:8080/"
        },
        "id": "dXzqhiJu4KA8",
        "outputId": "b67de465-ef01-418b-dd73-c2e456daeab7"
      },
      "source": [
        "x_train.shape[0]"
      ],
      "id": "dXzqhiJu4KA8",
      "execution_count": null,
      "outputs": [
        {
          "output_type": "execute_result",
          "data": {
            "text/plain": [
              "70043"
            ]
          },
          "metadata": {
            "tags": []
          },
          "execution_count": 44
        }
      ]
    },
    {
      "cell_type": "code",
      "metadata": {
        "colab": {
          "base_uri": "https://localhost:8080/"
        },
        "id": "8Z0cV5yl4QuO",
        "outputId": "25937a6f-eb67-4f20-a747-54409006f091"
      },
      "source": [
        "x_train.shape[1]"
      ],
      "id": "8Z0cV5yl4QuO",
      "execution_count": null,
      "outputs": [
        {
          "output_type": "execute_result",
          "data": {
            "text/plain": [
              "187"
            ]
          },
          "metadata": {
            "tags": []
          },
          "execution_count": 45
        }
      ]
    },
    {
      "cell_type": "code",
      "metadata": {
        "id": "y5oIFgbhsOK_"
      },
      "source": [
        "X_train =x_train.reshape(x_train.shape[0], 1, x_train.shape[1])   # number of time steps is 1\n",
        "X_val =x_val.reshape(x_val.shape[0], 1, x_val.shape[1])   # number of time steps is 1\n",
        "X_test = x_test.reshape(x_test.shape[0], 1, x_test.shape[1])     # number of time steps is 1"
      ],
      "id": "y5oIFgbhsOK_",
      "execution_count": null,
      "outputs": []
    },
    {
      "cell_type": "code",
      "metadata": {
        "colab": {
          "base_uri": "https://localhost:8080/"
        },
        "id": "J6OwbvRzsOK_",
        "outputId": "efbaaa66-2add-4fbd-af75-8e380b75d03c"
      },
      "source": [
        "n_classes = y_train.shape[1]\n",
        "n_classes"
      ],
      "id": "J6OwbvRzsOK_",
      "execution_count": null,
      "outputs": [
        {
          "output_type": "execute_result",
          "data": {
            "text/plain": [
              "5"
            ]
          },
          "metadata": {
            "tags": []
          },
          "execution_count": 47
        }
      ]
    },
    {
      "cell_type": "markdown",
      "metadata": {
        "id": "vvRnPpS4sOK_"
      },
      "source": [
        "## Building the CNN model"
      ],
      "id": "vvRnPpS4sOK_"
    },
    {
      "cell_type": "markdown",
      "metadata": {
        "id": "QQ5G7ckSsOLA"
      },
      "source": [
        "The model has three Convolution1D layers & two Dropout layers. Followed by 2 Dense layers, two of which have the ReLU activation function, the last layer has 5 nodes, corresponding to the 5 output class labels, with a Softmax activation function.   \n",
        "The softmax activation function is used when the outputs given to train are one hot encoded as this function turns a vector of n values into a vector with n values that sum to 1, thus representing the probability of each class represented by the n values."
      ],
      "id": "QQ5G7ckSsOLA"
    },
    {
      "cell_type": "code",
      "metadata": {
        "colab": {
          "base_uri": "https://localhost:8080/"
        },
        "id": "yAF1SH36sOLA",
        "outputId": "a7cbf134-3483-481a-d9db-aa5c90242a86"
      },
      "source": [
        "input_shape = X_train.shape[1:]\n",
        "input_shape"
      ],
      "id": "yAF1SH36sOLA",
      "execution_count": null,
      "outputs": [
        {
          "output_type": "execute_result",
          "data": {
            "text/plain": [
              "(1, 187)"
            ]
          },
          "metadata": {
            "tags": []
          },
          "execution_count": 48
        }
      ]
    },
    {
      "cell_type": "code",
      "metadata": {
        "id": "8CkbSsnHsOLB"
      },
      "source": [
        "model = Sequential()\n",
        "model.add(Conv1D(filters=128, kernel_size=3, activation='relu', padding='same', input_shape=input_shape))\n",
        "model.add(Conv1D(filters=64, kernel_size=3, activation='relu', padding='same'))\n",
        "model.add(Conv1D(filters=64, kernel_size=3, activation='relu',padding='same'))\n",
        "model.add(Dropout(0.5))\n",
        "model.add(Dense(64, activation='relu'))    # Fully connected layer\n",
        "model.add(Dropout(0.5))\n",
        "model.add(Dense(32, activation='relu'))    # Fully connected layer\n",
        "model.add(Flatten())\n",
        "model.add(Dense(n_classes, activation='softmax'))"
      ],
      "id": "8CkbSsnHsOLB",
      "execution_count": null,
      "outputs": []
    },
    {
      "cell_type": "code",
      "metadata": {
        "id": "7wbOqtzfsOLC"
      },
      "source": [
        "# Compile model\n",
        "model.compile(optimizer = Adam(0.0001), \n",
        "                loss = 'categorical_crossentropy', \n",
        "                metrics = ['accuracy'])"
      ],
      "id": "7wbOqtzfsOLC",
      "execution_count": null,
      "outputs": []
    },
    {
      "cell_type": "code",
      "metadata": {
        "colab": {
          "base_uri": "https://localhost:8080/"
        },
        "id": "RJW9bssUsOLC",
        "outputId": "a4786360-d358-4be0-ca7d-fd744ca8f723"
      },
      "source": [
        "print('Model summary')\n",
        "print(model.summary())\n",
        "\n",
        "print(\"inputs: \" , model.input_shape)\n",
        "print(\"outputs: \", model.output_shape)\n",
        "print(\"actual inputs: \", np.shape(X_train))\n",
        "print(\"actual outputs: \", np.shape(y_train))"
      ],
      "id": "RJW9bssUsOLC",
      "execution_count": null,
      "outputs": [
        {
          "output_type": "stream",
          "text": [
            "Model summary\n",
            "Model: \"sequential\"\n",
            "_________________________________________________________________\n",
            "Layer (type)                 Output Shape              Param #   \n",
            "=================================================================\n",
            "conv1d (Conv1D)              (None, 1, 128)            71936     \n",
            "_________________________________________________________________\n",
            "conv1d_1 (Conv1D)            (None, 1, 64)             24640     \n",
            "_________________________________________________________________\n",
            "conv1d_2 (Conv1D)            (None, 1, 64)             12352     \n",
            "_________________________________________________________________\n",
            "dropout (Dropout)            (None, 1, 64)             0         \n",
            "_________________________________________________________________\n",
            "dense (Dense)                (None, 1, 64)             4160      \n",
            "_________________________________________________________________\n",
            "dropout_1 (Dropout)          (None, 1, 64)             0         \n",
            "_________________________________________________________________\n",
            "dense_1 (Dense)              (None, 1, 32)             2080      \n",
            "_________________________________________________________________\n",
            "flatten (Flatten)            (None, 32)                0         \n",
            "_________________________________________________________________\n",
            "dense_2 (Dense)              (None, 5)                 165       \n",
            "=================================================================\n",
            "Total params: 115,333\n",
            "Trainable params: 115,333\n",
            "Non-trainable params: 0\n",
            "_________________________________________________________________\n",
            "None\n",
            "inputs:  (None, 1, 187)\n",
            "outputs:  (None, 5)\n",
            "actual inputs:  (70043, 1, 187)\n",
            "actual outputs:  (70043, 5)\n"
          ],
          "name": "stdout"
        }
      ]
    },
    {
      "cell_type": "markdown",
      "metadata": {
        "id": "IS6T7CkGsOLD"
      },
      "source": [
        "### Plotting the Model"
      ],
      "id": "IS6T7CkGsOLD"
    },
    {
      "cell_type": "code",
      "metadata": {
        "colab": {
          "base_uri": "https://localhost:8080/",
          "height": 952
        },
        "id": "SrZ63czzsOLD",
        "outputId": "8138d880-9c37-4c72-a177-d34feb031432"
      },
      "source": [
        "from IPython.display import Image\n",
        "from keras.utils.vis_utils import model_to_dot\n",
        "\n",
        "Image(model_to_dot(model).create(prog='dot', format='png'))"
      ],
      "id": "SrZ63czzsOLD",
      "execution_count": null,
      "outputs": [
        {
          "output_type": "execute_result",
          "data": {
            "image/png": "[encoded data removed]",
            "text/plain": [
              "<IPython.core.display.Image object>"
            ]
          },
          "metadata": {
            "tags": []
          },
          "execution_count": 52
        }
      ]
    },
    {
      "cell_type": "markdown",
      "metadata": {
        "id": "bk06r1CQsOLD"
      },
      "source": [
        "### Training the model"
      ],
      "id": "bk06r1CQsOLD"
    },
    {
      "cell_type": "code",
      "metadata": {
        "colab": {
          "base_uri": "https://localhost:8080/"
        },
        "id": "EVYW4unusOLE",
        "outputId": "d107e12a-74b4-469c-a94a-a79bd35e7467"
      },
      "source": [
        "batch_size = 16\n",
        "\n",
        "history=model.fit(X_train, y_train, batch_size=batch_size,epochs=20,validation_data=(X_val, y_val))"
      ],
      "id": "EVYW4unusOLE",
      "execution_count": null,
      "outputs": [
        {
          "output_type": "stream",
          "text": [
            "Epoch 1/20\n",
            "4378/4378 [==============================] - 30s 3ms/step - loss: 0.7179 - accuracy: 0.8318 - val_loss: 0.3206 - val_accuracy: 0.9113\n",
            "Epoch 2/20\n",
            "4378/4378 [==============================] - 15s 3ms/step - loss: 0.3391 - accuracy: 0.9074 - val_loss: 0.2484 - val_accuracy: 0.9347\n",
            "Epoch 3/20\n",
            "4378/4378 [==============================] - 14s 3ms/step - loss: 0.2692 - accuracy: 0.9295 - val_loss: 0.2215 - val_accuracy: 0.9402\n",
            "Epoch 4/20\n",
            "4378/4378 [==============================] - 14s 3ms/step - loss: 0.2300 - accuracy: 0.9386 - val_loss: 0.1987 - val_accuracy: 0.9434\n",
            "Epoch 5/20\n",
            "4378/4378 [==============================] - 14s 3ms/step - loss: 0.2112 - accuracy: 0.9430 - val_loss: 0.1800 - val_accuracy: 0.9475\n",
            "Epoch 6/20\n",
            "4378/4378 [==============================] - 17s 4ms/step - loss: 0.1952 - accuracy: 0.9443 - val_loss: 0.1737 - val_accuracy: 0.9543\n",
            "Epoch 7/20\n",
            "4378/4378 [==============================] - 16s 4ms/step - loss: 0.1795 - accuracy: 0.9498 - val_loss: 0.1645 - val_accuracy: 0.9580\n",
            "Epoch 8/20\n",
            "4378/4378 [==============================] - 14s 3ms/step - loss: 0.1674 - accuracy: 0.9534 - val_loss: 0.1526 - val_accuracy: 0.9611\n",
            "Epoch 9/20\n",
            "4378/4378 [==============================] - 14s 3ms/step - loss: 0.1523 - accuracy: 0.9598 - val_loss: 0.1401 - val_accuracy: 0.9629\n",
            "Epoch 10/20\n",
            "4378/4378 [==============================] - 15s 4ms/step - loss: 0.1447 - accuracy: 0.9620 - val_loss: 0.1381 - val_accuracy: 0.9634\n",
            "Epoch 11/20\n",
            "4378/4378 [==============================] - 15s 4ms/step - loss: 0.1378 - accuracy: 0.9630 - val_loss: 0.1373 - val_accuracy: 0.9619\n",
            "Epoch 12/20\n",
            "4378/4378 [==============================] - 15s 3ms/step - loss: 0.1296 - accuracy: 0.9638 - val_loss: 0.1434 - val_accuracy: 0.9612\n",
            "Epoch 13/20\n",
            "4378/4378 [==============================] - 16s 4ms/step - loss: 0.1237 - accuracy: 0.9662 - val_loss: 0.1305 - val_accuracy: 0.9668\n",
            "Epoch 14/20\n",
            "4378/4378 [==============================] - 15s 3ms/step - loss: 0.1157 - accuracy: 0.9689 - val_loss: 0.1325 - val_accuracy: 0.9656\n",
            "Epoch 15/20\n",
            "4378/4378 [==============================] - 15s 3ms/step - loss: 0.1118 - accuracy: 0.9701 - val_loss: 0.1296 - val_accuracy: 0.9692\n",
            "Epoch 16/20\n",
            "4378/4378 [==============================] - 16s 4ms/step - loss: 0.1091 - accuracy: 0.9702 - val_loss: 0.1230 - val_accuracy: 0.9685\n",
            "Epoch 17/20\n",
            "4378/4378 [==============================] - 15s 3ms/step - loss: 0.1047 - accuracy: 0.9724 - val_loss: 0.1180 - val_accuracy: 0.9680\n",
            "Epoch 18/20\n",
            "4378/4378 [==============================] - 15s 3ms/step - loss: 0.1004 - accuracy: 0.9731 - val_loss: 0.1208 - val_accuracy: 0.9681\n",
            "Epoch 19/20\n",
            "4378/4378 [==============================] - 15s 3ms/step - loss: 0.1012 - accuracy: 0.9725 - val_loss: 0.1136 - val_accuracy: 0.9701\n",
            "Epoch 20/20\n",
            "4378/4378 [==============================] - 14s 3ms/step - loss: 0.0950 - accuracy: 0.9742 - val_loss: 0.1174 - val_accuracy: 0.9702\n"
          ],
          "name": "stdout"
        }
      ]
    },
    {
      "cell_type": "code",
      "metadata": {
        "colab": {
          "base_uri": "https://localhost:8080/"
        },
        "id": "o81fULgYsOLE",
        "outputId": "a9f10603-df62-4bd8-aadf-044094e548a2"
      },
      "source": [
        "# list all data in history\n",
        "print(history.history.keys())"
      ],
      "id": "o81fULgYsOLE",
      "execution_count": null,
      "outputs": [
        {
          "output_type": "stream",
          "text": [
            "dict_keys(['loss', 'accuracy', 'val_loss', 'val_accuracy'])\n"
          ],
          "name": "stdout"
        }
      ]
    },
    {
      "cell_type": "code",
      "metadata": {
        "colab": {
          "base_uri": "https://localhost:8080/",
          "height": 295
        },
        "id": "RkQhLVbPsOLF",
        "outputId": "a6636da6-2e91-4b61-b98c-4f0cc0652894"
      },
      "source": [
        "# summarize history for accuracy\n",
        "plt.plot(history.history['accuracy'])\n",
        "plt.plot(history.history['val_accuracy'])\n",
        "plt.title('model accuracy')\n",
        "plt.ylabel('accuracy')\n",
        "plt.xlabel('epoch')\n",
        "plt.legend(['train', 'validation'], loc='upper left')\n",
        "plt.show()"
      ],
      "id": "RkQhLVbPsOLF",
      "execution_count": null,
      "outputs": [
        {
          "output_type": "display_data",
          "data": {
            "image/png": "[encoded data removed]",
            "text/plain": [
              "<Figure size 432x288 with 1 Axes>"
            ]
          },
          "metadata": {
            "tags": [],
            "needs_background": "light"
          }
        }
      ]
    },
    {
      "cell_type": "code",
      "metadata": {
        "colab": {
          "base_uri": "https://localhost:8080/",
          "height": 295
        },
        "id": "l8ULbJWtsOLF",
        "outputId": "e7719d22-4d27-47b5-ab28-27e25ca6fa28"
      },
      "source": [
        "# summarize history for loss\n",
        "plt.plot(history.history['loss'])\n",
        "plt.plot(history.history['val_loss'])\n",
        "plt.title('model loss')\n",
        "plt.ylabel('loss')\n",
        "plt.xlabel('epoch')\n",
        "plt.legend(['train', 'validation'], loc='upper left')\n",
        "plt.show()"
      ],
      "id": "l8ULbJWtsOLF",
      "execution_count": null,
      "outputs": [
        {
          "output_type": "display_data",
          "data": {
            "image/png": "[encoded data removed]",
            "text/plain": [
              "<Figure size 432x288 with 1 Axes>"
            ]
          },
          "metadata": {
            "tags": [],
            "needs_background": "light"
          }
        }
      ]
    },
    {
      "cell_type": "markdown",
      "metadata": {
        "id": "IC1F3LeusOLG"
      },
      "source": [
        "### Model performance on test data"
      ],
      "id": "IC1F3LeusOLG"
    },
    {
      "cell_type": "code",
      "metadata": {
        "colab": {
          "base_uri": "https://localhost:8080/"
        },
        "id": "KMuAlplksOLG",
        "outputId": "656ea10b-0728-44ad-8850-833f83bae548"
      },
      "source": [
        "y_pred = model.predict(X_test)\n",
        "y_pred"
      ],
      "id": "KMuAlplksOLG",
      "execution_count": null,
      "outputs": [
        {
          "output_type": "execute_result",
          "data": {
            "text/plain": [
              "array([[9.9922836e-01, 7.7106536e-04, 4.3015018e-07, 9.9087970e-08,\n",
              "        2.0029526e-08],\n",
              "       [9.6079195e-01, 3.3432733e-02, 3.3719956e-03, 1.5566224e-03,\n",
              "        8.4669149e-04],\n",
              "       [9.7666430e-01, 1.9954281e-02, 1.1873778e-03, 1.2864494e-03,\n",
              "        9.0772350e-04],\n",
              "       ...,\n",
              "       [5.4642726e-02, 2.7764577e-03, 5.2984811e-02, 1.8461625e-03,\n",
              "        8.8774991e-01],\n",
              "       [4.2531330e-09, 3.6886016e-13, 1.6415665e-08, 1.0108237e-14,\n",
              "        1.0000000e+00],\n",
              "       [2.8530978e-10, 4.9767942e-15, 9.0932428e-10, 8.4317690e-17,\n",
              "        1.0000000e+00]], dtype=float32)"
            ]
          },
          "metadata": {
            "tags": []
          },
          "execution_count": 57
        }
      ]
    },
    {
      "cell_type": "code",
      "metadata": {
        "colab": {
          "base_uri": "https://localhost:8080/"
        },
        "id": "bUwB1VXwsOLG",
        "outputId": "2ffdd0ab-65c8-41d8-88ca-04b9e2542960"
      },
      "source": [
        "# Convert class probabilities to classes\n",
        "y_pred = y_pred.argmax(axis=1)\n",
        "y_pred"
      ],
      "id": "bUwB1VXwsOLG",
      "execution_count": null,
      "outputs": [
        {
          "output_type": "execute_result",
          "data": {
            "text/plain": [
              "array([0, 0, 0, ..., 4, 4, 4])"
            ]
          },
          "metadata": {
            "tags": []
          },
          "execution_count": 58
        }
      ]
    },
    {
      "cell_type": "code",
      "metadata": {
        "colab": {
          "base_uri": "https://localhost:8080/"
        },
        "id": "OShx5roqsOLH",
        "outputId": "42c804a7-3970-44f4-8789-ac1cf71cc780"
      },
      "source": [
        "y_test = y_test.argmax(axis=1)\n",
        "y_test"
      ],
      "id": "OShx5roqsOLH",
      "execution_count": null,
      "outputs": [
        {
          "output_type": "execute_result",
          "data": {
            "text/plain": [
              "array([0, 0, 0, ..., 4, 4, 4])"
            ]
          },
          "metadata": {
            "tags": []
          },
          "execution_count": 59
        }
      ]
    },
    {
      "cell_type": "markdown",
      "metadata": {
        "id": "iLr3kYJcsOLH"
      },
      "source": [
        "### Confusion matrix"
      ],
      "id": "iLr3kYJcsOLH"
    },
    {
      "cell_type": "code",
      "metadata": {
        "colab": {
          "base_uri": "https://localhost:8080/",
          "height": 387
        },
        "id": "p0qjFZO0sOLH",
        "outputId": "85478dd3-b859-4065-a048-7f63815bdea3"
      },
      "source": [
        "def show_confusion_matrix(confusion_matrix):\n",
        "  plt.figure(figsize=(12,6))\n",
        "  hmap = sns.heatmap(confusion_matrix, annot=True, fmt=\"d\", cmap=\"cool\")\n",
        "  hmap.yaxis.set_ticklabels(hmap.yaxis.get_ticklabels(),rotation=0, ha='right')\n",
        "  hmap.xaxis.set_ticklabels(hmap.xaxis.get_ticklabels(),rotation=0, ha='right')\n",
        "  plt.ylabel('True sentiment')\n",
        "  plt.xlabel('Predicted sentiment');\n",
        "cm = confusion_matrix(y_test, y_pred)\n",
        "df_cm = pd.DataFrame(cm, index=class_names, columns=class_names)\n",
        "show_confusion_matrix(df_cm)"
      ],
      "id": "p0qjFZO0sOLH",
      "execution_count": null,
      "outputs": [
        {
          "output_type": "display_data",
          "data": {
            "image/png": "[encoded data removed]",
            "text/plain": [
              "<Figure size 864x432 with 2 Axes>"
            ]
          },
          "metadata": {
            "tags": [],
            "needs_background": "light"
          }
        }
      ]
    },
    {
      "cell_type": "markdown",
      "metadata": {
        "id": "iiaGY5SysOLI"
      },
      "source": [
        "### Classification Report"
      ],
      "id": "iiaGY5SysOLI"
    },
    {
      "cell_type": "code",
      "metadata": {
        "colab": {
          "base_uri": "https://localhost:8080/"
        },
        "id": "9ctOLNPxsOLI",
        "outputId": "5d8ffc6a-a0ea-4f9c-8644-7a20832f7c7f"
      },
      "source": [
        "class_report= classification_report(y_test, y_pred)\n",
        "print(class_report)"
      ],
      "id": "9ctOLNPxsOLI",
      "execution_count": null,
      "outputs": [
        {
          "output_type": "stream",
          "text": [
            "              precision    recall  f1-score   support\n",
            "\n",
            "           0       0.98      0.99      0.99     18118\n",
            "           1       0.91      0.58      0.71       556\n",
            "           2       0.94      0.92      0.93      1448\n",
            "           3       0.79      0.57      0.66       162\n",
            "           4       0.98      0.96      0.97      1608\n",
            "\n",
            "    accuracy                           0.97     21892\n",
            "   macro avg       0.92      0.80      0.85     21892\n",
            "weighted avg       0.97      0.97      0.97     21892\n",
            "\n"
          ],
          "name": "stdout"
        }
      ]
    },
    {
      "cell_type": "markdown",
      "metadata": {
        "id": "Hfc0eEvUsOLI"
      },
      "source": [
        "I achieved an **accuracy of 0.97 & f1_score of 0.97** on the testsing data."
      ],
      "id": "Hfc0eEvUsOLI"
    },
    {
      "cell_type": "code",
      "metadata": {
        "id": "t51ZAEmAsOLJ"
      },
      "source": [
        "# Binarize the targets & predictions to plot PR & ROC curves\n",
        "y_test= label_binarize(y_test, classes=[*range(n_classes)])\n",
        "y_pred = label_binarize(y_pred, classes=[*range(n_classes)])"
      ],
      "id": "t51ZAEmAsOLJ",
      "execution_count": null,
      "outputs": []
    },
    {
      "cell_type": "markdown",
      "metadata": {
        "id": "QTj6ap86sOLJ"
      },
      "source": [
        "For imbalanced dataset, **the precision-recall curve & ROC curve** are better metrics for evaluating our model performance."
      ],
      "id": "QTj6ap86sOLJ"
    },
    {
      "cell_type": "markdown",
      "metadata": {
        "id": "SKBNR5f3sOLJ"
      },
      "source": [
        "### Plot PR (Precision-Recall) curve:"
      ],
      "id": "SKBNR5f3sOLJ"
    },
    {
      "cell_type": "code",
      "metadata": {
        "colab": {
          "base_uri": "https://localhost:8080/",
          "height": 403
        },
        "id": "IbeMJCnNsOLJ",
        "outputId": "d4cb8acf-dda9-42f5-e9f0-3adb54d7d1cb"
      },
      "source": [
        "# plot model precision-recall curve\n",
        "precision = dict()\n",
        "recall = dict()\n",
        "plt.figure(figsize=(12,6))\n",
        "for i in range(n_classes):\n",
        "    precision[i], recall[i], _ = precision_recall_curve(y_test[:, i],\n",
        "                                                        y_pred[:, i])\n",
        "    plt.plot(recall[i], precision[i], lw=2, label='class {}'.format(i))\n",
        "\n",
        "plt.xlabel(\"recall\")\n",
        "plt.ylabel(\"precision\")\n",
        "plt.legend(loc=\"best\")\n",
        "plt.title(\"precision vs. recall curve\")\n",
        "plt.show()"
      ],
      "id": "IbeMJCnNsOLJ",
      "execution_count": null,
      "outputs": [
        {
          "output_type": "display_data",
          "data": {
            "image/png": "[encoded data removed]",
            "text/plain": [
              "<Figure size 864x432 with 1 Axes>"
            ]
          },
          "metadata": {
            "tags": [],
            "needs_background": "light"
          }
        }
      ]
    },
    {
      "cell_type": "markdown",
      "metadata": {
        "id": "Hb8gWo87sOLK"
      },
      "source": [
        "### ROC (Receiver operating characterstic) curve:"
      ],
      "id": "Hb8gWo87sOLK"
    },
    {
      "cell_type": "code",
      "metadata": {
        "colab": {
          "base_uri": "https://localhost:8080/",
          "height": 403
        },
        "id": "TdvQ5qg_sOLK",
        "outputId": "0aa71683-29a5-4504-877f-5105dd136a10"
      },
      "source": [
        "# plot roc curve\n",
        "fpr = dict()\n",
        "tpr = dict()\n",
        "\n",
        "plt.figure(figsize=(12,6))\n",
        "for i in range(n_classes):\n",
        "    fpr[i], tpr[i], _ = roc_curve(y_test[:, i],\n",
        "                                  y_pred[:, i])\n",
        "    plt.plot(fpr[i], tpr[i], lw=2, label='class {}'.format(i))\n",
        "\n",
        "plt.xlabel(\"false positive rate\")\n",
        "plt.ylabel(\"true positive rate\")\n",
        "plt.legend(loc=\"best\")\n",
        "plt.title(\"ROC curve\")\n",
        "plt.show()"
      ],
      "id": "TdvQ5qg_sOLK",
      "execution_count": null,
      "outputs": [
        {
          "output_type": "display_data",
          "data": {
            "image/png": "[encoded data removed]",
            "text/plain": [
              "<Figure size 864x432 with 1 Axes>"
            ]
          },
          "metadata": {
            "tags": [],
            "needs_background": "light"
          }
        }
      ]
    },
    {
      "cell_type": "markdown",
      "metadata": {
        "id": "JmWwtcq_sOLK"
      },
      "source": [
        "Insights:\n",
        "* Based on the precision_recall curve & roc_curve, the model is clearly having difficulties in predicting class 1 & class 3 correctly."
      ],
      "id": "JmWwtcq_sOLK"
    },
    {
      "cell_type": "markdown",
      "metadata": {
        "id": "6nUN0RIBsOLL"
      },
      "source": [
        "### Model prediction on a random signal"
      ],
      "id": "6nUN0RIBsOLL"
    },
    {
      "cell_type": "markdown",
      "metadata": {
        "id": "REy5TYV0sOLL"
      },
      "source": [
        "Now randomly visualizing one of the heartbeat signals whilst performing predictions using our model."
      ],
      "id": "REy5TYV0sOLL"
    },
    {
      "cell_type": "code",
      "metadata": {
        "colab": {
          "base_uri": "https://localhost:8080/",
          "height": 297
        },
        "id": "UPM0AH64sOLL",
        "outputId": "dd9bfeff-44fe-472a-bb79-f122b6d2ce44"
      },
      "source": [
        "i = random.randint(0, len(X_test)-1)\n",
        "output = model(np.expand_dims(X_test[i], 0))\n",
        "x_random = pd.DataFrame(X_test[i])\n",
        "x_random = x_random.loc[0,:]\n",
        "pred = output.numpy()[0]\n",
        "plt.plot(x_random.index, x_random.values)\n",
        "print(\"Actual label: \", class_names[np.argmax(y_test[i])])\n",
        "print(\"Model prediction : \", class_names[np.argmax(pred)],\n",
        "      \" with probability \", pred[np.argmax(pred)])"
      ],
      "id": "UPM0AH64sOLL",
      "execution_count": null,
      "outputs": [
        {
          "output_type": "stream",
          "text": [
            "Actual label:  N\n",
            "Model prediction :  N  with probability  0.9993333\n"
          ],
          "name": "stdout"
        },
        {
          "output_type": "display_data",
          "data": {
            "image/png": "[encoded data removed]",
            "text/plain": [
              "<Figure size 432x288 with 1 Axes>"
            ]
          },
          "metadata": {
            "tags": [],
            "needs_background": "light"
          }
        }
      ]
    }
  ]
}